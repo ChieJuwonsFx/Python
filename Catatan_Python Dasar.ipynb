{
  "cells": [
    {
      "cell_type": "markdown",
      "source": [
        "# **Print**\n",
        "\n",
        "---\n",
        "\n",
        "`print()` dalam bahasa pemrograman Python adalah sebuah *command* untuk menampilkan hasil di dalam ().  "
      ],
      "metadata": {
        "id": "tOayeEdGVU9h"
      }
    },
    {
      "cell_type": "markdown",
      "source": [
        "## String (Karakter/Huruf)\n",
        "\n",
        "Untuk menampilkan sebuah karakter atau kalimat menggunakan fungsi `print()` maka karakter atau kalimat tersebut harus dilingkupi dengan tanda kutip `(\"\")`"
      ],
      "metadata": {
        "id": "vNXbbo_17o7d"
      }
    },
    {
      "cell_type": "code",
      "source": [
        "print(\"Hello World!\")"
      ],
      "metadata": {
        "id": "GroVrMYL7zRs"
      },
      "execution_count": null,
      "outputs": []
    },
    {
      "cell_type": "markdown",
      "source": [
        "## Angka\n",
        "\n",
        "Untuk mencetak nilai numerik, masukkan angka tanpa tanda kutip."
      ],
      "metadata": {
        "id": "NwNvaAAc72cB"
      }
    },
    {
      "cell_type": "code",
      "source": [
        "print(10)\n",
        "print(7.5)"
      ],
      "metadata": {
        "id": "uykrtT9Y75XB"
      },
      "execution_count": null,
      "outputs": []
    },
    {
      "cell_type": "markdown",
      "source": [
        "## Gabungan\n",
        "\n",
        "Anda juga dapat menggabungkan *string* dan angka dengan operator koma."
      ],
      "metadata": {
        "id": "XkJZenbN72WN"
      }
    },
    {
      "cell_type": "code",
      "source": [
        "print('Hello',10)"
      ],
      "metadata": {
        "id": "GsWE089E7_D7"
      },
      "execution_count": null,
      "outputs": []
    },
    {
      "cell_type": "markdown",
      "source": [
        "## Menggunakan operator `*` dan `+`"
      ],
      "metadata": {
        "id": "jt4epJrT8EGC"
      }
    },
    {
      "cell_type": "code",
      "source": [
        "print('Hello' * 3) # akan menduplicate string Hello sebanyak 3 kali\n",
        "print(10 * 20) # akan mengalikan bilangan tersebut\n",
        "\n",
        "print('Hello' + 'World') # akan menggabungkan kedua string tersebut\n",
        "print(10 + 20) # akan menambahkan kedua bilangan tersebut"
      ],
      "metadata": {
        "id": "Dfco_UWJ8IPb"
      },
      "execution_count": null,
      "outputs": []
    },
    {
      "cell_type": "markdown",
      "source": [
        "Peringatan! operator `+` tidak bisa digunakan untuk 2 tipe data yang digabungkan seperti *string* dan *integer*."
      ],
      "metadata": {
        "id": "RpuW3oZD8JXf"
      }
    },
    {
      "cell_type": "code",
      "source": [
        "print('Hello' + 3) # akan muncul error"
      ],
      "metadata": {
        "id": "61Act2Hf8LVh"
      },
      "execution_count": null,
      "outputs": []
    },
    {
      "cell_type": "markdown",
      "source": [
        "## Line/Baris\n",
        "\n",
        "Print yang akan menghasilkan spasi atau line baru"
      ],
      "metadata": {
        "id": "8ajZaRnL8NZs"
      }
    },
    {
      "cell_type": "code",
      "source": [
        "print(\"Hello\")\n",
        "print(\"world!\")"
      ],
      "metadata": {
        "id": "FanZb2j88Pgu"
      },
      "execution_count": null,
      "outputs": []
    },
    {
      "cell_type": "markdown",
      "source": [
        "Untuk menghilangkan line baru menggunakan kode di bawah ini"
      ],
      "metadata": {
        "id": "CsTFaqqK8Th3"
      }
    },
    {
      "cell_type": "code",
      "source": [
        "print(\"Hello \", end=\"\")\n",
        "print(\"world!\")"
      ],
      "metadata": {
        "id": "CkQ30gFh8VrC"
      },
      "execution_count": null,
      "outputs": []
    },
    {
      "cell_type": "markdown",
      "source": [
        "Sedangkan untuk menambahkan line baru dengan menggunakan kode berikut ini. (\\n)"
      ],
      "metadata": {
        "id": "gh2ddk108XiD"
      }
    },
    {
      "cell_type": "code",
      "source": [
        "print(\"Hello \\n world!\")"
      ],
      "metadata": {
        "id": "IXkO8CNB8akg"
      },
      "execution_count": null,
      "outputs": []
    },
    {
      "cell_type": "markdown",
      "metadata": {
        "id": "lKPy4DluAEW-"
      },
      "source": [
        "# **Variable**\n",
        "\n",
        "---"
      ]
    },
    {
      "cell_type": "markdown",
      "source": [
        "Variabel adalah konsep kunci dalam pemrograman. Variabel digunakan untuk menyimpan nilai tertentu di dalam komputer. Tidak seperti bahasa pemrograman lain, seperti C atau Java yang membutuhkan metode khusus, Python tidak memerlukan deklarasi tipe data pada variabel.\n",
        "\n",
        "Asumsikan bahwa kita menyimpan berat seseorang sebagai variabel \"weight\". Untuk melakukan ini, kita dapat melakukan hal berikut: nama dan berat dapat disimpan bersama dalam ()."
      ],
      "metadata": {
        "id": "r0nZIyjTeaoH"
      }
    },
    {
      "cell_type": "code",
      "source": [
        "berat = 78.7\n",
        "manusia = ('David', 78.7)\n",
        "print (f\"Berat {berat}, manusia {manusia}\")"
      ],
      "metadata": {
        "colab": {
          "base_uri": "https://localhost:8080/"
        },
        "id": "JNkBHsNTesVI",
        "outputId": "72236529-780f-428d-bea6-c96118b32e49"
      },
      "execution_count": null,
      "outputs": [
        {
          "output_type": "stream",
          "name": "stdout",
          "text": [
            "Berat 78.7, manusia ('David', 78.7)\n"
          ]
        }
      ]
    },
    {
      "cell_type": "markdown",
      "source": [
        "Ketika kode dieksekusi, sebuah variabel dengan nama \"berat\" dibuat pada memori dan nilai 78,7 disimpan ke dalam variabel tersebut.\n",
        "Dalam variabel \"manusia\", nilai ('David', 78,7) disimpan (jenis data ini disebut tuples).\n",
        "Tanda = pada kode di atas bukan berarti sama, tetapi menyimpan nilai di sebelah kanan dengan nama variabel (berat) di sebelah kiri. Operator ini = biasanya disebut assignment operator."
      ],
      "metadata": {
        "id": "fN5x3aJ8e65R"
      }
    },
    {
      "cell_type": "markdown",
      "source": [
        "## Deklarasi Variabel"
      ],
      "metadata": {
        "id": "iIUj9WG7e_QN"
      }
    },
    {
      "cell_type": "markdown",
      "source": [
        "### Identifier\n",
        "Identifier adalah nama yang diberikan untuk sebuah entitas seperti class, function, variabel, dan sejenisnya. Ini membantu kita untuk membedakan satu entitas dengan entitas lainnya.\n",
        "\n",
        "Kita akan belajar bekerja dengan berbagai data, tetapi untuk melakukannya, kita memerlukan nama yang berbeda untuk membedakan data di dalam kode. Sama seperti seseorang membedakan orang dengan menggunakan nama, seperti \"James\" dan \"Michael\", identifier memainkan peran variabel pembeda.\n",
        "\n",
        "## Nama variabel\n",
        "\n",
        "Variabel dapat memiliki nama pendek (seperti x dan y) atau nama yang lebih deskriptif (umur, nama mobil, total_volume). Aturan untuk variabel Python:\n",
        "\n",
        "- Nama variabel harus dimulai dengan huruf atau karakter garis bawah\n",
        "- Nama variabel tidak boleh dimulai dengan angka\n",
        "- Nama variabel hanya boleh berisi karakter alfanumerik dan garis bawah (Az, 0-9, dan _ )\n",
        "- Tidak boleh menggunakan spasi dan tanda “-” tetapi boleh menggunakan tanda “_” sebagai pengganti spasi.\n",
        "- Nama variabel peka terhadap huruf besar-kecil (usia, Usia, dan UMUR adalah tiga variabel berbeda)\n",
        "- Nama variabel tidak boleh salah satu dari [kata kunci Python](https://www.w3schools.com/python/python_ref_keywords.asp)"
      ],
      "metadata": {
        "id": "MMls-1EYfFQ-"
      }
    },
    {
      "cell_type": "code",
      "execution_count": null,
      "metadata": {
        "id": "XKPDEmHx1Dxx"
      },
      "outputs": [],
      "source": [
        "myvar = \"Richie\"\n",
        "my_var = \"Richie\"\n",
        "_my_var = \"Richie\"\n",
        "myVar = \"Richie\"\n",
        "MYVAR = \"Richie\"\n",
        "myvar2 = \"Richie\""
      ]
    },
    {
      "cell_type": "markdown",
      "metadata": {
        "id": "4kd4VU2lndJX"
      },
      "source": [
        "Untuk mengubah variabel hanya dengan menulis ulang variabel dengan nilai baru."
      ]
    },
    {
      "cell_type": "code",
      "execution_count": null,
      "metadata": {
        "id": "9LfUphvUOGb9",
        "colab": {
          "base_uri": "https://localhost:8080/"
        },
        "outputId": "a8c981af-0ea5-4189-ba50-50a4f765bd2b"
      },
      "outputs": [
        {
          "output_type": "stream",
          "name": "stdout",
          "text": [
            "nilai a =  10\n",
            "nilai x =  5\n",
            "nilai panjang =  1000\n"
          ]
        }
      ],
      "source": [
        "a = 10\n",
        "x = 5\n",
        "panjang = 1000\n",
        "print(\"nilai a = \", a)\n",
        "print(\"nilai x = \", x)\n",
        "print(\"nilai panjang = \", panjang)"
      ]
    },
    {
      "cell_type": "markdown",
      "metadata": {
        "id": "9Q2th55OnhRb"
      },
      "source": [
        "## Tetapkan Banyak Nilai"
      ]
    },
    {
      "cell_type": "markdown",
      "metadata": {
        "id": "XoCMsBOUoKnN"
      },
      "source": [
        "### Banyak Nilai ke Banyak Variabel\n",
        "\n",
        "Python memungkinkan Anda untuk menetapkan nilai ke beberapa variabel dalam satu baris:"
      ]
    },
    {
      "cell_type": "code",
      "execution_count": null,
      "metadata": {
        "id": "9wOKE4Bc1Dqg",
        "colab": {
          "base_uri": "https://localhost:8080/"
        },
        "outputId": "92070f3b-3bd5-4b1b-d6f5-7905fda885bf"
      },
      "outputs": [
        {
          "output_type": "stream",
          "name": "stdout",
          "text": [
            "Orange\n",
            "Banana\n",
            "Cherry\n"
          ]
        }
      ],
      "source": [
        "#@title\n",
        "x, y, z =\"Orange\",\"Banana\",\"Cherry\"\n",
        "\n",
        "print(x)\n",
        "print(y)\n",
        "print(z)"
      ]
    },
    {
      "cell_type": "markdown",
      "metadata": {
        "id": "MdhmA5K2nlri"
      },
      "source": [
        "### Satu Nilai ke Beberapa Variabel\n",
        "Dan Anda dapat menetapkan nilai yang sama ke beberapa variabel dalam satu baris:"
      ]
    },
    {
      "cell_type": "code",
      "execution_count": null,
      "metadata": {
        "id": "LQ8EU6LP1Rr_",
        "colab": {
          "base_uri": "https://localhost:8080/"
        },
        "outputId": "94beb406-8412-4a11-ffdc-9240d3a87543"
      },
      "outputs": [
        {
          "output_type": "stream",
          "name": "stdout",
          "text": [
            "Orange\n",
            "Orange\n",
            "Orange\n"
          ]
        }
      ],
      "source": [
        "#@title\n",
        "x = y = z =\"Orange\"\n",
        "\n",
        "print(x)\n",
        "print(y)\n",
        "print(z)"
      ]
    },
    {
      "cell_type": "markdown",
      "metadata": {
        "id": "g-hmokx2nqsF"
      },
      "source": [
        "## Unpacking Collection\n",
        "\n",
        "Jika Anda memiliki kumpulan nilai dalam list, tuple, dll. Python memungkinkan Anda untuk mengekstrak nilai menjadi variabel. Ini disebut unpacking."
      ]
    },
    {
      "cell_type": "code",
      "execution_count": null,
      "metadata": {
        "id": "SzV1EuZ-1VUn",
        "colab": {
          "base_uri": "https://localhost:8080/"
        },
        "outputId": "07c999cd-0fa2-4728-bb90-14947a4395bd"
      },
      "outputs": [
        {
          "output_type": "stream",
          "name": "stdout",
          "text": [
            "apel\n",
            "pisang\n",
            "mangga\n"
          ]
        }
      ],
      "source": [
        "buah = [\"apel\", \"pisang\", \"mangga\"]\n",
        "x, y, z = buah\n",
        "print(x)\n",
        "print(y)\n",
        "print(z)"
      ]
    },
    {
      "cell_type": "markdown",
      "metadata": {
        "id": "Vix-3pTun3re"
      },
      "source": [
        "## Output Variable\n",
        "In the print() function, you output multiple variables, separated by a comma:"
      ]
    },
    {
      "cell_type": "code",
      "execution_count": null,
      "metadata": {
        "id": "0djzMFD51Ycy",
        "colab": {
          "base_uri": "https://localhost:8080/"
        },
        "outputId": "b6eca5b6-350b-4425-ba5f-d16f668c044e"
      },
      "outputs": [
        {
          "output_type": "stream",
          "name": "stdout",
          "text": [
            "Python is awesome\n"
          ]
        }
      ],
      "source": [
        "x =\"Python\"\n",
        "y =\"is\"\n",
        "z =\"awesome\"\n",
        "\n",
        "print(x, y, z)"
      ]
    },
    {
      "cell_type": "markdown",
      "metadata": {
        "id": "wyACp27nn77D"
      },
      "source": [
        "You can also use the + operator to output multiple variables:"
      ]
    },
    {
      "cell_type": "code",
      "execution_count": null,
      "metadata": {
        "id": "jyi-CQgo1ce0"
      },
      "outputs": [],
      "source": [
        "x =\"Python \"\n",
        "y =\"is \"\n",
        "z =\"awesome\"\n",
        "\n",
        "print(x + y + z)"
      ]
    },
    {
      "cell_type": "markdown",
      "metadata": {
        "id": "k06-ak_tn-Lg"
      },
      "source": [
        "## Variabel Global\n",
        "\n",
        "Jika Anda membuat variabel dengan nama yang sama di dalam suatu fungsi, variabel ini akan bersifat lokal, dan hanya dapat digunakan di dalam fungsi. Variabel global dengan nama yang sama akan tetap seperti semula, global dan dengan nilai aslinya."
      ]
    },
    {
      "cell_type": "code",
      "execution_count": null,
      "metadata": {
        "id": "_XiKQHLQ1hWA",
        "colab": {
          "base_uri": "https://localhost:8080/"
        },
        "outputId": "6254b544-1a16-4b5a-a71d-3e0ad4c85718"
      },
      "outputs": [
        {
          "output_type": "stream",
          "name": "stdout",
          "text": [
            "Python is awesome\n"
          ]
        }
      ],
      "source": [
        "x =\"Python \"\n",
        "y =\"is \"\n",
        "z =\"awesome\"\n",
        "\n",
        "print(x + y + z)"
      ]
    },
    {
      "cell_type": "markdown",
      "metadata": {
        "id": "Q3GkRm4oAXeD"
      },
      "source": [
        "# **Tipe Data**\n",
        "\n",
        "---\n",
        "\n"
      ]
    },
    {
      "cell_type": "markdown",
      "metadata": {
        "id": "JSZ4Jb6UofX_"
      },
      "source": [
        "## Tipe Data bawaan\n",
        "\n",
        "Dalam pemrograman, tipe data adalah konsep penting.\n",
        "\n",
        "Variabel dapat menyimpan data dari tipe yang berbeda, dan tipe yang berbeda dapat melakukan hal yang berbeda.\n",
        "\n",
        "Python memiliki tipe data bawaan berikut secara default, dalam kategori ini:\n",
        "\n",
        "| Jenis Teks | str |\n",
        "| --- | --- |\n",
        "| Jenis Numerik | int, float, complex |\n",
        "| Jenis urutan | list, tuple, range |\n",
        "| Jenis Pemetaan | dict |\n",
        "| Tipe Set | set,frozenset |\n",
        "| Tipe Boolean | bool |\n",
        "| Jenis Biner | bytes, bytearray, memoryview |\n",
        "| Tidak ada Jenis | NoneType |"
      ]
    },
    {
      "cell_type": "markdown",
      "metadata": {
        "id": "PvhiF2ilojaU"
      },
      "source": [
        "\n",
        "Untuk mengecek/mencari tahu tipe dari suatu data/variabel"
      ]
    },
    {
      "cell_type": "code",
      "execution_count": null,
      "metadata": {
        "id": "rJddpmlCA5rh",
        "colab": {
          "base_uri": "https://localhost:8080/"
        },
        "outputId": "07d075dd-479a-4800-ea9e-6edc048081ac"
      },
      "outputs": [
        {
          "output_type": "stream",
          "name": "stdout",
          "text": [
            "<class 'int'>\n"
          ]
        }
      ],
      "source": [
        "variable = 1\n",
        "print(type(variable))"
      ]
    },
    {
      "cell_type": "markdown",
      "metadata": {
        "id": "bsm_fUFFArPM"
      },
      "source": [
        "\n",
        "## Tipe data: Integer\n",
        "Angka tanpa koma / bilangan bulat"
      ]
    },
    {
      "cell_type": "code",
      "execution_count": null,
      "metadata": {
        "id": "3fFdL73rBc1G",
        "colab": {
          "base_uri": "https://localhost:8080/"
        },
        "outputId": "c280e655-fa05-4aca-8d18-e2d27f6a4888"
      },
      "outputs": [
        {
          "output_type": "stream",
          "name": "stdout",
          "text": [
            "data :  1 bertipe <class 'int'>\n"
          ]
        }
      ],
      "source": [
        "data_integer = 1\n",
        "print(\"data : \", data_integer, \"bertipe\", type(data_integer))"
      ]
    },
    {
      "cell_type": "markdown",
      "metadata": {
        "id": "VgWBXl8CBW-G"
      },
      "source": [
        "## Tipe data: Float\n",
        "Angka desimal"
      ]
    },
    {
      "cell_type": "code",
      "execution_count": null,
      "metadata": {
        "id": "0n99A3ZJBsG4",
        "colab": {
          "base_uri": "https://localhost:8080/"
        },
        "outputId": "aaee02be-2216-4914-e3ad-320c8d569426"
      },
      "outputs": [
        {
          "output_type": "stream",
          "name": "stdout",
          "text": [
            "data :  1.5 bertipe <class 'float'>\n"
          ]
        }
      ],
      "source": [
        "data_float = 1.5\n",
        "print(\"data : \", data_float, \"bertipe\", type(data_float))"
      ]
    },
    {
      "cell_type": "markdown",
      "metadata": {
        "id": "dgp1DYxkB6st"
      },
      "source": [
        "## Tipe data: String\n",
        "Kumpulan karakter yang biasanya menggunakan tanda petik dua (“ ”) / (’ ‘)"
      ]
    },
    {
      "cell_type": "code",
      "execution_count": null,
      "metadata": {
        "id": "XCvbnyCoB9Up",
        "colab": {
          "base_uri": "https://localhost:8080/"
        },
        "outputId": "b88c8dd9-5e02-491f-f615-c5b089b19778"
      },
      "outputs": [
        {
          "output_type": "stream",
          "name": "stdout",
          "text": [
            "data :  halo bertipe <class 'str'>\n"
          ]
        }
      ],
      "source": [
        "data_string = \"halo\"\n",
        "print(\"data : \", data_string, \"bertipe\", type(data_string))"
      ]
    },
    {
      "cell_type": "markdown",
      "metadata": {
        "id": "M7jeyShPCAE7"
      },
      "source": [
        "## Tipe data: Boolean\n",
        "Biner atau true dan false"
      ]
    },
    {
      "cell_type": "code",
      "execution_count": null,
      "metadata": {
        "id": "VQ3W-OvWCCxR",
        "colab": {
          "base_uri": "https://localhost:8080/"
        },
        "outputId": "7f3b2c53-516e-43dc-e4ae-329dc4db412a"
      },
      "outputs": [
        {
          "output_type": "stream",
          "name": "stdout",
          "text": [
            "data :  False bertipe <class 'bool'>\n"
          ]
        }
      ],
      "source": [
        "data_bool = False\n",
        "print(\"data : \", data_bool, \"bertipe\", type(data_bool))"
      ]
    },
    {
      "cell_type": "markdown",
      "metadata": {
        "id": "IjSSVqpMpU6H"
      },
      "source": [
        "## Tipe data: Complex (bilangan kompleks)\n",
        "\n",
        "Tipe data complex berfungsi untuk menyatakan angka real dan imajiner. Ex : 5 + 6j"
      ]
    },
    {
      "cell_type": "code",
      "execution_count": null,
      "metadata": {
        "id": "Nj3p6Dg-peeO",
        "colab": {
          "base_uri": "https://localhost:8080/"
        },
        "outputId": "fc7e0dcd-c9fa-4f32-d541-dcbe2a08885d"
      },
      "outputs": [
        {
          "output_type": "stream",
          "name": "stdout",
          "text": [
            "data :  (5+6j) bertipe <class 'complex'>\n"
          ]
        }
      ],
      "source": [
        "data_complex = complex(5,6)\n",
        "print(\"data : \", data_complex, \"bertipe\", type(data_complex))"
      ]
    },
    {
      "cell_type": "markdown",
      "metadata": {
        "id": "g9k1r4V-psfn"
      },
      "source": [
        "## Tipe data : List"
      ]
    },
    {
      "cell_type": "code",
      "execution_count": null,
      "metadata": {
        "id": "v7UOi7FAqier",
        "colab": {
          "base_uri": "https://localhost:8080/"
        },
        "outputId": "b88b26d7-3016-4259-ae6f-133404b40d7a"
      },
      "outputs": [
        {
          "output_type": "stream",
          "name": "stdout",
          "text": [
            "['apel', 'pisang', 'mangga']\n",
            "<class 'list'>\n"
          ]
        }
      ],
      "source": [
        "x = [\"apel\", \"pisang\", \"mangga\"]\n",
        "\n",
        "# display x\n",
        "print(x)\n",
        "\n",
        "# tipe x\n",
        "print(type(x))"
      ]
    },
    {
      "cell_type": "markdown",
      "metadata": {
        "id": "6adTUrXCqnbI"
      },
      "source": [
        "## Tipe data : Tuple\n",
        "\n",
        "Tipe data yang nilai di dalamnya tidak dapat diubah"
      ]
    },
    {
      "cell_type": "code",
      "execution_count": null,
      "metadata": {
        "id": "8QR03zcrqqZy",
        "colab": {
          "base_uri": "https://localhost:8080/"
        },
        "outputId": "9fc38889-8500-4e61-851f-d03c2d1e6195"
      },
      "outputs": [
        {
          "output_type": "stream",
          "name": "stdout",
          "text": [
            "('apel', 'pisang', 'mangga')\n",
            "<class 'tuple'>\n"
          ]
        }
      ],
      "source": [
        "x = (\"apel\", \"pisang\", \"mangga\")\n",
        "\n",
        "# display x\n",
        "print(x)\n",
        "\n",
        "# tipe x\n",
        "print(type(x))"
      ]
    },
    {
      "cell_type": "markdown",
      "metadata": {
        "id": "3QXW24EEqwrU"
      },
      "source": [
        "## Tipe data : Set\n",
        "\n",
        "Set adalah tipe data kolektif yang digunakan untuk menyimpan banyak nilai dalam satu variabel dengan ketentuan: nilai anggota yang disimpan harus unik (tidak duplikat)"
      ]
    },
    {
      "cell_type": "code",
      "execution_count": null,
      "metadata": {
        "id": "-T70Ed_oqzN0",
        "colab": {
          "base_uri": "https://localhost:8080/"
        },
        "outputId": "a6ce5365-5546-45d4-961a-cce3854b3afc"
      },
      "outputs": [
        {
          "output_type": "stream",
          "name": "stdout",
          "text": [
            "{'pisang', 'apel', 'mangga'}\n",
            "<class 'set'>\n"
          ]
        }
      ],
      "source": [
        "x = {\"apel\", \"pisang\", \"mangga\"}\n",
        "\n",
        "# display x\n",
        "print(x)\n",
        "\n",
        "# tipe x\n",
        "print(type(x))"
      ]
    },
    {
      "cell_type": "markdown",
      "metadata": {
        "id": "RoJYFK4Yq1pl"
      },
      "source": [
        "## Tipe data : Dict"
      ]
    },
    {
      "cell_type": "code",
      "execution_count": null,
      "metadata": {
        "id": "JN-PBXySq9mi",
        "colab": {
          "base_uri": "https://localhost:8080/"
        },
        "outputId": "4a86dacb-b403-402e-d41b-20d186735d32"
      },
      "outputs": [
        {
          "output_type": "stream",
          "name": "stdout",
          "text": [
            "{'nama': 'Alex', 'umur': 27}\n",
            "<class 'dict'>\n"
          ]
        }
      ],
      "source": [
        "x = {\"nama\" : \"Alex\", \"umur\" : 27}\n",
        "\n",
        "# display x\n",
        "print(x)\n",
        "\n",
        "# Tipe x\n",
        "print(type(x))"
      ]
    },
    {
      "cell_type": "markdown",
      "metadata": {
        "id": "Inpf3sccCFTv"
      },
      "source": [
        "## Tipe data dari bahasa C\n",
        "\n",
        "Python dapat menggunakan type data yang digunakan di bahasa C dengan cara mengimpor type data terlebih dahulu. Hal ini bisa dilakukan karena bahasa python dahulunya dibuat dengan menggunakan bahasa C."
      ]
    },
    {
      "cell_type": "code",
      "execution_count": null,
      "metadata": {
        "id": "gMHYpfPdCIvQ",
        "colab": {
          "base_uri": "https://localhost:8080/"
        },
        "outputId": "fae2480f-fbe9-442f-a8a3-4ffa21dd7349"
      },
      "outputs": [
        {
          "output_type": "stream",
          "name": "stdout",
          "text": [
            "data :  c_double(10.5) bertipe <class 'ctypes.c_double'>\n"
          ]
        }
      ],
      "source": [
        "from ctypes import c_double\n",
        "data_c_double = c_double (10.5)\n",
        "print(\"data : \", data_c_double, \"bertipe\", type(data_c_double))"
      ]
    },
    {
      "cell_type": "markdown",
      "metadata": {
        "id": "qV0LkNDaCKem"
      },
      "source": [
        "c_double pada kode di atas dapat diganti dengan type data lain seperti c_char, c_long, dll."
      ]
    },
    {
      "cell_type": "markdown",
      "metadata": {
        "id": "4JEzHJsTC1Vx"
      },
      "source": [
        "# **Casting Tipe Data**\n",
        "\n",
        "---\n",
        "\n",
        "\n",
        "\n",
        "Casting tipe data adalah mengubah tipe data satu ke tipe data yang lain."
      ]
    },
    {
      "cell_type": "markdown",
      "metadata": {
        "id": "9jQwTDd-C6L8"
      },
      "source": [
        "## Integer ke tipe data lainnya"
      ]
    },
    {
      "cell_type": "code",
      "execution_count": null,
      "metadata": {
        "id": "juhZYnKAC92W",
        "colab": {
          "base_uri": "https://localhost:8080/"
        },
        "outputId": "38616002-54df-456e-abd7-4d581256d66c"
      },
      "outputs": [
        {
          "output_type": "stream",
          "name": "stdout",
          "text": [
            "====INTEGER====\n",
            "data =  9 ,type = <class 'int'>\n",
            "data =  9.0 ,type = <class 'float'>\n",
            "data =  9 ,type = <class 'str'>\n",
            "data =  True ,type = <class 'bool'>\n"
          ]
        }
      ],
      "source": [
        "# INTEGER\n",
        "print(\"====INTEGER====\")\n",
        "data_int = 9;\n",
        "print(\"data = \", data_int, \",type =\",type(data_int))\n",
        "\n",
        "data_float = float(data_int)\n",
        "data_str   = str(data_int)\n",
        "data_bool  = bool(data_int) # akan false jika nilai int = 0\n",
        "print(\"data = \", data_float, \",type =\",type(data_float))\n",
        "print(\"data = \", data_str, \",type =\",type(data_str))\n",
        "print(\"data = \", data_bool, \",type =\",type(data_bool))"
      ]
    },
    {
      "cell_type": "markdown",
      "metadata": {
        "id": "o3o4iEXuDBoH"
      },
      "source": [
        "## Float ke tipe data lainnya"
      ]
    },
    {
      "cell_type": "code",
      "execution_count": null,
      "metadata": {
        "id": "KYjyM2YADFIF",
        "colab": {
          "base_uri": "https://localhost:8080/"
        },
        "outputId": "edfadac1-936b-4b7f-ef4f-2c0ba1331bd6"
      },
      "outputs": [
        {
          "output_type": "stream",
          "name": "stdout",
          "text": [
            "====FLOAT====\n",
            "data =  1 ,type = <class 'int'>\n",
            "data =  1 ,type = <class 'int'>\n",
            "data =  1 ,type = <class 'str'>\n",
            "data =  True ,type = <class 'bool'>\n"
          ]
        }
      ],
      "source": [
        "# FLOAT\n",
        "print(\"====FLOAT====\")\n",
        "data_float = 1;\n",
        "print(\"data = \", data_float, \",type =\",type(data_float))\n",
        "\n",
        "data_int = int(data_float) # akan dibulatkan ke bawah\n",
        "data_str   = str(data_float)\n",
        "data_bool  = bool(data_float) # akan false jika nilai float = 0\n",
        "print(\"data = \", data_int, \",type =\",type(data_int))\n",
        "print(\"data = \", data_str, \",type =\",type(data_str))\n",
        "print(\"data = \", data_bool, \",type =\",type(data_bool))"
      ]
    },
    {
      "cell_type": "markdown",
      "metadata": {
        "id": "i2Pc0dlRDIvx"
      },
      "source": [
        "## Boolean ke tipe data lainnya"
      ]
    },
    {
      "cell_type": "code",
      "execution_count": null,
      "metadata": {
        "id": "nbY3Mjs0DLEp",
        "colab": {
          "base_uri": "https://localhost:8080/"
        },
        "outputId": "faeea2c1-c081-4901-ec78-a99db3702eb7"
      },
      "outputs": [
        {
          "output_type": "stream",
          "name": "stdout",
          "text": [
            "====BOOLEAN====\n",
            "data =  True ,type = <class 'bool'>\n",
            "data =  1 ,type = <class 'int'>\n",
            "data =  True ,type = <class 'str'>\n",
            "data =  1.0 ,type = <class 'float'>\n"
          ]
        }
      ],
      "source": [
        "## BOOLEAN\n",
        "print(\"====BOOLEAN====\")\n",
        "data_bool = True;\n",
        "print(\"data = \", data_bool, \",type =\",type(data_bool))\n",
        "\n",
        "data_int = int(data_bool) # 0 jika false dan 1 jika true\n",
        "data_str   = str(data_bool)\n",
        "data_float  = float(data_bool) # 0.0 jika false dan 1.0 jika true\n",
        "print(\"data = \", data_int, \",type =\",type(data_int))\n",
        "print(\"data = \", data_str, \",type =\",type(data_str))\n",
        "print(\"data = \", data_float, \",type =\",type(data_float))"
      ]
    },
    {
      "cell_type": "markdown",
      "metadata": {
        "id": "N_mw4dDhDNn2"
      },
      "source": [
        "## String ke tipe data lainnya"
      ]
    },
    {
      "cell_type": "code",
      "execution_count": null,
      "metadata": {
        "id": "gaONGlKwDP-m",
        "colab": {
          "base_uri": "https://localhost:8080/"
        },
        "outputId": "7d4479d5-2331-4355-d751-9ec3595b3f28"
      },
      "outputs": [
        {
          "output_type": "stream",
          "name": "stdout",
          "text": [
            "====STRING====\n",
            "data =  8 ,type = <class 'str'>\n",
            "data =  8 ,type = <class 'int'>\n",
            "data =  8.0 ,type = <class 'float'>\n",
            "data =  True ,type = <class 'bool'>\n"
          ]
        }
      ],
      "source": [
        "## STRING\n",
        "print(\"====STRING====\")\n",
        "data_str = \"8\";\n",
        "print(\"data = \", data_str, \",type =\",type(data_str))\n",
        "\n",
        "data_int    = int(data_str) # string harus angka\n",
        "data_float  = float(data_str)  # string harus angka\n",
        "data_bool   = bool(data_str) # false jika string kosong\n",
        "print(\"data = \", data_int, \",type =\",type(data_int))\n",
        "print(\"data = \", data_float, \",type =\",type(data_float))\n",
        "print(\"data = \", data_bool, \",type =\",type(data_bool))"
      ]
    },
    {
      "cell_type": "markdown",
      "metadata": {
        "id": "3m0uEi6IDWD1"
      },
      "source": [
        "# **Input dari User**\n",
        "\n",
        "---\n",
        "\n",
        "\n",
        "\n",
        "Input biasanya berupa pertanyaan untuk mengambil data/jawaban dari user.  Data yang didapat dari user pasti berupa string."
      ]
    },
    {
      "cell_type": "code",
      "execution_count": null,
      "metadata": {
        "id": "SLsl8aw6D5gE",
        "colab": {
          "base_uri": "https://localhost:8080/"
        },
        "outputId": "7da3d600-f327-47ca-d9b3-bd51a77e491a"
      },
      "outputs": [
        {
          "output_type": "stream",
          "name": "stdout",
          "text": [
            "Masukan data: str\n",
            "data =  str ,type = <class 'str'>\n"
          ]
        }
      ],
      "source": [
        "# data yang dimasukan pasti string\n",
        "data = input(\"Masukan data: \")\n",
        "\n",
        "print(\"data = \",data,\",type =\",type(data))"
      ]
    },
    {
      "cell_type": "markdown",
      "metadata": {
        "id": "3sE9zlo_D85L"
      },
      "source": [
        "Untuk mengambil data dari user berupa integer (int) harus menggunakan casting tipe data."
      ]
    },
    {
      "cell_type": "code",
      "execution_count": null,
      "metadata": {
        "id": "-fGT8y_KYhQA",
        "colab": {
          "base_uri": "https://localhost:8080/"
        },
        "outputId": "29cbf912-720d-412c-b441-84370deb3efa"
      },
      "outputs": [
        {
          "output_type": "stream",
          "name": "stdout",
          "text": [
            "Masukan angka: 123\n",
            "Data float =  123.0 ,type = <class 'float'>\n",
            "Masukan angka: 123\n",
            "Data integer=  123 ,type = <class 'int'>\n"
          ]
        }
      ],
      "source": [
        "# jika kita ingin mengambil int/ float, maka\n",
        "angka = float(input(\"Masukan angka: \"))\n",
        "print(\"Data float = \",angka,\",type =\",type(angka))\n",
        "\n",
        "angka = int(input(\"Masukan angka: \"))\n",
        "print(\"Data integer= \",angka,\",type =\",type(angka))"
      ]
    },
    {
      "cell_type": "markdown",
      "metadata": {
        "id": "nAo2m1_rD1XN"
      },
      "source": [
        "Sedangkan untuk boolean memerlukan tambahan casting tipe data integer. Ngga ngeh"
      ]
    },
    {
      "cell_type": "code",
      "execution_count": null,
      "metadata": {
        "id": "ipjeUgwTECG5",
        "colab": {
          "base_uri": "https://localhost:8080/",
          "height": 245
        },
        "outputId": "3c5e0f52-db6c-4f4e-b7da-381b0d7d8c21"
      },
      "outputs": [
        {
          "name": "stdout",
          "output_type": "stream",
          "text": [
            "masukan nilai boolean: false\n"
          ]
        },
        {
          "output_type": "error",
          "ename": "ValueError",
          "evalue": "ignored",
          "traceback": [
            "\u001b[0;31m---------------------------------------------------------------------------\u001b[0m",
            "\u001b[0;31mValueError\u001b[0m                                Traceback (most recent call last)",
            "\u001b[0;32m<ipython-input-13-e64a61db15c9>\u001b[0m in \u001b[0;36m<cell line: 2>\u001b[0;34m()\u001b[0m\n\u001b[1;32m      1\u001b[0m \u001b[0;31m#bagaimana dengan boolean\u001b[0m\u001b[0;34m\u001b[0m\u001b[0;34m\u001b[0m\u001b[0m\n\u001b[0;32m----> 2\u001b[0;31m \u001b[0mbiner\u001b[0m \u001b[0;34m=\u001b[0m \u001b[0mbool\u001b[0m\u001b[0;34m(\u001b[0m\u001b[0mint\u001b[0m\u001b[0;34m(\u001b[0m\u001b[0minput\u001b[0m\u001b[0;34m(\u001b[0m\u001b[0;34m\"masukan nilai boolean: \"\u001b[0m\u001b[0;34m)\u001b[0m\u001b[0;34m)\u001b[0m\u001b[0;34m)\u001b[0m\u001b[0;34m\u001b[0m\u001b[0;34m\u001b[0m\u001b[0m\n\u001b[0m\u001b[1;32m      3\u001b[0m \u001b[0;34m\u001b[0m\u001b[0m\n\u001b[1;32m      4\u001b[0m \u001b[0mprint\u001b[0m\u001b[0;34m(\u001b[0m\u001b[0;34m\"data = \"\u001b[0m\u001b[0;34m,\u001b[0m\u001b[0mbiner\u001b[0m\u001b[0;34m,\u001b[0m\u001b[0;34m\",type =\"\u001b[0m\u001b[0;34m,\u001b[0m\u001b[0mtype\u001b[0m\u001b[0;34m(\u001b[0m\u001b[0mbiner\u001b[0m\u001b[0;34m)\u001b[0m\u001b[0;34m)\u001b[0m\u001b[0;34m\u001b[0m\u001b[0;34m\u001b[0m\u001b[0m\n",
            "\u001b[0;31mValueError\u001b[0m: invalid literal for int() with base 10: 'false'"
          ]
        }
      ],
      "source": [
        "#bagaimana dengan boolean\n",
        "biner = bool(int(input(\"masukan nilai boolean: \")))\n",
        "\n",
        "print(\"data = \",biner,\",type =\",type(biner))"
      ]
    },
    {
      "cell_type": "markdown",
      "metadata": {
        "id": "-6TqeazGMLEe"
      },
      "source": [
        "# **String**\n",
        "\n",
        "---\n"
      ]
    },
    {
      "cell_type": "markdown",
      "source": [
        "## Cara membuat string\n",
        "\n",
        "- String adalah urutan karakter.\n",
        "- String literal menggunakan tanda kutip 'Hello' atau \"Hello”.\n",
        "- Untuk string, + berarti “menggabungkan”.\n",
        "- Ketika string mengandung angka itu tetaplah sebuah string.\n",
        "- Kita dapat mengubah sebuah string menjadi angka menggunakan [casting tipe data](https://colab.research.google.com/drive/11aj1WgElM-MJudYP0jzsz7JNTgVqXrdH#scrollTo=4JEzHJsTC1Vx)."
      ],
      "metadata": {
        "id": "2x_yuk3y88as"
      }
    },
    {
      "cell_type": "markdown",
      "source": [
        "## Excape Characters\n",
        "\n",
        "| \\' | Single Quote |\n",
        "| --- | --- |\n",
        "| \\\\ | Backslash |\n",
        "| \\n | New Line |\n",
        "| \\r | Carriage Return |\n",
        "| \\t | Tab |\n",
        "| \\b | Backspace |"
      ],
      "metadata": {
        "id": "x0HQHN7gsXoh"
      }
    },
    {
      "cell_type": "code",
      "execution_count": null,
      "metadata": {
        "colab": {
          "base_uri": "https://localhost:8080/"
        },
        "id": "F2n1UQ2lMTOQ",
        "outputId": "8501664b-f60c-460a-e280-8dd45a57c6bc"
      },
      "outputs": [
        {
          "name": "stdout",
          "output_type": "stream",
          "text": [
            "Menggunakan single quote\n",
            "Menggunakan double quote\n",
            "\"Halo, apa kabar?\"\n",
            "'Halo, apa kabar?'\n",
            "ini adalah hari jum'at\n"
          ]
        }
      ],
      "source": [
        "data = 'Menggunakan single quote'\n",
        "print(data)\n",
        "\n",
        "data = \"Menggunakan double quote\"\n",
        "print(data)\n",
        "\n",
        "print('\"Halo, apa kabar?\"')\n",
        "print(\"'Halo, apa kabar?'\")\n",
        "print(\"ini adalah hari jum'at\")"
      ]
    },
    {
      "cell_type": "markdown",
      "metadata": {
        "id": "Vz-2McRmMVVi"
      },
      "source": [
        "### Penggunaan tanda \\"
      ]
    },
    {
      "cell_type": "code",
      "execution_count": null,
      "metadata": {
        "colab": {
          "base_uri": "https://localhost:8080/"
        },
        "id": "ZpMPdJ_OMXcS",
        "outputId": "89748788-dfe3-4e63-dbfc-73d9969bf116"
      },
      "outputs": [
        {
          "name": "stdout",
          "output_type": "stream",
          "text": [
            "Saya jalan-jalan ke Bantul jum'at kemarin\n",
            "Isn't enough?\n",
            "\n",
            "C:\\user\\Python\n",
            "\n",
            "Hello\tworld\n",
            "\n",
            "Hello \bworld\n",
            "\n",
            "Hello.\n",
            "world.\n",
            "\n",
            "Hello.\rworld.\n",
            "\n",
            "Hello.\r\n",
            "world.\r\n",
            "\n"
          ]
        }
      ],
      "source": [
        "# membuat tanda ' menjadi string\n",
        "print('Saya jalan-jalan ke Bantul jum\\'at kemarin')\n",
        "print('Isn\\'t enough?\\n')\n",
        "\n",
        "# backlash\n",
        "print(\"C:\\\\user\\\\Python\\n\")\n",
        "\n",
        "# tab\n",
        "print(\"Hello\\tworld\\n\")\n",
        "\n",
        "# backspace\n",
        "print(\"Hello \\bworld\\n\")\n",
        "\n",
        "# newline\n",
        "print(\"Hello.\\nworld.\\n\") # LF -> line feed -> unix, macos, linux\n",
        "print(\"Hello.\\rworld.\\n\") # CR -> carriage return -> commodore, acorn, lisp\n",
        "print(\"Hello.\\r\\nworld.\\r\\n\") # CRLF -> line feed carriage return -> dipakai oleh windows"
      ]
    },
    {
      "cell_type": "markdown",
      "metadata": {
        "id": "UFVzKNKEMa0U"
      },
      "source": [
        "## String literal atau raw"
      ]
    },
    {
      "cell_type": "code",
      "execution_count": null,
      "metadata": {
        "colab": {
          "base_uri": "https://localhost:8080/"
        },
        "id": "9G5EVvztMc17",
        "outputId": "fffd8387-53fa-4f57-b1bf-85f13d494661"
      },
      "outputs": [
        {
          "name": "stdout",
          "output_type": "stream",
          "text": [
            "C:\n",
            "user\tPython\n",
            "\n",
            "C:\\nuser\\tPython\\n\n",
            "\n",
            "Nama : Yongki\n",
            "Kelas : 3 SMA\n",
            "\n",
            "\n",
            "Nama : Yongki\n",
            "Kelas : 3 SMA \"Sunda Kelapa\"\n",
            "Website : www.sma.sh.com/Yongki\n",
            "\n"
          ]
        }
      ],
      "source": [
        "# Warning\n",
        "print('C:\\nuser\\tPython\\n') # akan salah pathnya\n",
        "\n",
        "# menggunakan raw string\n",
        "# semua di dalam tanda kutip dianggap string\n",
        "print(r'C:\\nuser\\tPython\\n')\n",
        "\n",
        "# multiline literal string\n",
        "# semua yang ada dalam string akan dituliskan sesuai apa yang kita tuliskan\n",
        "print('''\n",
        "Nama : Yongki\n",
        "Kelas : 3 SMA\n",
        "''')\n",
        "\n",
        "# multiline literal string dan RAW\n",
        "print(r\"\"\"\n",
        "Nama : Yongki\n",
        "Kelas : 3 SMA \"Sunda Kelapa\"\n",
        "Website : www.sma.sh.com/Yongki\n",
        "\"\"\")"
      ]
    },
    {
      "cell_type": "markdown",
      "metadata": {
        "id": "KNrJ0WLWMhOc"
      },
      "source": [
        "# **Operasi dan Manipulasi String**\n",
        "\n",
        "---\n",
        "\n"
      ]
    },
    {
      "cell_type": "markdown",
      "metadata": {
        "id": "f-Gq55hdM0-Z"
      },
      "source": [
        "## Menyambung string dari variable yang berbeda"
      ]
    },
    {
      "cell_type": "code",
      "execution_count": null,
      "metadata": {
        "colab": {
          "base_uri": "https://localhost:8080/"
        },
        "id": "DuSP080GM2DX",
        "outputId": "3074aed3-1ded-48dd-a0f3-7905b7ee36b0"
      },
      "outputs": [
        {
          "name": "stdout",
          "output_type": "stream",
          "text": [
            "('Yongki', 'Dwi', 'Setiawan')\n",
            "Yongki Dwi Setiawan\n"
          ]
        }
      ],
      "source": [
        "nama_pertama = \"Yongki\"\n",
        "nama_tengah = \"Dwi\"\n",
        "nama_akhir = \"Setiawan\"\n",
        "\n",
        "# penggabungan ini tidak memberika spasi pada tiap akhir dari variabel\n",
        "nama_lengkap = nama_pertama , nama_tengah , nama_akhir\n",
        "print(nama_lengkap)\n",
        "\n",
        "# maka diperlukan penambahan string spasi seperti di bawah ini\n",
        "nama_lengkap = nama_pertama + \" \" + nama_tengah + \" \" + nama_akhir\n",
        "print(nama_lengkap)"
      ]
    },
    {
      "cell_type": "markdown",
      "metadata": {
        "id": "CWb46AnnM4by"
      },
      "source": [
        "## Menghitung panjang string"
      ]
    },
    {
      "cell_type": "code",
      "execution_count": null,
      "metadata": {
        "colab": {
          "base_uri": "https://localhost:8080/"
        },
        "id": "qtaKr2yDM61c",
        "outputId": "e1fe38fa-a0e2-4d07-bca1-e8307f15b69e"
      },
      "outputs": [
        {
          "name": "stdout",
          "output_type": "stream",
          "text": [
            "panjang Yongki Dwi Setiawan adalah 19\n"
          ]
        }
      ],
      "source": [
        "nama_lengkap = \"Yongki Dwi Setiawan\"\n",
        "panjang = len(nama_lengkap)\n",
        "print(\"panjang \" + nama_lengkap + \" adalah \" + str(panjang))"
      ]
    },
    {
      "cell_type": "markdown",
      "metadata": {
        "id": "SSeJEKxpNARR"
      },
      "source": [
        "## Operator untuk string"
      ]
    },
    {
      "cell_type": "code",
      "execution_count": null,
      "metadata": {
        "colab": {
          "base_uri": "https://localhost:8080/"
        },
        "id": "HvOii40NNFDD",
        "outputId": "f8c3754b-ed0e-4f06-ee42-7f11c2b0946f"
      },
      "outputs": [
        {
          "name": "stdout",
          "output_type": "stream",
          "text": [
            "apakah d ada di Yongki Dwi Setiawan, False\n",
            "apakah D ada di Yongki Dwi Setiawan, True\n",
            "apakah z tidak ada di Yongki Dwi Setiawan, True\n"
          ]
        }
      ],
      "source": [
        "# cek apakah ada komponen pada sebuah string\n",
        "nama_lengkap = \"Yongki Dwi Setiawan\"\n",
        "\n",
        "d = \"d\"\n",
        "status = d in nama_lengkap\n",
        "print(\"apakah \" + d + \" ada di \" + nama_lengkap + \", \" + str(status))\n",
        "\n",
        "D = \"D\"\n",
        "status = D in nama_lengkap\n",
        "print(\"apakah \" + D + \" ada di \" + nama_lengkap + \", \" + str(status))\n",
        "\n",
        "z = \"z\"\n",
        "status = z not in nama_lengkap\n",
        "print(\"apakah \" + z + \" tidak ada di \" + nama_lengkap + \", \" + str(status))"
      ]
    },
    {
      "cell_type": "markdown",
      "source": [
        "## Looping Menggunakan String\n",
        "\n",
        "Karena string adalah array, kita dapat mengulang melalui karakter dalam sebuah string, dengan sebuah for loop."
      ],
      "metadata": {
        "id": "99ojwdtDA53l"
      }
    },
    {
      "cell_type": "code",
      "source": [
        "for x in \"pisang\":\n",
        "\tprint(x)"
      ],
      "metadata": {
        "colab": {
          "base_uri": "https://localhost:8080/"
        },
        "id": "lPkAx_LAA_ES",
        "outputId": "720519ec-bc03-4dea-8298-04854283d41d"
      },
      "execution_count": null,
      "outputs": [
        {
          "output_type": "stream",
          "name": "stdout",
          "text": [
            "p\n",
            "i\n",
            "s\n",
            "a\n",
            "n\n",
            "g\n"
          ]
        }
      ]
    },
    {
      "cell_type": "markdown",
      "metadata": {
        "id": "YUQpdMoJNT0K"
      },
      "source": [
        "## Mengulang string"
      ]
    },
    {
      "cell_type": "code",
      "execution_count": null,
      "metadata": {
        "colab": {
          "base_uri": "https://localhost:8080/"
        },
        "id": "3753KRgtNXhW",
        "outputId": "228c0c9e-9ac8-4875-be7f-4a70f7c64ab6"
      },
      "outputs": [
        {
          "name": "stdout",
          "output_type": "stream",
          "text": [
            "wkwkwkwkwkwkwkwkwkwk\n",
            "wkwkwkwkwkwkwkwkwkwk\n"
          ]
        }
      ],
      "source": [
        "print(\"wk\"*10)\n",
        "print(10*\"wk\")"
      ]
    },
    {
      "cell_type": "markdown",
      "metadata": {
        "id": "4U1fQ7BZNj-H"
      },
      "source": [
        "## Indexing\n",
        "\n",
        "Melihat huruf atau angka yang berada di urutan tertentu. Kita dapat menemukan sebuah karakter di dalm sebuah string dengan menggunakan index yang spesifik dalam kurung siku."
      ]
    },
    {
      "cell_type": "code",
      "source": [
        "str = \"pisang\"\n",
        "letter = str[3]\n",
        "print (letter)"
      ],
      "metadata": {
        "colab": {
          "base_uri": "https://localhost:8080/"
        },
        "id": "nFKnyqZpBjej",
        "outputId": "1009b7d2-b18f-4d5d-bfb5-0c397ddc64cd"
      },
      "execution_count": null,
      "outputs": [
        {
          "output_type": "stream",
          "name": "stdout",
          "text": [
            "a\n"
          ]
        }
      ]
    },
    {
      "cell_type": "markdown",
      "source": [
        "Nilai dari index dimulai dari nol.\n",
        "\n",
        "| p | i | s | a | n | g |\n",
        "| --- | --- | --- | --- | --- | --- |\n",
        "| 0 | 1 | 2 | 3 | 4 | 5 |\n",
        "    "
      ],
      "metadata": {
        "id": "_ETJ8wQaBxVD"
      }
    },
    {
      "cell_type": "code",
      "source": [
        "str = \"pisang\"\n",
        "x = 3\n",
        "y = str[x - 1]\n",
        "print (y)"
      ],
      "metadata": {
        "colab": {
          "base_uri": "https://localhost:8080/"
        },
        "id": "7CKY2BnfBw_p",
        "outputId": "6f45c2c6-fbf8-4b34-be21-bcf76c29e12d"
      },
      "execution_count": null,
      "outputs": [
        {
          "output_type": "stream",
          "name": "stdout",
          "text": [
            "s\n"
          ]
        }
      ]
    },
    {
      "cell_type": "markdown",
      "source": [
        "### Contoh\n",
        "[start:end]\n",
        "[start:]\n",
        "[:end]"
      ],
      "metadata": {
        "id": "grp6Lc_8Cz87"
      }
    },
    {
      "cell_type": "code",
      "execution_count": null,
      "metadata": {
        "colab": {
          "base_uri": "https://localhost:8080/"
        },
        "id": "HfYx8abvNnXH",
        "outputId": "81ebde0c-b2e9-4f66-97bb-89f51e29814c"
      },
      "outputs": [
        {
          "output_type": "stream",
          "name": "stdout",
          "text": [
            "index ke-0 : 0\n",
            "index ke-6 : 6\n",
            "index ke-(-1) : 9\n",
            "index ke-[7,9]) : 78\n",
            "index ke-[0 sampai 8) : 01234567\n",
            "index ke-[mengurangi 2 index dari depan]) : 23456789\n",
            "index ke-[-5:-2]) : 567\n",
            "index ke-[0,2,4,6,8] : 02468\n",
            "orl\n"
          ]
        }
      ],
      "source": [
        "nama_lengkap = \"0123456789\"\n",
        "\n",
        "print(\"index ke-0 : \" + nama_lengkap[0]) # dimulai dari 0\n",
        "print(\"index ke-6 : \" + nama_lengkap[6]) # index bebas\n",
        "print(\"index ke-(-1) : \" + nama_lengkap[-1]) # indexing dari dibelakang\n",
        "print(\"index ke-[7,9]) : \" + nama_lengkap[7:9]) # dimulai dari index 7 sampai sebelum 9\n",
        "print(\"index ke-[0 sampai 8) : \" + nama_lengkap[:8]) # dimulai dari index 0 sampai 8\n",
        "print(\"index ke-[mengurangi 2 index dari depan]) : \" + nama_lengkap[2:]) # mengurangi 2 index dari depan\n",
        "print(\"index ke-[-5:-2]) : \" + nama_lengkap[-5:-2]) # dimulai dari index 2 dari belakang sampai 5 index dari belakang\n",
        "print(\"index ke-[0,2,4,6,8] : \" + nama_lengkap[0:10:2]) # diambil index 0,2,4,6,8\n",
        "\n",
        "b = \"Hello, World!\"\n",
        "print(b[-5:-2])"
      ]
    },
    {
      "cell_type": "markdown",
      "metadata": {
        "id": "5y-LM2eaNt2f"
      },
      "source": [
        "## Maksimal Minimal\n",
        "\n",
        "Ditentukan berdasarkan nilai ascii."
      ]
    },
    {
      "cell_type": "code",
      "execution_count": null,
      "metadata": {
        "colab": {
          "base_uri": "https://localhost:8080/"
        },
        "id": "NQhbpw4TNv8H",
        "outputId": "03ac54b7-43de-417b-bbc2-2fc0cda60b73"
      },
      "outputs": [
        {
          "name": "stdout",
          "output_type": "stream",
          "text": [
            "nilai terkecil :  \n",
            "nilai terbesar : w\n",
            "ASCII number dari spasi : 32\n",
            "Character dari ascii code 117 : u\n"
          ]
        }
      ],
      "source": [
        "nama_lengkap = \"Yongki Dwi Setiawan\"\n",
        "\n",
        "# item paling kecil\n",
        "print(\"nilai terkecil : \" + min(nama_lengkap))\n",
        "# item paling besar\n",
        "print(\"nilai terbesar : \" + max(nama_lengkap))\n",
        "\n",
        "# cara melihat nilai ascii\n",
        "ascii_code = ord(\" \")\n",
        "print(\"ASCII number dari spasi : \" + str(ascii_code))\n",
        "data = 117\n",
        "print(\"Character dari ascii code 117 : \" + chr(data))"
      ]
    },
    {
      "cell_type": "markdown",
      "metadata": {
        "id": "y7IU-IjuN0U3"
      },
      "source": [
        "## Operator dalam bentuk method"
      ]
    },
    {
      "cell_type": "code",
      "execution_count": null,
      "metadata": {
        "colab": {
          "base_uri": "https://localhost:8080/"
        },
        "id": "mS8AaaBWN2pz",
        "outputId": "2c9e4e6d-f679-4085-e436-be94b04c7bcb"
      },
      "outputs": [
        {
          "name": "stdout",
          "output_type": "stream",
          "text": [
            "jumlah o di Yongki Dwi Setiawan : 1\n"
          ]
        }
      ],
      "source": [
        "data = \"Yongki Dwi Setiawan\"\n",
        "jumlah = data.count(\"o\")\n",
        "print(\"jumlah o di \" + data + \" : \" + str(jumlah))"
      ]
    },
    {
      "cell_type": "markdown",
      "metadata": {
        "id": "0JxLvNKKN8Fs"
      },
      "source": [
        "## Mengubah case pada string"
      ]
    },
    {
      "cell_type": "code",
      "execution_count": null,
      "metadata": {
        "colab": {
          "base_uri": "https://localhost:8080/"
        },
        "id": "u0sENcyuOBrn",
        "outputId": "b0c82822-ee25-4b2c-8d93-2206528d07aa"
      },
      "outputs": [
        {
          "name": "stdout",
          "output_type": "stream",
          "text": [
            "halo bro!\n",
            "upper BRO!\n",
            "normal aKu PinTer baNgeT\n",
            "lower aku pinter banget\n"
          ]
        }
      ],
      "source": [
        "# mengubah semua ke upper case\n",
        "salam = \"bro!\"\n",
        "print(\"halo \" + salam)\n",
        "salam = salam.upper()\n",
        "print(\"upper \" + salam)\n",
        "\n",
        "# merubah semua ke lower case\n",
        "alay = \"aKu PinTer baNgeT\"\n",
        "print(\"normal \" + alay)\n",
        "alay = alay.lower()\n",
        "print(\"lower \" + alay)"
      ]
    },
    {
      "cell_type": "markdown",
      "metadata": {
        "id": "sfGPBiN8YSig"
      },
      "source": [
        "## Menghilangkan spasi sebelum dan sesudah teks"
      ]
    },
    {
      "cell_type": "code",
      "execution_count": null,
      "metadata": {
        "colab": {
          "base_uri": "https://localhost:8080/"
        },
        "id": "Bu2w0H3-Ydwk",
        "outputId": "7dae3445-325b-4e9f-b5a6-db0e2f2f5950"
      },
      "outputs": [
        {
          "name": "stdout",
          "output_type": "stream",
          "text": [
            "Hello, World!\n"
          ]
        }
      ],
      "source": [
        "a = \" Hello, World! \"\n",
        "print(a.strip()) # returns \"Hello, World!\""
      ]
    },
    {
      "cell_type": "markdown",
      "metadata": {
        "id": "bSR3qitoYnbZ"
      },
      "source": [
        "## Metode replace()mengganti string dengan string lain:"
      ]
    },
    {
      "cell_type": "code",
      "execution_count": null,
      "metadata": {
        "colab": {
          "base_uri": "https://localhost:8080/"
        },
        "id": "DdW5h-GvYq1q",
        "outputId": "99be2a21-1526-420d-cf76-2e3bc488d374"
      },
      "outputs": [
        {
          "name": "stdout",
          "output_type": "stream",
          "text": [
            "Jello, World!\n"
          ]
        }
      ],
      "source": [
        "a = \"Hello, World!\"\n",
        "print(a.replace(\"H\", \"J\"))"
      ]
    },
    {
      "cell_type": "markdown",
      "metadata": {
        "id": "mzWjaQ1LODrc"
      },
      "source": [
        "## Method is, untuk pengecekan.\n",
        "\n",
        "Berikut beberapa contoh pengecekan menggunapak metode is.\n",
        "\n",
        "- islower() ⇒ untuk pengecekan apakah lower case semua\n",
        "- isalpha() ⇒ untuk mengecek apakah huruf semua\n",
        "- isalnum() ⇒ apakah huruf dan angka\n",
        "- isdecimal() ⇒ apakah numeric\n",
        "- isspace() ⇒ apakah isinya spasi, tab dan enter (newline \\n)\n",
        "- istitle() ⇒ huruf pertama setiap kata upper case\n",
        "- dll"
      ]
    },
    {
      "cell_type": "code",
      "execution_count": null,
      "metadata": {
        "colab": {
          "base_uri": "https://localhost:8080/"
        },
        "id": "W8TCn8yXOGZi",
        "outputId": "e7555de7-6e75-43a9-e071-dc880cfeaa87"
      },
      "outputs": [
        {
          "name": "stdout",
          "output_type": "stream",
          "text": [
            "HELLO is upper? True\n",
            "hello is upper? False\n",
            "The Love You Give Me is title? True\n"
          ]
        }
      ],
      "source": [
        "# contoh isupper()\n",
        "salam = \"HELLO\"\n",
        "apakah_upper = salam.isupper()\n",
        "print(salam + \" is upper? \" + str(apakah_upper))\n",
        "salam = salam.lower()\n",
        "apakah_upper = salam.isupper()\n",
        "print(salam + \" is upper? \" + str(apakah_upper))\n",
        "\n",
        "judul = \"The Love You Give Me\"\n",
        "cek_judul = judul.istitle()\n",
        "print(judul + \" is title? \" + str(cek_judul))"
      ]
    },
    {
      "cell_type": "markdown",
      "metadata": {
        "id": "5TcA4PlEOIS-"
      },
      "source": [
        "## startwith() dan endwith()\n",
        "Untuk mengecek apakah suatu nilai variable diawali atau diakhiri oleh apa."
      ]
    },
    {
      "cell_type": "code",
      "execution_count": null,
      "metadata": {
        "colab": {
          "base_uri": "https://localhost:8080/"
        },
        "id": "vD25SwS9OM2m",
        "outputId": "0af8d98a-2ef9-461d-add7-85d5a14ea72b"
      },
      "outputs": [
        {
          "name": "stdout",
          "output_type": "stream",
          "text": [
            "start True\n",
            "end True\n"
          ]
        }
      ],
      "source": [
        "cek_start = \"Hello world\".startswith(\"Hello\")\n",
        "print(\"start \" + str(cek_start))\n",
        "cek_end = \"Hello world\".endswith(\"world\")\n",
        "print(\"end \" + str(cek_end))"
      ]
    },
    {
      "cell_type": "markdown",
      "metadata": {
        "id": "Z9QT2nGyOQtn"
      },
      "source": [
        "## join() dan split()\n",
        "join() digunakan untuk menggabungkan beberapa string yang ada dalam satu list string. split()\n",
        "digunakan untuk memisahkan string menjadi list string."
      ]
    },
    {
      "cell_type": "code",
      "execution_count": null,
      "metadata": {
        "colab": {
          "base_uri": "https://localhost:8080/"
        },
        "id": "TXR2OaweO6IR",
        "outputId": "fb86beb8-9855-4b7d-8507-2ae345a9eae1"
      },
      "outputs": [
        {
          "name": "stdout",
          "output_type": "stream",
          "text": [
            "['aku', 'cinta', 'kamu']\n",
            "aku cie cinta cie kamu\n",
            "aku cinta kamu\n",
            "['aku', 'cinta', 'kamu']\n",
            "akuciecintaciekamu\n",
            "['aku', 'cinta', 'kamu']\n"
          ]
        }
      ],
      "source": [
        "pisah = ['aku','cinta','kamu']\n",
        "gabungan = ' cie '.join(pisah)\n",
        "print(pisah)\n",
        "print(gabungan)\n",
        "\n",
        "gabungan = \"aku cinta kamu\"\n",
        "pisah = gabungan.split()\n",
        "print(gabungan)\n",
        "print(pisah)\n",
        "\n",
        "gabungan = \"akuciecintaciekamu\"\n",
        "pisah = gabungan.split(\"cie\")\n",
        "print(gabungan)\n",
        "print(pisah)"
      ]
    },
    {
      "cell_type": "markdown",
      "metadata": {
        "id": "mUIjT0bCO9pE"
      },
      "source": [
        "## Alokasi karakter"
      ]
    },
    {
      "cell_type": "code",
      "execution_count": null,
      "metadata": {
        "colab": {
          "base_uri": "https://localhost:8080/"
        },
        "id": "YYjd-pqfO_yO",
        "outputId": "cbd1e66d-4923-4caf-c832-cf605bba5580"
      },
      "outputs": [
        {
          "name": "stdout",
          "output_type": "stream",
          "text": [
            "'kiri      '\n",
            "'               kanan'\n",
            "'kiri                '\n",
            "'       tengah       '\n",
            "'-------tengah-------'\n",
            "'kanan'\n",
            "'tengah'\n"
          ]
        }
      ],
      "source": [
        "# alokasi karakter\n",
        "print(\"'kiri      '\")\n",
        "\n",
        "kanan = \"kanan\".rjust(20) # rata kanan dengan 20 karakter\n",
        "print(\"'\" + kanan + \"'\")\n",
        "\n",
        "kiri = \"kiri\".ljust(20) # rata kiri dengan 20 karakter\n",
        "print(\"'\" + kiri + \"'\")\n",
        "\n",
        "tengah =\"tengah\".center(20) # rata tengah dengan 20 karakter\n",
        "print(\"'\" + tengah + \"'\")\n",
        "\n",
        "tengah =\"tengah\".center(20,'-') # rata tengah dengan 20 karakter\n",
        "print(\"'\" + tengah + \"'\")\n",
        "\n",
        "# kebalikan dari alokasi karakter\n",
        "kanan = kanan.strip()\n",
        "print(\"'\" + kanan + \"'\")\n",
        "tengah = tengah.strip('-')\n",
        "print(\"'\" + tengah + \"'\")"
      ]
    },
    {
      "cell_type": "markdown",
      "metadata": {
        "id": "Dc82YQYjPClQ"
      },
      "source": [
        "# **Format String**\n",
        "\n",
        "---\n",
        "\n"
      ]
    },
    {
      "cell_type": "code",
      "execution_count": null,
      "metadata": {
        "colab": {
          "base_uri": "https://localhost:8080/"
        },
        "id": "fqkUQIjUPGhK",
        "outputId": "322c2710-1465-4420-baf9-fbdbc3f169b1"
      },
      "outputs": [
        {
          "name": "stdout",
          "output_type": "stream",
          "text": [
            "hello Yongki\n",
            "boolean = False\n",
            "angka = 59.99\n"
          ]
        }
      ],
      "source": [
        "# string\n",
        "nama = \"Yongki\"\n",
        "format_str = f\"hello {nama}\"\n",
        "print(format_str)\n",
        "\n",
        "# boolean\n",
        "boolean = False\n",
        "format_str = f\"boolean = {boolean}\"\n",
        "print(format_str)\n",
        "\n",
        "# angka\n",
        "angka = 59.99\n",
        "format_str = f\"angka = {angka}\"\n",
        "print(format_str)"
      ]
    },
    {
      "cell_type": "markdown",
      "metadata": {
        "id": "6elKzeFBZii8"
      },
      "source": [
        " Metode format() mengambil jumlah argumen yang tidak terbatas, dan ditempatkan ke masing-masing placeholder:"
      ]
    },
    {
      "cell_type": "code",
      "execution_count": null,
      "metadata": {
        "colab": {
          "base_uri": "https://localhost:8080/"
        },
        "id": "57gV1HomZlTa",
        "outputId": "bbb09424-d9b5-4d6f-e426-476e06e7ac1b"
      },
      "outputs": [
        {
          "name": "stdout",
          "output_type": "stream",
          "text": [
            "Aku mau 3 lembar pakaian no 56 seharga 59.99 dollars.\n"
          ]
        }
      ],
      "source": [
        "quantity = 3\n",
        "no = 56\n",
        "price = 59.99\n",
        "myorder = \"Aku mau {} lembar pakaian no {} seharga {} dollars.\"\n",
        "print(myorder.format(quantity, no, price))"
      ]
    },
    {
      "cell_type": "markdown",
      "metadata": {
        "id": "-9bBydjvj9Zp"
      },
      "source": [
        "Anda dapat menggunakan nomor indeks {0} untuk memastikan argumen ditempatkan di placeholder yang benar:"
      ]
    },
    {
      "cell_type": "code",
      "execution_count": null,
      "metadata": {
        "colab": {
          "base_uri": "https://localhost:8080/"
        },
        "id": "TAfriO4uZ3Zk",
        "outputId": "8b318d63-9cef-408c-a162-47cf36985a4a"
      },
      "outputs": [
        {
          "name": "stdout",
          "output_type": "stream",
          "text": [
            "Aku membayar 59.99 dollars untuk 3 buah pakaian no 56.\n"
          ]
        }
      ],
      "source": [
        "quantity = 3\n",
        "no = 56\n",
        "price = 59.99\n",
        "myorder = \"Aku membayar {2} dollars untuk {0} buah pakaian no {1}.\"\n",
        "print(myorder.format(quantity, no, price))"
      ]
    },
    {
      "cell_type": "markdown",
      "metadata": {
        "id": "0Ws12aiBPMC-"
      },
      "source": [
        "## Bilangan Bulat\n",
        "\n",
        "Menggunakan  “ :d ” untuk mendeklarasikan bahwa nilai ddari  variable yang digunakan merupakan bilangan bulat."
      ]
    },
    {
      "cell_type": "code",
      "execution_count": null,
      "metadata": {
        "colab": {
          "base_uri": "https://localhost:8080/"
        },
        "id": "mkBVkUSxPOKk",
        "outputId": "c04c7f0e-b122-43e0-fb32-328cdcd6a699"
      },
      "outputs": [
        {
          "name": "stdout",
          "output_type": "stream",
          "text": [
            "bilangan bulat = 15\n"
          ]
        }
      ],
      "source": [
        "# Bilangan bulat\n",
        "angka = 15\n",
        "format_str = f\"bilangan bulat = {angka:d}\"\n",
        "print(format_str)\n",
        "\n",
        "angka = 15\n",
        "format_str = f\"bilangan bulat = {angka:d}\"\n",
        "print(format_str)"
      ]
    },
    {
      "cell_type": "markdown",
      "metadata": {
        "id": "i8WocgjrPQKM"
      },
      "source": [
        "## Bilangan Ribuan dan Jutaan\n",
        "\n",
        "Menggunakan ( : , ) untuk memberikan tanda (,) pada setiap angka 0 tiga kali dari belakang (memperjelas ribuan maupun jutaan dst)."
      ]
    },
    {
      "cell_type": "code",
      "execution_count": null,
      "metadata": {
        "colab": {
          "base_uri": "https://localhost:8080/"
        },
        "id": "JNtdC1CMPTM-",
        "outputId": "464dfe54-f755-485b-d106-04c1ff4cce3a"
      },
      "outputs": [
        {
          "name": "stdout",
          "output_type": "stream",
          "text": [
            "jutaan = 2,000,000\n"
          ]
        }
      ],
      "source": [
        "# Bilangan Ribuan dan Jutaan\n",
        "angka = 2000000\n",
        "format_str = f\"jutaan = {angka:,}\"\n",
        "print(format_str)"
      ]
    },
    {
      "cell_type": "markdown",
      "metadata": {
        "id": "S7oY7AE7PYB6"
      },
      "source": [
        "## Bilangan Desimal\n",
        "\n",
        "Menggunakan ( : . (berapa angka di belakang koma yang diinginkan) f ) untuk mengatur jumlah angka yang berada di belakang koma."
      ]
    },
    {
      "cell_type": "code",
      "execution_count": null,
      "metadata": {
        "colab": {
          "base_uri": "https://localhost:8080/"
        },
        "id": "JyNPF4Z8PaGk",
        "outputId": "fcc5706c-303f-4096-881c-72f2b7b5a58e"
      },
      "outputs": [
        {
          "name": "stdout",
          "output_type": "stream",
          "text": [
            "desimal = 123.457\n"
          ]
        }
      ],
      "source": [
        "# Bilangan desimal\n",
        "angka = 123.4567\n",
        "format_str = f\"desimal = {angka:.3f}\"\n",
        "# (.3f digunakan untuk agar hanya 3 angka yang berada di belakang koma.\n",
        "# 3 artinya berapa angka yang akan berada di belakang koma. sedangkan f adalah float.\n",
        "print(format_str)"
      ]
    },
    {
      "cell_type": "markdown",
      "metadata": {
        "id": "KL9lARWMPcsY"
      },
      "source": [
        "## Leading Zero\n",
        "\n",
        "Menggunakan ( : 0(jumlah angka yang diinginkan) ) digunakan untuk menghitung angka dari belakang sebanyak jumlah angka yang diinginkan dan menambahkan 0 sebanyak sisa dari angka yang diminta. Selain itu, angka 0 juga dapat digantikan dengan spasi."
      ]
    },
    {
      "cell_type": "code",
      "execution_count": null,
      "metadata": {
        "colab": {
          "base_uri": "https://localhost:8080/"
        },
        "id": "hVdOpIVGPfjv",
        "outputId": "302a19b0-bf1f-4201-ce84-c49bd7bc5a1e"
      },
      "outputs": [
        {
          "name": "stdout",
          "output_type": "stream",
          "text": [
            "desimal = 0000123.46\n",
            "desimal =     123.46\n"
          ]
        }
      ],
      "source": [
        "# Leading zero\n",
        "angka = 123.4567\n",
        "format_str = f\"desimal = {angka:010.2f}\"\n",
        "print(format_str)\n",
        "\n",
        "angka = 123.4567\n",
        "format_str = f\"desimal = {angka: 10.2f}\"\n",
        "print(format_str)"
      ]
    },
    {
      "cell_type": "markdown",
      "metadata": {
        "id": "MqxZKEXfPhoS"
      },
      "source": [
        "## Menampilkan Tanda + atau -\n",
        "\n",
        "Menggunakan tanda (+) pada format untuk menampilkan tanda plus maupun minus pada nilai yang dimiliki oleh sebuah variable."
      ]
    },
    {
      "cell_type": "code",
      "execution_count": null,
      "metadata": {
        "colab": {
          "base_uri": "https://localhost:8080/"
        },
        "id": "itXyvSSHPjdg",
        "outputId": "6c3530f5-858a-4f35-befe-ddd4eedace64"
      },
      "outputs": [
        {
          "name": "stdout",
          "output_type": "stream",
          "text": [
            "minus = -10\n",
            "plus = +123.46\n"
          ]
        }
      ],
      "source": [
        "# Menampilkan tanda + atau -\n",
        "angka_minus = -10\n",
        "angka_plus = +123.4567\n",
        "format_minus = f\"minus = {angka_minus:+d}\"\n",
        "format_plus = f\"plus = {angka_plus:+.2f}\"\n",
        "\n",
        "print(format_minus)\n",
        "print(format_plus)"
      ]
    },
    {
      "cell_type": "markdown",
      "metadata": {
        "id": "SrS-WYRxPlUP"
      },
      "source": [
        "## Memformat Persen\n",
        "\n",
        "Mirip seperti pada desimal hanya saja huruf “ f ” diganti dengan tanda “ % ” ( : .(angka di belakang koma yang diinginkan)%). Tanda “ % “ adalah operasi untuk mengubah float menjadi persentase."
      ]
    },
    {
      "cell_type": "code",
      "execution_count": null,
      "metadata": {
        "colab": {
          "base_uri": "https://localhost:8080/"
        },
        "id": "-bUd-ZyLPnSY",
        "outputId": "ef12347f-3069-4b3a-e3ff-ac22c6de50fd"
      },
      "outputs": [
        {
          "name": "stdout",
          "output_type": "stream",
          "text": [
            "persen = 4.50%\n"
          ]
        }
      ],
      "source": [
        "# Format persen\n",
        "persentase = 0.045\n",
        "format_persen = f\"persen = {persentase:.2%}\"\n",
        "\n",
        "print(format_persen)"
      ]
    },
    {
      "cell_type": "markdown",
      "metadata": {
        "id": "QjAmMuDBPo-W"
      },
      "source": [
        "## Melakukan Operasi Aritmatika di Dalam Kurung Kurawal (placeholder)\n",
        "\n",
        "Untuk operasi aritmetika juaga dapat dilakukan langsung di dalam kurung kurawal dan dapat dikombinasikan dengan format lainnya."
      ]
    },
    {
      "cell_type": "code",
      "execution_count": null,
      "metadata": {
        "colab": {
          "base_uri": "https://localhost:8080/"
        },
        "id": "eusLaq-2PrNi",
        "outputId": "4c640726-d25e-4230-a945-e182e9bdd5f8"
      },
      "outputs": [
        {
          "name": "stdout",
          "output_type": "stream",
          "text": [
            "harga total = Rp. 50,000\n"
          ]
        }
      ],
      "source": [
        "# Operasi aritmatika di dalam kurung kurawal(placeholder)\n",
        "harga = 10000\n",
        "jumlah = 5\n",
        "\n",
        "format_string = f\"harga total = Rp. {harga*jumlah:,}\"\n",
        "print(format_string)"
      ]
    },
    {
      "cell_type": "markdown",
      "metadata": {
        "id": "1Et_KpKcPwiS"
      },
      "source": [
        "## Format Angka Lain (Binary, Octal, Hexadecimal)\n",
        "\n",
        "Mengkonversi angka biasa menjadi angka lain."
      ]
    },
    {
      "cell_type": "code",
      "execution_count": null,
      "metadata": {
        "colab": {
          "base_uri": "https://localhost:8080/"
        },
        "id": "0ma4cHROPvre",
        "outputId": "d099c359-8aec-49b3-961d-0fb9265462c8"
      },
      "outputs": [
        {
          "name": "stdout",
          "output_type": "stream",
          "text": [
            "binary = 0b11111111\n",
            "octal = 0o377\n",
            "hex = 0xff\n"
          ]
        }
      ],
      "source": [
        "# format angka lain (binary, octal, hexadecimal)\n",
        "\n",
        "angka = 255\n",
        "format_binary = f\"binary = {bin(angka)}\"\n",
        "format_octal = f\"octal = {oct(angka)}\"\n",
        "format_hex = f\"hex = {hex(angka)}\"\n",
        "\n",
        "print(format_binary)\n",
        "print(format_octal)\n",
        "print(format_hex)"
      ]
    },
    {
      "cell_type": "markdown",
      "metadata": {
        "id": "ekI-UeyrP17e"
      },
      "source": [
        "# **String Width dan Alligment**\n",
        "\n",
        "---\n",
        "\n"
      ]
    },
    {
      "cell_type": "markdown",
      "metadata": {
        "id": "TIiDKisb1eEs"
      },
      "source": [
        "## String standard"
      ]
    },
    {
      "cell_type": "code",
      "execution_count": null,
      "metadata": {
        "colab": {
          "base_uri": "https://localhost:8080/"
        },
        "id": "AJ4EKXUg1Nnq",
        "outputId": "b42f5441-8c20-4954-e272-27ad444d1e7a"
      },
      "outputs": [
        {
          "name": "stdout",
          "output_type": "stream",
          "text": [
            "=====Data String=====\n",
            "Nama = Yongki Dwi Setiawan, umur = 17, tinggi = 166.7, sepatu = 42\n"
          ]
        }
      ],
      "source": [
        "# Data\n",
        "data_nama = \"Yongki Dwi Setiawan\"\n",
        "data_umur = 17\n",
        "data_tinggi = 166.7\n",
        "data_nomor_sepatu = 42\n",
        "\n",
        "data_string = f\"Nama = {data_nama}, umur = {data_umur}, tinggi = {data_tinggi}, sepatu = {data_nomor_sepatu}\"\n",
        "print(5*\"=\"+\"Data String\"+5*\"=\")\n",
        "print(data_string)"
      ]
    },
    {
      "cell_type": "markdown",
      "metadata": {
        "id": "6dMC32gF1g7q"
      },
      "source": [
        "## String multiline (dengan menggunakan enter, newline, \\n)"
      ]
    },
    {
      "cell_type": "code",
      "execution_count": null,
      "metadata": {
        "colab": {
          "base_uri": "https://localhost:8080/"
        },
        "id": "_931sJI91NQV",
        "outputId": "d266efca-bcc6-487a-8dfa-a7af7675d449"
      },
      "outputs": [
        {
          "name": "stdout",
          "output_type": "stream",
          "text": [
            "\n",
            "=====Data String=====\n",
            "Nama = Yongki Dwi Setiawan, \n",
            "Umur = 17, \n",
            "Tinggi = 166.7, \n",
            "Sepatu = 42\n"
          ]
        }
      ],
      "source": [
        "# Data\n",
        "data_nama = \"Yongki Dwi Setiawan\"\n",
        "data_umur = 17\n",
        "data_tinggi = 166.7\n",
        "data_nomor_sepatu = 42\n",
        "\n",
        "data_string = f\"Nama = {data_nama}, \\nUmur = {data_umur}, \\nTinggi = {data_tinggi}, \\nSepatu = {data_nomor_sepatu}\"\n",
        "print(\"\\n\"+5*\"=\"+\"Data String\"+5*\"=\")\n",
        "print(data_string)"
      ]
    },
    {
      "cell_type": "markdown",
      "metadata": {
        "id": "XlO9rgrN1ne3"
      },
      "source": [
        "## String multiline (kutip triplets)"
      ]
    },
    {
      "cell_type": "code",
      "execution_count": null,
      "metadata": {
        "colab": {
          "base_uri": "https://localhost:8080/"
        },
        "id": "uCBdRRrU1WPD",
        "outputId": "de134580-fde7-457d-da49-63cd860e92d6"
      },
      "outputs": [
        {
          "name": "stdout",
          "output_type": "stream",
          "text": [
            "\n",
            "=====Data String=====\n",
            "Nama = Yongki Dwi Setiawan\n",
            "Umur = 17\n",
            "Tinggi = 166.7\n",
            "Sepatu = 42\n",
            "\n"
          ]
        }
      ],
      "source": [
        "# Data\n",
        "data_nama = \"Yongki Dwi Setiawan\"\n",
        "data_umur = 17\n",
        "data_tinggi = 166.7\n",
        "data_nomor_sepatu = 42\n",
        "\n",
        "data_string = f\"\"\"Nama = {data_nama}\n",
        "Umur = {data_umur}\n",
        "Tinggi = {data_tinggi}\n",
        "Sepatu = {data_nomor_sepatu}\n",
        "\"\"\"\n",
        "print(\"\\n\"+5*\"=\"+\"Data String\"+5*\"=\")\n",
        "print(data_string)"
      ]
    },
    {
      "cell_type": "markdown",
      "metadata": {
        "id": "rZWJAruJ2x28"
      },
      "source": [
        "## Mengatur Lebar"
      ]
    },
    {
      "cell_type": "code",
      "execution_count": null,
      "metadata": {
        "colab": {
          "base_uri": "https://localhost:8080/"
        },
        "id": "nHIJlA6SQBfN",
        "outputId": "cc08acda-899d-4022-b799-8e7760fe1826"
      },
      "outputs": [
        {
          "name": "stdout",
          "output_type": "stream",
          "text": [
            "\n",
            "=====Data String=====\n",
            "\n",
            "Nama   = Yongki Dwi Setiawan\n",
            "Umur   =    17\n",
            "Tinggi = 166.7\n",
            "Sepatu =    42\n",
            "\n"
          ]
        }
      ],
      "source": [
        "# Data\n",
        "data_nama = \"Yongki Dwi Setiawan\"\n",
        "data_umur = 17\n",
        "data_tinggi = 166.7\n",
        "data_nomor_sepatu = 42\n",
        "\n",
        "# mengatur lebar\n",
        "data_nama = \"Yongki Dwi Setiawan\"\n",
        "data_tinggi = 166.7\n",
        "data_string = f\"\"\"\n",
        "Nama   = {data_nama:>5}\n",
        "Umur   = {data_umur:>5}\n",
        "Tinggi = {data_tinggi:>5}\n",
        "Sepatu = {data_nomor_sepatu:>5}\n",
        "\"\"\"\n",
        "print(\"\\n\"+5*\"=\"+\"Data String\"+5*\"=\")\n",
        "print(data_string)"
      ]
    },
    {
      "cell_type": "markdown",
      "metadata": {
        "id": "0eUsfVz6Ed43"
      },
      "source": [
        "# **Operasi Aritmatika**\n",
        "\n",
        "---\n",
        "Operasi dasar aritmatika adalah penjumlahan, pengurangan, perkalian dan pembagian, Walaupun operasi-operasi lain yang lebih canggih (seperti persentase, floor division, pemangkatan, dan modulus) juga dimasukkan ke dalam kategori ini.\n"
      ]
    },
    {
      "cell_type": "markdown",
      "metadata": {
        "id": "qzZV4uW3E0AE"
      },
      "source": [
        "| Operation | Symbol | Example |\n",
        "| --- | --- | --- |\n",
        "| Penjumlahan | + | 1 + 2 = 3 |\n",
        "| Pengurangan | - | 5  -  4 = 1 |\n",
        "| Perkalian | * | 2  *  4  =  8 |\n",
        "| Pembagian | / | 6  /  3  = 2 |\n",
        "| Eksponen (pangkat) | ** | 3  **  2  = 9 |\n",
        "| Modulus | % | 5 % 2 = 1 |\n",
        "| Floor division | // | 11 // 3 = 3 |"
      ]
    },
    {
      "cell_type": "markdown",
      "metadata": {
        "id": "o2qw1oXxE8mr"
      },
      "source": [
        "## Penjumlahan dan Pengurangan"
      ]
    },
    {
      "cell_type": "code",
      "execution_count": null,
      "metadata": {
        "id": "G8thBENrEwV5",
        "colab": {
          "base_uri": "https://localhost:8080/"
        },
        "outputId": "bbf3c4d5-f8aa-4e69-9555-38910b72d9d7"
      },
      "outputs": [
        {
          "output_type": "stream",
          "name": "stdout",
          "text": [
            "10 + 3 = 13\n",
            "10 - 3 = 7\n"
          ]
        }
      ],
      "source": [
        "# operasi aritmatika\n",
        "\n",
        "a = 10\n",
        "b = 3\n",
        "\n",
        "# operasi penjumlahan +\n",
        "hasil = a + b\n",
        "print(a,'+',b,'=',hasil)\n",
        "\n",
        "# operasi pengurangan -\n",
        "hasil = a - b\n",
        "print(a,'-',b,'=',hasil)"
      ]
    },
    {
      "cell_type": "markdown",
      "metadata": {
        "id": "fXUG_81MFAkc"
      },
      "source": [
        "## Perkalian dan Pembagian"
      ]
    },
    {
      "cell_type": "code",
      "execution_count": null,
      "metadata": {
        "id": "iVPzIKUaF0K7",
        "colab": {
          "base_uri": "https://localhost:8080/"
        },
        "outputId": "a2c45d68-8e32-44d2-c392-80201d16a82e"
      },
      "outputs": [
        {
          "output_type": "stream",
          "name": "stdout",
          "text": [
            "8 * 4 = 32\n",
            "8 / 4 = 2.0\n"
          ]
        }
      ],
      "source": [
        "a = 8\n",
        "b = 4\n",
        "\n",
        "# operasi perkalian *\n",
        "hasil = a * b\n",
        "print(a,'*',b,'=',hasil)\n",
        "\n",
        "# operasi pembagian /\n",
        "hasil = a / b\n",
        "print(a,'/',b,'=',hasil)"
      ]
    },
    {
      "cell_type": "markdown",
      "metadata": {
        "id": "pboHTvAqFEQj"
      },
      "source": [
        "## Eksponen, Modulus, dan Floor Division"
      ]
    },
    {
      "cell_type": "code",
      "execution_count": null,
      "metadata": {
        "id": "R57ceH1_F0Nu",
        "colab": {
          "base_uri": "https://localhost:8080/"
        },
        "outputId": "75e34893-29be-42c6-dda3-b8a12a17ba10"
      },
      "outputs": [
        {
          "output_type": "stream",
          "name": "stdout",
          "text": [
            "15 ** 4 = 50625\n",
            "15 % 4 = 3\n",
            "15 // 4 = 3\n"
          ]
        }
      ],
      "source": [
        "a = 15\n",
        "b = 4\n",
        "\n",
        "# operasi eksponen (pangkat) **\n",
        "hasil = a ** b\n",
        "print(a,'**',b,'=',hasil)\n",
        "\n",
        "# operasi modulus %\n",
        "hasil = a % b\n",
        "print(a,'%',b,'=',hasil)\n",
        "\n",
        "# operasi floor division // memiliki hasil pembagian dengan pembulatan kebawah\n",
        "hasil = a // b\n",
        "print(a,'//',b,'=',hasil)"
      ]
    },
    {
      "cell_type": "markdown",
      "metadata": {
        "id": "grdDKJ8jFIPg"
      },
      "source": [
        "Prioritas operasi / operational precedence\n",
        "\n",
        "1. ()\n",
        "2. Exponen **\n",
        "3. Perkalian, pembagian dll * / ** % //\n",
        "4. Penjumlahan dan pengurangan + -"
      ]
    },
    {
      "cell_type": "code",
      "execution_count": null,
      "metadata": {
        "id": "hQHdkiZCF0W3",
        "colab": {
          "base_uri": "https://localhost:8080/"
        },
        "outputId": "1c1d084e-4b5c-4f8b-c4d8-aa4d9ec65b87"
      },
      "outputs": [
        {
          "output_type": "stream",
          "name": "stdout",
          "text": [
            "3 ** 2 * 4 + 3 / 2 - 2 % 4 // 3 = 31.5\n",
            "3 + 2 * 4 = 11\n",
            "( 3 + 2 ) * 4 = 20\n"
          ]
        }
      ],
      "source": [
        "x = 3\n",
        "y = 2\n",
        "z = 4\n",
        "\n",
        "hasil = x ** y * (z + x) / y - y % z // x\n",
        "print(x,'**',y,'*',z,'+',x,'/',y,'-',y,'%',z,'//',x,'=',hasil)\n",
        "\n",
        "hasil = x + y * z\n",
        "print(x,'+',y,'*',z,'=',hasil)\n",
        "# kurung akan mengambil langkah paling pertama\n",
        "hasil = (x + y) * z\n",
        "print('(',x,'+',y,') *',z,'=',hasil)"
      ]
    },
    {
      "cell_type": "markdown",
      "metadata": {
        "id": "mck3P2d-FO7V"
      },
      "source": [
        "# **Latihan Perhitungan Sederhana**\n",
        "\n",
        "---\n",
        "\n",
        "\n",
        "\n",
        "Konversi suhu ke suhu lainnya"
      ]
    },
    {
      "cell_type": "markdown",
      "metadata": {
        "id": "QN7BnJ4VFWtC"
      },
      "source": [
        "![image.png](data:image/png;base64,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)"
      ]
    },
    {
      "cell_type": "markdown",
      "metadata": {
        "id": "ueYIPaJIFaYh"
      },
      "source": [
        "## Konversi farenheit ke suhu lainnya"
      ]
    },
    {
      "cell_type": "code",
      "execution_count": null,
      "metadata": {
        "id": "b_UFii88fRdw",
        "colab": {
          "base_uri": "https://localhost:8080/"
        },
        "outputId": "95868c57-70c6-4a30-940d-f3a430a4a086"
      },
      "outputs": [
        {
          "output_type": "stream",
          "name": "stdout",
          "text": [
            "Masukkan suhu dalam farenheit : 86\n",
            "Suhu dalam celcius adalah  30.0\n",
            "Suhu dalam reamur adalah  24.0\n",
            "Suhu dalam kelvin adalah  303.0\n",
            "\n"
          ]
        }
      ],
      "source": [
        "# Konversi suhu dari farenheit ke suhu lainnya\n",
        "farenheit = float(input(\"Masukkan suhu dalam farenheit : \"))\n",
        "celcius = (5/9) * (farenheit - 32)\n",
        "reamur = (4/9) * (farenheit - 32)\n",
        "kelvin = celcius + 273\n",
        "print(\"Suhu dalam celcius adalah \",celcius)\n",
        "print(\"Suhu dalam reamur adalah \",reamur)\n",
        "print(\"Suhu dalam kelvin adalah \",kelvin)\n",
        "print()"
      ]
    },
    {
      "cell_type": "markdown",
      "metadata": {
        "id": "25jcqc7rFwXK"
      },
      "source": [
        "## Konversi suhu dari celcius ke suhu lainnya"
      ]
    },
    {
      "cell_type": "code",
      "execution_count": null,
      "metadata": {
        "id": "Fb4i4grDfRVQ",
        "colab": {
          "base_uri": "https://localhost:8080/"
        },
        "outputId": "2943ed72-aade-451e-ef04-fa9f50661c28"
      },
      "outputs": [
        {
          "output_type": "stream",
          "name": "stdout",
          "text": [
            "Masukkan suhu dalam celcius : 30\n",
            "Suhu dalam farenheit adalah  86.0\n",
            "Suhu dalam reamur adalah  24.0\n",
            "Suhu dalam kelvin adalah  303.0\n",
            "\n"
          ]
        }
      ],
      "source": [
        "# Konversi suhu dari celcius ke suhu lainnya\n",
        "celcius = float(input(\"Masukkan suhu dalam celcius : \"))\n",
        "farenheit = ((9/5) * celcius) + 32\n",
        "reamur = (4/5) * celcius\n",
        "kelvin = celcius + 273\n",
        "print(\"Suhu dalam farenheit adalah \",farenheit)\n",
        "print(\"Suhu dalam reamur adalah \",reamur)\n",
        "print(\"Suhu dalam kelvin adalah \",kelvin)\n",
        "print()"
      ]
    },
    {
      "cell_type": "markdown",
      "metadata": {
        "id": "OKG0ayL6F3_Y"
      },
      "source": [
        "## Konversi suhu dari reamur ke suhu lainnya"
      ]
    },
    {
      "cell_type": "code",
      "execution_count": null,
      "metadata": {
        "id": "xJyEnM5zfLX_",
        "colab": {
          "base_uri": "https://localhost:8080/"
        },
        "outputId": "b980b820-6950-4264-f347-a7344263805b"
      },
      "outputs": [
        {
          "output_type": "stream",
          "name": "stdout",
          "text": [
            "Masukkan suhu dalam reamur : 23\n",
            "Suhu dalam celcius adalah  28.75\n",
            "Suhu dalam farenheit adalah  83.75\n",
            "Suhu dalam kelvin adalah  301.75\n",
            "\n"
          ]
        }
      ],
      "source": [
        "# Konversi suhu dari reamur ke suhu lainnya\n",
        "reamur = float(input(\"Masukkan suhu dalam reamur : \"))\n",
        "celcius = (5/4) * reamur\n",
        "farenheit = ((9/4) * reamur) + 32\n",
        "kelvin = celcius + 273\n",
        "print(\"Suhu dalam celcius adalah \",celcius)\n",
        "print(\"Suhu dalam farenheit adalah \",farenheit)\n",
        "print(\"Suhu dalam kelvin adalah \",kelvin)\n",
        "print()"
      ]
    },
    {
      "cell_type": "markdown",
      "metadata": {
        "id": "jO05J2YpF7vj"
      },
      "source": [
        "## Konversi suhu dari kelvin ke suhu lainnya"
      ]
    },
    {
      "cell_type": "code",
      "execution_count": null,
      "metadata": {
        "id": "AGU2kF5effO3",
        "colab": {
          "base_uri": "https://localhost:8080/"
        },
        "outputId": "319600f9-9729-462b-e4d9-daef7cc91b66"
      },
      "outputs": [
        {
          "output_type": "stream",
          "name": "stdout",
          "text": [
            "Masukkan suhu dalam kelvin : 303\n",
            "Suhu dalam celcius adalah  30.0\n",
            "Suhu dalam farenheit adalah  86.0\n",
            "Suhu dalam reamur adalah  24.0\n",
            "\n"
          ]
        }
      ],
      "source": [
        "# Konversi suhu dari kelvin ke suhu lainnya\n",
        "kelvin = float(input(\"Masukkan suhu dalam kelvin : \"))\n",
        "celcius = kelvin - 273\n",
        "farenheit = ((9/5) * celcius) + 32\n",
        "reamur = (4/5) * celcius\n",
        "\n",
        "print(\"Suhu dalam celcius adalah \",celcius)\n",
        "print(\"Suhu dalam farenheit adalah \",farenheit)\n",
        "print(\"Suhu dalam reamur adalah \",reamur)\n",
        "print()"
      ]
    },
    {
      "cell_type": "markdown",
      "metadata": {
        "id": "PO-dne0xGI2t"
      },
      "source": [
        "# **Operasi Komparasi**\n",
        "\n",
        "---\n",
        "\n",
        " Setiap hasil dari operasi komparasi adalah boolean dan menggunakan (>,<,>=,<=,==,!=,is,is not)"
      ]
    },
    {
      "cell_type": "markdown",
      "metadata": {
        "id": "ajqpipnWHTKi"
      },
      "source": [
        "## Lebih besar dari (>)"
      ]
    },
    {
      "cell_type": "code",
      "execution_count": null,
      "metadata": {
        "colab": {
          "base_uri": "https://localhost:8080/"
        },
        "id": "2JI3976CHWil",
        "outputId": "692696f1-0036-4f8d-c7eb-a9165518efc8"
      },
      "outputs": [
        {
          "name": "stdout",
          "output_type": "stream",
          "text": [
            "=== lebih besar dari (>) ===\n",
            "3 > 5 = False\n",
            "5 > 3 = True\n"
          ]
        }
      ],
      "source": [
        "a = 3\n",
        "b = 5\n",
        "\n",
        "# lebih besar dari >\n",
        "print(\"=== lebih besar dari (>) ===\")\n",
        "hasil = a > 5\n",
        "print(a,'>',5,'=',hasil)\n",
        "hasil = b > 3\n",
        "print(b,'>',3,'=',hasil)"
      ]
    },
    {
      "cell_type": "markdown",
      "metadata": {
        "id": "3e3jsXgLHc0B"
      },
      "source": [
        "## Lebih kecil dari (<)"
      ]
    },
    {
      "cell_type": "code",
      "execution_count": null,
      "metadata": {
        "colab": {
          "base_uri": "https://localhost:8080/"
        },
        "id": "8gtzGpyHHfmx",
        "outputId": "17ca3f1b-6f02-492a-f8fd-88c41cd7bc89"
      },
      "outputs": [
        {
          "name": "stdout",
          "output_type": "stream",
          "text": [
            "=== lebih kecil dari (<) ===\n",
            "2 < 5 = True\n",
            "6 < 5 = False\n"
          ]
        }
      ],
      "source": [
        "a = 2\n",
        "b = 6\n",
        "\n",
        "# lebih kecil dari <\n",
        "print(\"=== lebih kecil dari (<) ===\")\n",
        "hasil = a < 5\n",
        "print(a,'<',5,'=',hasil)\n",
        "hasil = b < 5\n",
        "print(b,'<',5,'=',hasil)"
      ]
    },
    {
      "cell_type": "markdown",
      "metadata": {
        "id": "vZmng7OjHqVG"
      },
      "source": [
        "## Lebih besar dari sama dengan (≥)"
      ]
    },
    {
      "cell_type": "code",
      "execution_count": null,
      "metadata": {
        "colab": {
          "base_uri": "https://localhost:8080/"
        },
        "id": "7kvSrsbVHt3m",
        "outputId": "90c4eba2-a1c3-4b11-9de4-20ad68732f18"
      },
      "outputs": [
        {
          "name": "stdout",
          "output_type": "stream",
          "text": [
            "=== lebih dari sama dengan(>=) ===\n",
            "8 >= 5 = True\n",
            "5 >= 7 = False\n"
          ]
        }
      ],
      "source": [
        "a = 8\n",
        "b = 5\n",
        "\n",
        "# lebih dari sama dengan >=\n",
        "print(\"=== lebih dari sama dengan(>=) ===\")\n",
        "hasil = a >= 5\n",
        "print(a,'>=',5,'=',hasil)\n",
        "hasil = b >= 7\n",
        "print(b,'>=',7,'=',hasil)"
      ]
    },
    {
      "cell_type": "markdown",
      "metadata": {
        "id": "zYN0P-EvH8xK"
      },
      "source": [
        "## Lebih kecil dari sama dengan (≤)"
      ]
    },
    {
      "cell_type": "code",
      "execution_count": null,
      "metadata": {
        "colab": {
          "base_uri": "https://localhost:8080/"
        },
        "id": "42uYMuHcICH-",
        "outputId": "6cf9f70f-3c6d-4a51-df1d-b6fd2c459dcc"
      },
      "outputs": [
        {
          "name": "stdout",
          "output_type": "stream",
          "text": [
            "===  lebih kecil dari sama dengan(<=) ===\n",
            "8 <= 5 = False\n",
            "5 <= 10 = True\n"
          ]
        }
      ],
      "source": [
        "a = 8\n",
        "b = 5\n",
        "\n",
        "#  lebih kecil dari sama dengan <=\n",
        "print(\"===  lebih kecil dari sama dengan(<=) ===\")\n",
        "hasil = a <= 5\n",
        "print(a,'<=',5,'=',hasil)\n",
        "hasil = b <= 10\n",
        "print(b,'<=',10,'=',hasil)"
      ]
    },
    {
      "cell_type": "markdown",
      "metadata": {
        "id": "werGCzZmIKmP"
      },
      "source": [
        "## Sama dengan (=)"
      ]
    },
    {
      "cell_type": "code",
      "execution_count": null,
      "metadata": {
        "colab": {
          "base_uri": "https://localhost:8080/"
        },
        "id": "tRziGG3BINQF",
        "outputId": "85fa4f0f-4839-4464-8d59-5b32fa709862"
      },
      "outputs": [
        {
          "name": "stdout",
          "output_type": "stream",
          "text": [
            "=== sama dengan (==) ===\n",
            "7 == 7 = True\n",
            "5 == 3 = False\n"
          ]
        }
      ],
      "source": [
        "a = 7\n",
        "b = 5\n",
        "\n",
        "# sama dengan (==)\n",
        "print(\"=== sama dengan (==) ===\")\n",
        "hasil = a == 7\n",
        "print(a,'==',7,'=',hasil)\n",
        "hasil = b == 3\n",
        "print(b,'==',3,'=',hasil)"
      ]
    },
    {
      "cell_type": "markdown",
      "metadata": {
        "id": "LBZfdJcIIXnA"
      },
      "source": [
        "## Tidak sama dengan (≠)"
      ]
    },
    {
      "cell_type": "code",
      "execution_count": null,
      "metadata": {
        "colab": {
          "base_uri": "https://localhost:8080/"
        },
        "id": "Zg02fUn2Ia0d",
        "outputId": "48b238b3-8154-4b8f-bf33-ef4a616a4533"
      },
      "outputs": [
        {
          "name": "stdout",
          "output_type": "stream",
          "text": [
            "=== tidak sama dengan (!=) ===\n",
            "7 != 8 = True\n",
            "5 != 5 = False\n"
          ]
        }
      ],
      "source": [
        "a = 7\n",
        "b = 5\n",
        "\n",
        "# tidak sama dengan (!=)\n",
        "print(\"=== tidak sama dengan (!=) ===\")\n",
        "hasil = a != 8\n",
        "print(a,'!=',8,'=',hasil)\n",
        "hasil = b != 5\n",
        "print(b,'!=',5,'=',hasil)"
      ]
    },
    {
      "cell_type": "markdown",
      "metadata": {
        "id": "sH0DBBzcIqQw"
      },
      "source": [
        "## Operasi komparasi is\n",
        "\n",
        "Operasi ini untuk membandingkan dua variabel apakah memiliki nilai yang sama. Dan melalui operasi ini dapat diketahui bahwa dua variabel yang memiliki nilai yang sama akan disimpan dengan ID yang sama juga di dalam satu memory. Lalu untuk perbedaan dengan operasi komparasi sama dengan adalah pada penggunaannya. operasi is biasanya digunakan untuk membandingkan dua variabel atau objek sedangkan operasi sama dengan biasanya digunakan untuk membandingkan variabel dengan literal (Literal adalah semua nilai mentah yang kita ketikkan pada kode program. Literal ini bisa berupa angka, huruf, kata, kalimat, nilai boolean, dan lain sebagainya.)"
      ]
    },
    {
      "cell_type": "code",
      "execution_count": null,
      "metadata": {
        "colab": {
          "base_uri": "https://localhost:8080/"
        },
        "id": "PtQafXseIxHX",
        "outputId": "396c3546-7fb0-406f-857e-2a65f2ac0dd5"
      },
      "outputs": [
        {
          "name": "stdout",
          "output_type": "stream",
          "text": [
            "=== 'is' sebagai komparasi object identity ===\n",
            "nilai x = 7 ,id =  0x7fdc76af41b0\n",
            "nilai y = 7 ,id =  0x7fdc76af41b0\n",
            "x is y = True\n",
            "nilai x = 5 ,id =  0x7fdc76af4170\n",
            "nilai y = 8 ,id =  0x7fdc76af41d0\n",
            "x is y = False\n"
          ]
        }
      ],
      "source": [
        "# 'is' sebagai komparasi object identity\n",
        "print(\"=== 'is' sebagai komparasi object identity ===\")\n",
        "x = 7 # ini adalah assignment membuat object\n",
        "y = 7\n",
        "print('nilai x =',x,',id = ',hex(id(x))) # melihat id atau disimpan di memory yang sama\n",
        "print('nilai y =',y,',id = ',hex(id(y)))\n",
        "hasil = x is y\n",
        "print('x is y =',hasil) # akan true jika idnya sama dan kebalikannya\n",
        "\n",
        "x = 5 # ini adalah assignment membuat object\n",
        "y = 8\n",
        "print('nilai x =',x,',id = ',hex(id(x)))\n",
        "print('nilai y =',y,',id = ',hex(id(y)))\n",
        "hasil = x is y\n",
        "print('x is y =',hasil)"
      ]
    },
    {
      "cell_type": "markdown",
      "metadata": {
        "id": "Hv_GHpIeIzoy"
      },
      "source": [
        "## Operasi komparasi is not\n",
        "\n",
        "Operasi ini adalah kebalikan dari operasi is"
      ]
    },
    {
      "cell_type": "code",
      "execution_count": null,
      "metadata": {
        "colab": {
          "base_uri": "https://localhost:8080/"
        },
        "id": "ueJbkproI2LY",
        "outputId": "8ba50ea6-3b74-4cbc-dfac-fb0f669bfc8a"
      },
      "outputs": [
        {
          "name": "stdout",
          "output_type": "stream",
          "text": [
            "=== 'is not' sebagai komparasi object identity ===\n",
            "nilai x = 3 ,id =  0x7fdc76af4130\n",
            "nilai y = 6 ,id =  0x7fdc76af4190\n",
            "x is y = True\n"
          ]
        }
      ],
      "source": [
        "print(\"=== 'is not' sebagai komparasi object identity ===\") # kebalikan dari is\n",
        "x = 3 # ini adalah assignment membuat object\n",
        "y = 6\n",
        "print('nilai x =',x,',id = ',hex(id(x)))\n",
        "print('nilai y =',y,',id = ',hex(id(y)))\n",
        "hasil = x is not y\n",
        "print('x is y =',hasil)"
      ]
    },
    {
      "cell_type": "markdown",
      "metadata": {
        "id": "giv0itksI6tN"
      },
      "source": [
        "hex(id())\n",
        "\n",
        "Digunakan untuk melihat id dari nilai yang dimiliki oleh sebuah variabel sperti pada code di atas (operasi is dan is not)"
      ]
    },
    {
      "cell_type": "markdown",
      "metadata": {
        "id": "fAMmQ4lFI_mw"
      },
      "source": [
        "# **Operasi Logika atau Boolean**\n",
        "\n",
        "---\n"
      ]
    },
    {
      "cell_type": "markdown",
      "metadata": {
        "id": "_CWZQnyyJOAY"
      },
      "source": [
        "## NOT\n",
        "\n",
        "Pada operasi ini variabel yang menggunakan not maka memiliki hasil yang merupakan kebalikan dari variabel yang dinotkan. Seperti pada contoh code dibawah ini."
      ]
    },
    {
      "cell_type": "code",
      "execution_count": null,
      "metadata": {
        "colab": {
          "base_uri": "https://localhost:8080/"
        },
        "id": "8kwhufvhJQyL",
        "outputId": "cbd7e57f-5908-4b15-904b-d6b818e5659a"
      },
      "outputs": [
        {
          "name": "stdout",
          "output_type": "stream",
          "text": [
            "====NOT====\n",
            "data a = True\n",
            "--- NOT ---\n",
            "data c = False\n"
          ]
        }
      ],
      "source": [
        "# NOT\n",
        "print('====NOT====')\n",
        "a = True\n",
        "c = not a\n",
        "print('data a =',a)\n",
        "print('--- NOT ---')\n",
        "print('data c =',c)"
      ]
    },
    {
      "cell_type": "markdown",
      "metadata": {
        "id": "VgXJr5o3JSkL"
      },
      "source": [
        "## OR\n",
        "\n",
        "Pada operasi ini jika salah satu variabel bernilai true maka hasilnya adalah true. Dan jika sama-sama false hasilnya akan tetap false."
      ]
    },
    {
      "cell_type": "code",
      "execution_count": null,
      "metadata": {
        "colab": {
          "base_uri": "https://localhost:8080/"
        },
        "id": "XtrjXT9VJXHN",
        "outputId": "60b03cb5-644d-4f2d-fb86-b012afbb1a95"
      },
      "outputs": [
        {
          "name": "stdout",
          "output_type": "stream",
          "text": [
            "====OR====\n",
            "False  OR  False  =  False\n",
            "True  OR  False  =  True\n",
            "False  OR  True  =  True\n",
            "True  OR  True  =  True\n"
          ]
        }
      ],
      "source": [
        "# OR\n",
        "print('====OR====')\n",
        "a = False\n",
        "b = False\n",
        "c = a or b\n",
        "print(a,' OR ',b,' = ',c)\n",
        "\n",
        "a = True\n",
        "b = False\n",
        "c = a or b\n",
        "print(a,' OR ',b,' = ',c)\n",
        "\n",
        "a = False\n",
        "b = True\n",
        "c = a or b\n",
        "print(a,' OR ',b,' = ',c)\n",
        "\n",
        "a = True\n",
        "b = True\n",
        "c = a or b\n",
        "print(a,' OR ',b,' = ',c)"
      ]
    },
    {
      "cell_type": "markdown",
      "metadata": {
        "id": "5qDYOUQuJZSG"
      },
      "source": [
        "## AND\n",
        "\n",
        "Pada operasi ini mengharuskan kedua nilai bernilai true untuk menghasilkan hasil true."
      ]
    },
    {
      "cell_type": "code",
      "execution_count": null,
      "metadata": {
        "colab": {
          "base_uri": "https://localhost:8080/"
        },
        "id": "FSKhzNH8Jbwp",
        "outputId": "4ec1adc8-9a52-49b5-a9a1-9bf1d31d15e8"
      },
      "outputs": [
        {
          "name": "stdout",
          "output_type": "stream",
          "text": [
            "====AND====\n",
            "False AND False = False\n",
            "True AND False  = False\n",
            "False  AND True = False\n",
            "True  AND True  = True\n"
          ]
        }
      ],
      "source": [
        "# AND\n",
        "print('====AND====')\n",
        "a = False\n",
        "b = False\n",
        "c = a and b\n",
        "print(a,'AND',b,'=',c)\n",
        "\n",
        "a = True\n",
        "b = False\n",
        "c = a and b\n",
        "print(a,'AND',b,' =',c)\n",
        "\n",
        "a = False\n",
        "b = True\n",
        "c = a and b\n",
        "print(a,' AND',b,'=',c)\n",
        "\n",
        "a = True\n",
        "b = True\n",
        "c = a and b\n",
        "print(a,' AND',b,' =',c)"
      ]
    },
    {
      "cell_type": "markdown",
      "metadata": {
        "id": "to0cb_teJec-"
      },
      "source": [
        "## XOR\n",
        "\n",
        "Pada operasi ini akan menghasilkan hasil true jika salah satu true. Jika kedua nilai memiliki nilai yang sama (True-True / False-False) maka akan menghasilkan false."
      ]
    },
    {
      "cell_type": "code",
      "execution_count": null,
      "metadata": {
        "colab": {
          "base_uri": "https://localhost:8080/"
        },
        "id": "TuqTFsqBJhSO",
        "outputId": "44db8b48-f6fd-41b7-b32a-3243c1b45e0d"
      },
      "outputs": [
        {
          "name": "stdout",
          "output_type": "stream",
          "text": [
            "====XOR====\n",
            "False XOR False = False\n",
            "True XOR False  = True\n",
            "False  XOR True = True\n",
            "True  XOR True  = False\n"
          ]
        }
      ],
      "source": [
        "# XOR\n",
        "print('====XOR====')\n",
        "a = False\n",
        "b = False\n",
        "c = a ^ b\n",
        "print(a,'XOR',b,'=',c)\n",
        "\n",
        "a = True\n",
        "b = False\n",
        "c = a ^ b\n",
        "print(a,'XOR',b,' =',c)\n",
        "\n",
        "a = False\n",
        "b = True\n",
        "c = a ^ b\n",
        "print(a,' XOR',b,'=',c)\n",
        "\n",
        "a = True\n",
        "b = True\n",
        "c = a ^ b\n",
        "print(a,' XOR',b,' =',c)"
      ]
    },
    {
      "cell_type": "markdown",
      "metadata": {
        "id": "Mz9omHewJlsd"
      },
      "source": [
        "# **Latihan Komparasi dan Logika**\n",
        "\n",
        "---\n"
      ]
    },
    {
      "cell_type": "markdown",
      "metadata": {
        "id": "6P78f8HEJs6r"
      },
      "source": [
        "Angka yang bernilai lebih besar dari 1 dan lebih kecil dari 10."
      ]
    },
    {
      "cell_type": "code",
      "execution_count": null,
      "metadata": {
        "colab": {
          "base_uri": "https://localhost:8080/"
        },
        "id": "rL9jwPNYJvxy",
        "outputId": "93c292e1-97f9-4f32-cf1e-eeb3b6db8074"
      },
      "outputs": [
        {
          "name": "stdout",
          "output_type": "stream",
          "text": [
            "Masukkan angka 1-10 : 20\n",
            "False\n",
            "\n"
          ]
        }
      ],
      "source": [
        "# angka 1 sampai 10\n",
        "angka = float(input(\"Masukkan angka 1-10 : \"))\n",
        "lebih = (angka >= 1)\n",
        "kurang = (angka <= 10)\n",
        "correct = lebih and kurang\n",
        "print (correct)\n",
        "print()"
      ]
    },
    {
      "cell_type": "markdown",
      "metadata": {
        "id": "BNNoAZFGJxd9"
      },
      "source": [
        "Angka yang bernilai lebih kecil dari 1  atau lebih besar dari 10."
      ]
    },
    {
      "cell_type": "code",
      "execution_count": null,
      "metadata": {
        "colab": {
          "base_uri": "https://localhost:8080/"
        },
        "id": "SrTTOTpEJzxi",
        "outputId": "dbb09a94-801d-4e45-f19d-ad069cc011c9"
      },
      "outputs": [
        {
          "name": "stdout",
          "output_type": "stream",
          "text": [
            "Masukkan angka <1 dan >10 : 11\n",
            "True\n"
          ]
        }
      ],
      "source": [
        "# angka lebih kecil dari 1 dan lebih besar dari 10\n",
        "angka = float(input(\"Masukkan angka <1 dan >10 : \"))\n",
        "lebih = (angka > 10)\n",
        "kurang = (angka < 1)\n",
        "correct = lebih or kurang\n",
        "print (correct)"
      ]
    },
    {
      "cell_type": "markdown",
      "metadata": {
        "id": "rtF5AI9gJ2td"
      },
      "source": [
        "# **Operasi Bitwise**\n",
        "\n",
        "---\n",
        "Operasi Bitwise adalah operasi pada masing-masing bit.\n"
      ]
    },
    {
      "cell_type": "markdown",
      "metadata": {
        "id": "lt_-P5aKKB_Q"
      },
      "source": [
        "## Binary\n",
        "\n",
        "Binary integer programming adalah model integer programming dimana variabel keputusan yang dimilikinya hanya memiliki dua nilai biner yaitu 0 atau 1. Jenis program binary digunakan untuk memecahkan permasalahan yang bersifat yes or no decision. Angka biner 8 bit dapat mewakili maksimum desimal 255 = biner 11111111."
      ]
    },
    {
      "cell_type": "markdown",
      "metadata": {
        "id": "mRtJpo5DKLg9"
      },
      "source": [
        "![image.png](data:image/png;base64,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)\n",
        "\n"
      ]
    },
    {
      "cell_type": "markdown",
      "metadata": {
        "id": "sakxj90AKnH7"
      },
      "source": [
        "## Operasi bitwise atau operasi pada binary"
      ]
    },
    {
      "cell_type": "markdown",
      "metadata": {
        "id": "oCnepsokKxYN"
      },
      "source": [
        "## format(variable,'08b')\n",
        "\n",
        "Syntax ini digunakan untuk membuat model binary dan untuk mengoperasikannya menjadi angka atau integer seperti pada operasi bitwise dibawah."
      ]
    },
    {
      "cell_type": "markdown",
      "metadata": {
        "id": "LtAhXeiCK1rM"
      },
      "source": [
        "## Bitwise OR ( | )"
      ]
    },
    {
      "cell_type": "code",
      "execution_count": null,
      "metadata": {
        "id": "5k3p2pqPKSp6",
        "colab": {
          "base_uri": "https://localhost:8080/"
        },
        "outputId": "e2f7620e-b02a-42c8-a9cc-9470cee6fcb9"
      },
      "outputs": [
        {
          "output_type": "stream",
          "name": "stdout",
          "text": [
            "\n",
            "=========OR=========\n",
            "nilai : 8  , binary : 00001000\n",
            "nilai : 5  , binary : 00000101\n",
            "----------------------------- (|)\n",
            "nilai : 13  , binary : 00001101\n"
          ]
        }
      ],
      "source": [
        "a = 8\n",
        "b = 5\n",
        "\n",
        "# bitwise OR (|)\n",
        "c = a | b\n",
        "print('\\n=========OR=========')\n",
        "print('nilai :',a,' , binary :',format(a,'08b'))\n",
        "print('nilai :',b,' , binary :',format(b,'08b'))\n",
        "print('----------------------------- (|)')\n",
        "print('nilai :',c,' , binary :',format(c,'08b'))"
      ]
    },
    {
      "cell_type": "markdown",
      "metadata": {
        "id": "71ppkGuHK03r"
      },
      "source": [
        "## Bitwise AND (&)"
      ]
    },
    {
      "cell_type": "code",
      "execution_count": null,
      "metadata": {
        "id": "jnq90gsOK7Jh",
        "colab": {
          "base_uri": "https://localhost:8080/"
        },
        "outputId": "4a0659a0-11b1-4f84-8f71-030c12ac2002"
      },
      "outputs": [
        {
          "output_type": "stream",
          "name": "stdout",
          "text": [
            "\n",
            "=========AND========\n",
            "nilai : 8  , binary : 00001000\n",
            "nilai : 5  , binary : 00000101\n",
            "----------------------------- (&)\n",
            "nilai : 0  , binary : 00000000\n"
          ]
        }
      ],
      "source": [
        "a = 8\n",
        "b = 5\n",
        "\n",
        "# bitwise AND (&)\n",
        "c = a & b\n",
        "print('\\n=========AND========')\n",
        "print('nilai :',a,' , binary :',format(a,'08b'))\n",
        "print('nilai :',b,' , binary :',format(b,'08b'))\n",
        "print('----------------------------- (&)')\n",
        "print('nilai :',c,' , binary :',format(c,'08b'))"
      ]
    },
    {
      "cell_type": "markdown",
      "metadata": {
        "id": "WaEaNj4WK_2a"
      },
      "source": [
        "## Bitwise XOR (^)"
      ]
    },
    {
      "cell_type": "code",
      "execution_count": null,
      "metadata": {
        "id": "c7P85zBgLCVq",
        "colab": {
          "base_uri": "https://localhost:8080/"
        },
        "outputId": "718d61c7-d9f9-4f76-a66a-686d41e3791e"
      },
      "outputs": [
        {
          "output_type": "stream",
          "name": "stdout",
          "text": [
            "\n",
            "=========XOR========\n",
            "nilai : 8  , binary : 00001000\n",
            "nilai : 5  , binary : 00000101\n",
            "----------------------------- (^)\n",
            "nilai : 13  , binary : 00001101\n"
          ]
        }
      ],
      "source": [
        "a = 8\n",
        "b = 5\n",
        "\n",
        "# bitwise XOR (^)\n",
        "c = a ^ b\n",
        "print('\\n=========XOR========')\n",
        "print('nilai :',a,' , binary :',format(a,'08b'))\n",
        "print('nilai :',b,' , binary :',format(b,'08b'))\n",
        "print('----------------------------- (^)')\n",
        "print('nilai :',c,' , binary :',format(c,'08b'))"
      ]
    },
    {
      "cell_type": "markdown",
      "metadata": {
        "id": "gmixEHFaLLFM"
      },
      "source": [
        "## Bitwise NOT (~)"
      ]
    },
    {
      "cell_type": "code",
      "execution_count": null,
      "metadata": {
        "id": "ks3qO4IzLHyz",
        "colab": {
          "base_uri": "https://localhost:8080/"
        },
        "outputId": "2648f224-bfb2-4041-b34e-f7d77257c498"
      },
      "outputs": [
        {
          "output_type": "stream",
          "name": "stdout",
          "text": [
            "\n",
            "=========NOT========\n",
            "nilai : 8  , binary : 00001000\n",
            "----------------------------- (~)\n",
            "nilai : -9  , binary : -0001001\n",
            "----------------------------- (^)\n",
            "nilai : 1014  , binary : 1111110110\n"
          ]
        }
      ],
      "source": [
        "a = 8\n",
        "b = 5\n",
        "\n",
        "# bitwise NOT (~)\n",
        "c = ~a\n",
        "print('\\n=========NOT========')\n",
        "print('nilai :',a,' , binary :',format(a,'08b'))\n",
        "print('----------------------------- (~)')\n",
        "print('nilai :',c,' , binary :',format(c,'08b'))\n",
        "print('----------------------------- (^)')\n",
        "d = 0b0000001001\n",
        "e = 0b1111111111\n",
        "print('nilai :',e^d,' , binary :',format(e^d,'08b'))"
      ]
    },
    {
      "cell_type": "markdown",
      "metadata": {
        "id": "UVBJPE18LN1_"
      },
      "source": [
        "## Shifting"
      ]
    },
    {
      "cell_type": "code",
      "execution_count": null,
      "metadata": {
        "id": "MmLSPC9KLQuP",
        "colab": {
          "base_uri": "https://localhost:8080/"
        },
        "outputId": "6b0b6cde-2d96-4858-9f72-04121875d4ad"
      },
      "outputs": [
        {
          "output_type": "stream",
          "name": "stdout",
          "text": [
            "\n",
            "=========>>=========\n",
            "nilai : 8  , binary : 00001000\n",
            "----------------------------- (>>)\n",
            "nilai : 2  , binary : 00000010\n",
            "\n",
            "=========<<=========\n",
            "nilai : 8  , binary : 00001000\n",
            "----------------------------- (<<)\n",
            "nilai : 32  , binary : 00100000\n"
          ]
        }
      ],
      "source": [
        "a = 8\n",
        "b = 5\n",
        "\n",
        "# shifting\n",
        "\n",
        "# shift right (>>)\n",
        "c = a >> 2\n",
        "print('\\n=========>>=========')\n",
        "print('nilai :',a,' , binary :',format(a,'08b'))\n",
        "print('----------------------------- (>>)')\n",
        "print('nilai :',c,' , binary :',format(c,'08b'))\n",
        "\n",
        "# shift left (<<)\n",
        "c = a << 2\n",
        "print('\\n=========<<=========')\n",
        "print('nilai :',a,' , binary :',format(a,'08b'))\n",
        "print('----------------------------- (<<)')\n",
        "print('nilai :',c,' , binary :',format(c,'08b'))"
      ]
    },
    {
      "cell_type": "markdown",
      "metadata": {
        "id": "tjD3MK-TLWra"
      },
      "source": [
        "# **Operator Assignment**\n",
        "\n",
        "---\n",
        "Penyederhanaan operasi dengan cara penyingkatan seperti berikut.\n"
      ]
    },
    {
      "cell_type": "markdown",
      "metadata": {
        "id": "CADDBrqhLfX8"
      },
      "source": [
        "## Operasi assignment pada operasi aritmetika\n",
        "\n",
        "| Assignment | Dapat diganti dengan |\n",
        "| --- | --- |\n",
        "| a = a + b | a += b |\n",
        "| a = a - b | a -= b |\n",
        "| a = a * 5 | a *= 5 |\n",
        "| a = a / 2 | a /= 2 |\n",
        "| a = a % 3 | a %= 3 |\n",
        "| a = a // 3 | a //= 3 |\n",
        "| a = a ** 3 | a **= 3 |"
      ]
    },
    {
      "cell_type": "markdown",
      "metadata": {
        "id": "szszsSDFLoi2"
      },
      "source": [
        "## Operasi aritmatika sederhana (+, -, *, /)"
      ]
    },
    {
      "cell_type": "code",
      "execution_count": null,
      "metadata": {
        "colab": {
          "base_uri": "https://localhost:8080/"
        },
        "id": "KKVVsz96LddZ",
        "outputId": "bb3319cd-c185-493d-93c2-9d2298a29aac"
      },
      "outputs": [
        {
          "name": "stdout",
          "output_type": "stream",
          "text": [
            "nilai a = 5\n",
            "nilai a += 1, nilai a menjadi 6\n",
            "nilai a -= 2, nilai a menjadi 4\n",
            "nilai a *= 5, nilai a menjadi 20\n",
            "nilai a /= 2, nilai a menjadi 10.0\n"
          ]
        }
      ],
      "source": [
        "a = 5 # adalah assignment\n",
        "print(\"nilai a =\",a)\n",
        "\n",
        "a += 1 # artinya adalah a = a + 1\n",
        "print(\"nilai a += 1, nilai a menjadi\",a)\n",
        "\n",
        "a -= 2 # artinya adalah a = a - 2\n",
        "print(\"nilai a -= 2, nilai a menjadi\",a)\n",
        "\n",
        "a *= 5 # artinya adalah a = a * 5\n",
        "print(\"nilai a *= 5, nilai a menjadi\",a)\n",
        "\n",
        "a /= 2 # artinya adalah a = a / 2\n",
        "print(\"nilai a /= 2, nilai a menjadi\",a)"
      ]
    },
    {
      "cell_type": "markdown",
      "metadata": {
        "id": "_qry5vwZLuy9"
      },
      "source": [
        "## Modulus, floor division dan eksponen"
      ]
    },
    {
      "cell_type": "code",
      "execution_count": null,
      "metadata": {
        "colab": {
          "base_uri": "https://localhost:8080/"
        },
        "id": "Uc39TVS0LxXW",
        "outputId": "a319aefd-27c2-472b-bc86-75594fc7417d"
      },
      "outputs": [
        {
          "name": "stdout",
          "output_type": "stream",
          "text": [
            "\n",
            "nilai b = 11\n",
            "nilai b %= 3, nilai b menjadi 2\n",
            "nilai b //= 3, nilai b menjadi 3\n",
            "nilai b **= 2, nilai b menjadi 121\n"
          ]
        }
      ],
      "source": [
        "b = 11\n",
        "print(\"\\nnilai b =\",b)\n",
        "\n",
        "# modulus\n",
        "b %= 3\n",
        "print(\"nilai b %= 3, nilai b menjadi\",b)\n",
        "\n",
        "# floor division\n",
        "b = 11\n",
        "b //= 3\n",
        "print(\"nilai b //= 3, nilai b menjadi\",b)\n",
        "\n",
        "# pangkat atau eksponen\n",
        "b = 11\n",
        "b **= 2\n",
        "print(\"nilai b **= 2, nilai b menjadi\",b)"
      ]
    },
    {
      "cell_type": "markdown",
      "metadata": {
        "id": "c3CLFYjbL2Fr"
      },
      "source": [
        "## Operasi assingment pada operasi bitwise"
      ]
    },
    {
      "cell_type": "markdown",
      "metadata": {
        "id": "Jv3yONOfL4r4"
      },
      "source": [
        "### OR"
      ]
    },
    {
      "cell_type": "code",
      "execution_count": null,
      "metadata": {
        "id": "h5eJKzsJL6eJ",
        "colab": {
          "base_uri": "https://localhost:8080/"
        },
        "outputId": "d6a7e20e-6350-4890-c0af-46dd43499365"
      },
      "outputs": [
        {
          "output_type": "stream",
          "name": "stdout",
          "text": [
            "\n",
            "nilai c = True\n",
            "nilai c |= False, nilai c menjadi True\n",
            "nilai c = False\n",
            "nilai c |= False, nilai c menjadi False\n"
          ]
        }
      ],
      "source": [
        "# OR\n",
        "c = True\n",
        "print(\"\\nnilai c =\",c)\n",
        "c |= False\n",
        "print(\"nilai c |= False, nilai c menjadi\",c)\n",
        "c = False\n",
        "print(\"nilai c =\",c)\n",
        "c |= False\n",
        "print(\"nilai c |= False, nilai c menjadi\",c)"
      ]
    },
    {
      "cell_type": "markdown",
      "metadata": {
        "id": "xXjaDfiPL9g3"
      },
      "source": [
        "### AND"
      ]
    },
    {
      "cell_type": "code",
      "execution_count": null,
      "metadata": {
        "id": "sBbDYz63L_BN",
        "colab": {
          "base_uri": "https://localhost:8080/"
        },
        "outputId": "c064a9d9-f4e6-4db8-f4e0-1a4603c7a9cd"
      },
      "outputs": [
        {
          "output_type": "stream",
          "name": "stdout",
          "text": [
            "\n",
            "nilai c = True\n",
            "nilai c &= False, nilai c menjadi False\n",
            "nilai c = True\n",
            "nilai c &= True, nilai c menjadi True\n"
          ]
        }
      ],
      "source": [
        "# AND\n",
        "c = True\n",
        "print(\"\\nnilai c =\",c)\n",
        "c &= False\n",
        "print(\"nilai c &= False, nilai c menjadi\",c)\n",
        "c = True\n",
        "print(\"nilai c =\",c)\n",
        "c &= True\n",
        "print(\"nilai c &= True, nilai c menjadi\",c)"
      ]
    },
    {
      "cell_type": "markdown",
      "metadata": {
        "id": "pf07E1KsMBTN"
      },
      "source": [
        "### XOR"
      ]
    },
    {
      "cell_type": "code",
      "execution_count": null,
      "metadata": {
        "id": "r3SdYStgMDXd",
        "colab": {
          "base_uri": "https://localhost:8080/"
        },
        "outputId": "4bfa102b-4603-4fde-ae77-adb2934803fc"
      },
      "outputs": [
        {
          "output_type": "stream",
          "name": "stdout",
          "text": [
            "\n",
            "nilai c = True\n",
            "nilai c ^= False, nilai c menjadi True\n",
            "nilai c = True\n",
            "nilai c ^= True, nilai c menjadi False\n"
          ]
        }
      ],
      "source": [
        "# XOR\n",
        "c = True\n",
        "print(\"\\nnilai c =\",c)\n",
        "c ^= False\n",
        "print(\"nilai c ^= False, nilai c menjadi\",c)\n",
        "c = True\n",
        "print(\"nilai c =\",c)\n",
        "c ^= True\n",
        "print(\"nilai c ^= True, nilai c menjadi\",c)"
      ]
    },
    {
      "cell_type": "markdown",
      "metadata": {
        "id": "rkDeQlF-MFiz"
      },
      "source": [
        "### Shifting"
      ]
    },
    {
      "cell_type": "code",
      "execution_count": null,
      "metadata": {
        "id": "ThfPUgJAMH4N",
        "colab": {
          "base_uri": "https://localhost:8080/"
        },
        "outputId": "365bde48-dda8-420d-c370-e99419bbc693"
      },
      "outputs": [
        {
          "output_type": "stream",
          "name": "stdout",
          "text": [
            "\n",
            "nilai d = 0100\n",
            "nilai d >>= 2, nilai d menjadi 0001\n",
            "nilai d <<= 1, nilai d menjadi 0010\n"
          ]
        }
      ],
      "source": [
        "# geser geser (shifting)\n",
        "d = 0b0100\n",
        "print(\"\\nnilai d =\",format(d,'04b'))\n",
        "d >>= 2\n",
        "print(\"nilai d >>= 2, nilai d menjadi\",format(d,'04b'))\n",
        "d <<= 1\n",
        "print(\"nilai d <<= 1, nilai d menjadi\",format(d,'04b'))"
      ]
    },
    {
      "cell_type": "markdown",
      "metadata": {
        "id": "dMQy20R1QhDQ"
      },
      "source": [
        "# **Latihan Date and Time**\n",
        "\n",
        "---\n",
        "Latihan menghitung umur menggunakan materi input dari user, operasi aritmatika dan format string.\n"
      ]
    },
    {
      "cell_type": "code",
      "execution_count": null,
      "metadata": {
        "colab": {
          "base_uri": "https://localhost:8080/"
        },
        "id": "n2ypjCeAQkCF",
        "outputId": "c809c023-e778-455a-bc0e-09160853e437"
      },
      "outputs": [
        {
          "output_type": "stream",
          "name": "stdout",
          "text": [
            "Silahkan masukan tanggal, \n",
            "bulan dan tahun lahir anda \n",
            "\n",
            "Tanggal lahir\t : 15\n",
            "Bulan lahir\t : 06\n",
            "Tahun lahir\t : 2006\n",
            "\n",
            "Hasil : \n",
            "Tanggal lahir anda adalah : 2006-06-15\n",
            "Hari ini tanggal: 2023-07-04\n",
            "Umur anda adalah hari : 17 tahun, 0 bulan, 19 hari.\n"
          ]
        }
      ],
      "source": [
        "#Menghitung umur0\n",
        "\n",
        "import datetime as dt\n",
        "\n",
        "print(\"Silahkan masukan tanggal, \\nbulan dan tahun lahir anda \\n\")\n",
        "tanggal = int(input(\"Tanggal lahir\\t : \"))\n",
        "bulan = int(input(\"Bulan lahir\\t : \"))\n",
        "tahun = int(input(\"Tahun lahir\\t : \"))\n",
        "\n",
        "print()\n",
        "print (f\"Hasil : \")\n",
        "tanggal_lahir = dt.date(tahun,bulan,tanggal)\n",
        "print(f\"Tanggal lahir anda adalah : {tanggal_lahir}\")\n",
        "\n",
        "hari_ini = dt.date.today()\n",
        "print(f\"Hari ini tanggal: {hari_ini}\")\n",
        "umur_hari = hari_ini - tanggal_lahir\n",
        "umur_tahun = umur_hari.days // 365.25\n",
        "umur_bulan_sisa = (umur_hari.days % 365.25) // 30.4167\n",
        "umur_hari_sisa = (umur_hari.days % 365.25) % 30.4167\n",
        "\n",
        "print(f\"Umur anda adalah hari : {umur_tahun:.0f} tahun, {umur_bulan_sisa:.0f} bulan, {umur_hari_sisa:.0f} hari.\")"
      ]
    },
    {
      "cell_type": "markdown",
      "metadata": {
        "id": "GTYhGlxuQpzg"
      },
      "source": [
        "# **IF - ELSE Statement**\n",
        "\n",
        "---\n",
        "\n",
        "\n",
        "\n",
        "If dan Else Statement terdiri dari:\n",
        "\n",
        "1. if\n",
        "2. kondisi\n",
        "3. aksi"
      ]
    },
    {
      "cell_type": "code",
      "execution_count": null,
      "metadata": {
        "colab": {
          "base_uri": "https://localhost:8080/"
        },
        "id": "aAXS5wfKQyNc",
        "outputId": "722fe7ae-c008-47c0-ce1e-67e57465fc93"
      },
      "outputs": [
        {
          "name": "stdout",
          "output_type": "stream",
          "text": [
            "Siapa namamu? alex\n",
            "Kamu ganteng banget!!! Terima kasih alex\n",
            "kamu ganteng banget! kamu juga keren banget! Terima kasih alex\n",
            "Hai alex, si ganteng!!!\n",
            "Program Berakhir\n"
          ]
        }
      ],
      "source": [
        "nama = input(\"Siapa namamu? \")\n",
        "\n",
        "# 1. program if inline\n",
        "if nama==\"alex\" :\n",
        "    print(f\"Kamu ganteng banget!!! Terima kasih {nama}\")\n",
        "\n",
        "# 2. program if indentation\n",
        "if nama==\"alex\":\n",
        "  print(f\"kamu ganteng banget! kamu juga keren banget! Terima kasih {nama}\")\n",
        "\n",
        "# 3. Else Statement\n",
        "\n",
        "if nama==\"alex\":\n",
        "    print(\"Hai alex, si ganteng!!!\")\n",
        "else:\n",
        "    print(\"Ah lu bukan alex, lu gak ganteng!\")\n",
        "\n",
        "print(\"Program Berakhir\")"
      ]
    },
    {
      "cell_type": "markdown",
      "metadata": {
        "id": "bJvtIrDBQ3_x"
      },
      "source": [
        "# **ELIF Statement**\n",
        "\n",
        "---\n",
        "\n",
        "\n",
        "\n",
        "ELIF digunakan saat program memiliki banyak kondisi."
      ]
    },
    {
      "cell_type": "code",
      "execution_count": null,
      "metadata": {
        "colab": {
          "base_uri": "https://localhost:8080/"
        },
        "id": "2ZxjbnRZQ9aZ",
        "outputId": "63b34899-0d5d-4ba9-9483-c87d8a8d4c03"
      },
      "outputs": [
        {
          "name": "stdout",
          "output_type": "stream",
          "text": [
            "Siapa nama kamu? ferdi\n",
            "Hai seleb!\n",
            "Program berakhir\n"
          ]
        }
      ],
      "source": [
        "# ELIF = else if statement\n",
        "\n",
        "nama = input(\"Siapa nama kamu? \")\n",
        "\n",
        "if nama == \"alex\": # kondisi 1\n",
        "\tprint(\"Hai ganteng!\") # aksi true 1\n",
        "elif nama == \"reza\": # kondisi 2\n",
        "\tprint(\"Hai si pintar!\") # aksi true 2\n",
        "elif nama == \"ferdi\": # kondisi 3\n",
        "\tprint(\"Hai seleb!\") # aksi true 3\n",
        "else:\n",
        "\tprint(\"Ga kenal\") # aksi false\n",
        "\n",
        "print(\"Program berakhir\")"
      ]
    },
    {
      "cell_type": "markdown",
      "metadata": {
        "id": "ycoK5o5dRB4c"
      },
      "source": [
        "# **Kalkulator Sederhana**\n",
        "\n",
        "---\n",
        "\n"
      ]
    },
    {
      "cell_type": "code",
      "execution_count": null,
      "metadata": {
        "id": "n5SXoM4GREav",
        "colab": {
          "base_uri": "https://localhost:8080/"
        },
        "outputId": "0864a92d-e33e-49f9-a037-3df28160b34d"
      },
      "outputs": [
        {
          "output_type": "stream",
          "name": "stdout",
          "text": [
            "--------------------\n",
            "Kalkulator Sederhana\n",
            "--------------------\n",
            "Masukkan angka pertama anda : 11\n",
            "Masukkan operator (+,-,*,/,**,%,//) anda : //\n",
            "Masukkan angka kedua anda : 3\n",
            "Hasil hitungan 3.0\n"
          ]
        }
      ],
      "source": [
        "# kalkulator sederhana\n",
        "print(\"-\"*20)\n",
        "print(\"Kalkulator Sederhana\")\n",
        "print(\"-\"*20)\n",
        "\n",
        "angka1 = float(input(\"Masukkan angka pertama anda : \"))\n",
        "operator = (input(\"Masukkan operator (+,-,*,/,**,%,//) anda : \"))\n",
        "angka2 = float(input(\"Masukkan angka kedua anda : \"))\n",
        "\n",
        "if operator == \"+\": # penjumlahan\n",
        "    hasil = angka1 + angka2\n",
        "    print(f\"Hasil hitungan {hasil}\")\n",
        "\n",
        "elif operator == \"-\": # pengurangan\n",
        "    hasil = angka1 - angka2\n",
        "    print(f\"Hasil hitungan {hasil}\")\n",
        "\n",
        "elif operator == \"*\": # perkalian\n",
        "    hasil = angka1 * angka2\n",
        "    print(f\"Hasil hitungan {hasil}\")\n",
        "\n",
        "elif operator == \"/\": # pembagian\n",
        "    hasil = angka1 / angka2\n",
        "    print(f\"Hasil hitungan {hasil}\")\n",
        "\n",
        "elif operator == \"**\": # perpangkatan\n",
        "    hasil = angka1 ** angka2\n",
        "    print(f\"Hasil hitungan {hasil}\")\n",
        "\n",
        "elif operator == \"%\": #modulus (sisa hasil bagi)\n",
        "    hasil = angka1 % angka2\n",
        "    print(f\"Hasil hitungan {hasil}\")\n",
        "\n",
        "elif operator == \"//\": # floor division (memiliki hasil pembagian dengan pembulatan kebawah)\n",
        "    hasil = angka1 // angka2\n",
        "    print(f\"Hasil hitungan {hasil}\")\n",
        "\n",
        "else:\n",
        "    print(f\"Masukkan operator yang benar!\")"
      ]
    },
    {
      "cell_type": "markdown",
      "metadata": {
        "id": "TXDsY_0HRGHm"
      },
      "source": [
        "# **For Loop (perulangan)**\n",
        "\n",
        "---\n",
        "\n",
        "\n",
        "\n",
        "1. for kondisi :\n",
        "2. aksi"
      ]
    },
    {
      "cell_type": "markdown",
      "metadata": {
        "id": "RJ4-Eg7pHWkH"
      },
      "source": [
        "## Menggunakan List"
      ]
    },
    {
      "cell_type": "code",
      "execution_count": null,
      "metadata": {
        "id": "YUj69B-BHT86",
        "colab": {
          "base_uri": "https://localhost:8080/"
        },
        "outputId": "d9756799-c84a-49e5-bc85-401b6148dad8"
      },
      "outputs": [
        {
          "output_type": "stream",
          "name": "stdout",
          "text": [
            "[0, 2, 4, 8, 10]\n",
            "i adalah -> 0\n",
            "i adalah -> 2\n",
            "i adalah -> 4\n",
            "i adalah -> 8\n",
            "i adalah -> 10\n",
            "Program 1 selesai \n",
            "\n"
          ]
        }
      ],
      "source": [
        "# menggunakan list\n",
        "angka2_list = [0,2,4,8,10] # ini adalah list\n",
        "print(angka2_list)\n",
        "\n",
        "for i in angka2_list:\n",
        "\tprint(f\"i adalah -> {i}\")\n",
        "\n",
        "print(\"Program 1 selesai \\n\")"
      ]
    },
    {
      "cell_type": "markdown",
      "metadata": {
        "id": "Y1Pfwo-oHbek"
      },
      "source": [
        "## Menggunakan Range"
      ]
    },
    {
      "cell_type": "code",
      "execution_count": null,
      "metadata": {
        "id": "P1snc-zZHe5Q",
        "colab": {
          "base_uri": "https://localhost:8080/"
        },
        "outputId": "b6ef3ec7-6fef-4e99-d6ca-ca8f24b6c067"
      },
      "outputs": [
        {
          "output_type": "stream",
          "name": "stdout",
          "text": [
            "i adalah -> 0\n",
            "i adalah -> 1\n",
            "i adalah -> 2\n",
            "i adalah -> 3\n",
            "i adalah -> 4\n",
            "Program 2 Selesai \n",
            "\n",
            "i adalah -> 1\n",
            "i adalah -> 2\n",
            "i adalah -> 3\n",
            "i adalah -> 4\n",
            "i adalah -> 5\n",
            "i adalah -> 6\n",
            "i adalah -> 7\n",
            "i adalah -> 8\n",
            "i adalah -> 9\n",
            "Program 3 Selesai \n",
            "\n"
          ]
        }
      ],
      "source": [
        "# menggunakan range\n",
        "angka2_range = range(5)\n",
        "\n",
        "for i in angka2_range:\n",
        "\tprint(f\"i adalah -> {i}\")\n",
        "\n",
        "print(\"Program 2 Selesai \\n\")\n",
        "\n",
        "angka2_range = range(1,10)\n",
        "\n",
        "for i in angka2_range:\n",
        "\tprint(f\"i adalah -> {i}\")\n",
        "\t# print(\"Hello world!\")\n",
        "\n",
        "print(\"Program 3 Selesai \\n\")"
      ]
    },
    {
      "cell_type": "markdown",
      "metadata": {
        "id": "CJGlGf1pHiw0"
      },
      "source": [
        "## Menggunakan String"
      ]
    },
    {
      "cell_type": "code",
      "execution_count": null,
      "metadata": {
        "id": "fJDHzJVjRKtq",
        "colab": {
          "base_uri": "https://localhost:8080/"
        },
        "outputId": "cd507b48-0af1-4870-b639-eab2e3691596"
      },
      "outputs": [
        {
          "output_type": "stream",
          "name": "stdout",
          "text": [
            "H\n",
            "e\n",
            "l\n",
            "l\n",
            "o\n",
            " \n",
            "w\n",
            "o\n",
            "r\n",
            "l\n",
            "d\n",
            "1\n",
            "Program 4 selesai \n",
            "\n"
          ]
        }
      ],
      "source": [
        "# menggunakan string\n",
        "\n",
        "hello_str = \"Hello world1\"\n",
        "\n",
        "for huruf in hello_str:\n",
        "\tprint(huruf)\n",
        "\n",
        "print(\"Program 4 selesai \\n\")"
      ]
    },
    {
      "cell_type": "markdown",
      "metadata": {
        "id": "3RcODJnJFlOn"
      },
      "source": [
        "# **While Loop (perulangan)**\n",
        "\n",
        "---\n",
        "while kondisi:\n",
        "1.   aksi 1\n",
        "2.   aksi 2\n"
      ]
    },
    {
      "cell_type": "code",
      "execution_count": null,
      "metadata": {
        "id": "k73zjqZOF1H0",
        "colab": {
          "base_uri": "https://localhost:8080/"
        },
        "outputId": "969b539a-3702-42e2-ddb4-7b09292a7f1a"
      },
      "outputs": [
        {
          "output_type": "stream",
          "name": "stdout",
          "text": [
            "angka = 1\n",
            "\n",
            "Cek angka = 2\n",
            "Hello world!\n",
            "\n",
            "Cek angka = 3\n",
            "Hello world!\n",
            "\n",
            "Cek angka = 4\n",
            "Hello world!\n",
            "\n",
            "Cek angka = 5\n",
            "Hello world!\n",
            "\n",
            "SELESAI\n"
          ]
        }
      ],
      "source": [
        "# while loop\n",
        "\n",
        "angka = 1\n",
        "print(f\"angka = {angka}\\n\")\n",
        "\n",
        "while angka < 5:\n",
        "\tangka += 1\n",
        "\tprint(f\"Cek angka = {angka}\")\n",
        "\tprint(\"Hello world!\\n\")\n",
        "\n",
        "print(\"SELESAI\")"
      ]
    },
    {
      "cell_type": "markdown",
      "metadata": {
        "id": "1YFyMWwiIAl1"
      },
      "source": [
        "# **Continue, Pass dan Break**\n",
        "\n",
        "---\n",
        "\n"
      ]
    },
    {
      "cell_type": "markdown",
      "metadata": {
        "id": "QGUq-cc_Vuq6"
      },
      "source": [
        "## Pass\n",
        "Pass berfungsi sebagai dummy, tidak akan dieksekusi"
      ]
    },
    {
      "cell_type": "code",
      "execution_count": null,
      "metadata": {
        "id": "EeWBvjRMVw6a",
        "colab": {
          "base_uri": "https://localhost:8080/"
        },
        "outputId": "a8d8b15f-7052-48c3-c0bf-8c296ba13383"
      },
      "outputs": [
        {
          "output_type": "stream",
          "name": "stdout",
          "text": [
            "1\n",
            "2\n",
            "3\n",
            "4\n",
            "5\n"
          ]
        }
      ],
      "source": [
        "# pass\n",
        "\n",
        "angka = 0\n",
        "\n",
        "while angka < 5:\n",
        "\tangka += 1\n",
        "\tif angka == 3:\n",
        "\t\tpass # ini tidak akan dieksekusi\n",
        "\n",
        "\tprint(angka)\n",
        "\tcontinue"
      ]
    },
    {
      "cell_type": "markdown",
      "source": [
        "## Continue\n",
        "Continue akan membuat loop meloncat ke step selanjutnya."
      ],
      "metadata": {
        "id": "KVWF6WTXw78E"
      }
    },
    {
      "cell_type": "code",
      "source": [
        "# continue\n",
        "angka = 0\n",
        "\n",
        "print(f\"Angka sekarang -> {angka}\")\n",
        "\n",
        "while angka < 5:\n",
        "\tangka += 1\n",
        "\tprint(f\"Angka sekarang -> {angka}\") # aksi 1\n",
        "\n",
        "\tif angka == 3:\n",
        "\t\tprint(\"Nice!\")\n",
        "\t\tcontinue\n",
        "\n",
        "\tprint(\"Hello world!\") # aksi 2\n",
        "\n",
        "print(\"Finish!\")"
      ],
      "metadata": {
        "colab": {
          "base_uri": "https://localhost:8080/"
        },
        "id": "00aOvPsDw_HP",
        "outputId": "a28c40e7-b877-41a5-8d42-f27fe5864323"
      },
      "execution_count": null,
      "outputs": [
        {
          "output_type": "stream",
          "name": "stdout",
          "text": [
            "Angka sekarang -> 0\n",
            "Angka sekarang -> 1\n",
            "Hello world!\n",
            "Angka sekarang -> 2\n",
            "Hello world!\n",
            "Angka sekarang -> 3\n",
            "Nice!\n",
            "Angka sekarang -> 4\n",
            "Hello world!\n",
            "Angka sekarang -> 5\n",
            "Hello world!\n",
            "Finish!\n"
          ]
        }
      ]
    },
    {
      "cell_type": "markdown",
      "source": [
        "## Break"
      ],
      "metadata": {
        "id": "Xl8Waa1MyZ3v"
      }
    },
    {
      "cell_type": "code",
      "source": [
        "# Break\n",
        "angka = 0\n",
        "\n",
        "while angka < 5:\n",
        "\tangka += 1\n",
        "\tprint(f\"Angka sekarang = {angka}\")\n",
        "\n",
        "\tif angka == 3:\n",
        "\t\tprint(\"Mantap!\")\n",
        "\t\tbreak\n",
        "\n",
        "\tprint(\"Hello world!\")\n",
        "\n",
        "print(\"Bang udah bang!\")\n",
        "\n",
        "data_int = int(input(\"Hitung sampai = \"))\n",
        "\n",
        "angka = 0\n",
        "\n",
        "while True:\n",
        "\tangka += 1\n",
        "\tprint(f\"count = {angka}\")\n",
        "\n",
        "\tif angka == data_int:\n",
        "\t\tprint(\"Mantap!\")\n",
        "\t\tbreak\n",
        "\n",
        "\tprint(\"Hello world!\")\n",
        "\n",
        "print(\"Bang udah bang!\")"
      ],
      "metadata": {
        "colab": {
          "base_uri": "https://localhost:8080/"
        },
        "id": "gt0BYElcybox",
        "outputId": "6a8bceaa-6717-4ba5-ca9a-b4da1980a794"
      },
      "execution_count": null,
      "outputs": [
        {
          "output_type": "stream",
          "name": "stdout",
          "text": [
            "Angka sekarang = 1\n",
            "Hello world!\n",
            "Angka sekarang = 2\n",
            "Hello world!\n",
            "Angka sekarang = 3\n",
            "Mantap!\n",
            "Bang udah bang!\n",
            "Hitung sampai = 5\n",
            "count = 1\n",
            "Hello world!\n",
            "count = 2\n",
            "Hello world!\n",
            "count = 3\n",
            "Hello world!\n",
            "count = 4\n",
            "Hello world!\n",
            "count = 5\n",
            "Mantap!\n",
            "Bang udah bang!\n"
          ]
        }
      ]
    },
    {
      "cell_type": "markdown",
      "metadata": {
        "id": "0wm4D1uJrXZ0"
      },
      "source": [
        "# **Pengenalan List**\n",
        "\n",
        "---\n",
        "\n"
      ]
    },
    {
      "cell_type": "markdown",
      "metadata": {
        "id": "uCL-044DrfZS"
      },
      "source": [
        "List digunakan untuk menyimpan beberapa item dalam satu variabel. List dibuat menggunakan tanda kurung siku."
      ]
    },
    {
      "cell_type": "code",
      "execution_count": null,
      "metadata": {
        "id": "IOvCQaKBrduK",
        "colab": {
          "base_uri": "https://localhost:8080/"
        },
        "outputId": "de21c7f9-5e40-46b8-e2d4-4347b09213d8"
      },
      "outputs": [
        {
          "output_type": "stream",
          "name": "stdout",
          "text": [
            "['apel', 'pisang', 'mangga']\n"
          ]
        }
      ],
      "source": [
        "thislist = [\"apel\", \"pisang\", \"mangga\"]\n",
        "print(thislist)"
      ]
    },
    {
      "cell_type": "markdown",
      "metadata": {
        "id": "EjWX7fDksPS4"
      },
      "source": [
        "## List items\n",
        "\n",
        "Item dalam list diurutkan, dapat diubah, dan memungkinkan nilai duplikat. Item list diindeks, item pertama memiliki index `[0]`, item kedua memiliki index,`[1]`dll. List memungkinkan berisi item dari tipe data yang berbeda, namun umunya semua item memiliki tipe yang sama."
      ]
    },
    {
      "cell_type": "markdown",
      "metadata": {
        "id": "0V5TL9Vas0qM"
      },
      "source": [
        "### Urut\n",
        "\n",
        "Item dalam list memiliki urutan yang ditentukan, dan urutan itu tidak akan berubah. Jika Anda menambahkan item baru ke dalam list, item baru tersebut akan ditempatkan di akhir list.\n",
        "\n",
        "**Catatan:** Ada beberapa [metode list](https://www.w3schools.com/python/python_lists_methods.asp) yang akan mengubah urutan, tetapi secara umum: urutan item tidak akan berubah."
      ]
    },
    {
      "cell_type": "markdown",
      "metadata": {
        "id": "WduNjRoZs7tB"
      },
      "source": [
        "### Dapat diubah\n",
        "\n",
        "List dapat diubah, artinya kita dapat mengubah, menambah, dan menghapus item dalam list setelah dibuat."
      ]
    },
    {
      "cell_type": "markdown",
      "metadata": {
        "id": "aYTntoUTtBua"
      },
      "source": [
        "### Mengizinkan Duplikat\n",
        "\n",
        "Karena list diindeks, list dapat memiliki item dengan nilai yang sama: List memungkinkan nilai duplikat:"
      ]
    },
    {
      "cell_type": "code",
      "execution_count": null,
      "metadata": {
        "id": "KfxY0XvUtEs8",
        "colab": {
          "base_uri": "https://localhost:8080/"
        },
        "outputId": "064b44b7-70de-4323-ce36-4a0059ef8c01"
      },
      "outputs": [
        {
          "output_type": "stream",
          "name": "stdout",
          "text": [
            "['apel', 'pisang', 'mangga', 'apel', 'mangga']\n"
          ]
        }
      ],
      "source": [
        "thislist = [\"apel\", \"pisang\", \"mangga\", \"apel\", \"mangga\"]\n",
        "print(thislist)"
      ]
    },
    {
      "cell_type": "markdown",
      "metadata": {
        "id": "oLwtrWJitI7B"
      },
      "source": [
        "## Panjang List\n",
        "\n",
        "Untuk menentukan berapa banyak item yang dimiliki list, gunakan `len()`fungsi:"
      ]
    },
    {
      "cell_type": "code",
      "execution_count": null,
      "metadata": {
        "id": "bbM3lffLtQnG",
        "colab": {
          "base_uri": "https://localhost:8080/"
        },
        "outputId": "f5090657-240b-4d35-e223-85d1cae99ac5"
      },
      "outputs": [
        {
          "output_type": "stream",
          "name": "stdout",
          "text": [
            "3\n"
          ]
        }
      ],
      "source": [
        "thislist = [\"apel\", \"pisang\", \"mangga\"]\n",
        "print(len(thislist))"
      ]
    },
    {
      "cell_type": "markdown",
      "metadata": {
        "id": "JvwkjeTZt7H1"
      },
      "source": [
        "## Tipe data item list\n",
        "\n",
        "Item list dapat berupa tipe data apa pun:"
      ]
    },
    {
      "cell_type": "markdown",
      "metadata": {
        "id": "1XLcnfgRt9k2"
      },
      "source": [
        "### Tipe data string, int dan boolean:"
      ]
    },
    {
      "cell_type": "code",
      "execution_count": null,
      "metadata": {
        "id": "ZbmEXhmtt_6t"
      },
      "outputs": [],
      "source": [
        "list1 = [\"apel\", \"pisang\", \"mangga\"]\n",
        "list2 = [1, 5, 7, 9, 3]\n",
        "list3 = [True, False, False]"
      ]
    },
    {
      "cell_type": "markdown",
      "metadata": {
        "id": "stAs0h03uG5_"
      },
      "source": [
        "### list dapat berisi tipe data yang berbeda:\n",
        "\n",
        "list dengan string, bilangan bulat, dan nilai boolean:"
      ]
    },
    {
      "cell_type": "code",
      "execution_count": null,
      "metadata": {
        "id": "ktogUedCuKCa"
      },
      "outputs": [],
      "source": [
        "list1 = [\"abc\", 34, True, 40, \"male\"]"
      ]
    },
    {
      "cell_type": "markdown",
      "metadata": {
        "id": "e5toTFiKuOpo"
      },
      "source": [
        "## list() Konstruktor\n",
        "\n",
        "Dimungkinkan juga untuk menggunakan konstruktor list() saat membuat list baru."
      ]
    },
    {
      "cell_type": "code",
      "execution_count": null,
      "metadata": {
        "id": "0kV8mWH4uRCM",
        "colab": {
          "base_uri": "https://localhost:8080/"
        },
        "outputId": "c4ee2f36-b3e7-49c2-8ebc-4fa976cae0e6"
      },
      "outputs": [
        {
          "output_type": "stream",
          "name": "stdout",
          "text": [
            "['apel', 'pisang', 'mangga']\n"
          ]
        }
      ],
      "source": [
        "thislist = list((\"apel\", \"pisang\", \"mangga\"))\n",
        "print(thislist)\n",
        "# note the double round-bracketsprint(thislist)"
      ]
    },
    {
      "cell_type": "markdown",
      "metadata": {
        "id": "ZTWE3CCzuXsh"
      },
      "source": [
        "## Koleksi Python (Array)\n",
        "\n",
        "Ada empat tipe data koleksi dalam bahasa pemrograman Python:\n",
        "\n",
        "- List adalah koleksi yang dipesan dan diubah. Memungkinkan duplikat anggota.\n",
        "- **[Tuple](https://www.w3schools.com/python/python_tuples.asp)** adalah koleksi yang dipesan dan tidak dapat diubah. Memungkinkan duplikat anggota.\n",
        "- **[Set](https://www.w3schools.com/python/python_sets.asp)** adalah koleksi yang tidak diurutkan, tidak dapat diubah*, dan tidak diindeks. Tidak ada anggota rangkap.\n",
        "- [Dictionary](https://www.w3schools.com/python/python_dictionaries.asp) ****adalah kumpulan yang dipesan** dan dapat diubah. Tidak ada anggota rangkap."
      ]
    },
    {
      "cell_type": "markdown",
      "metadata": {
        "id": "KNQqPj1kvG0E"
      },
      "source": [
        "## **Access item List**\n",
        "\n",
        "---\n",
        "\n"
      ]
    },
    {
      "cell_type": "markdown",
      "metadata": {
        "id": "oOkuQIPqvODN"
      },
      "source": [
        "### Akses Item\n",
        "\n",
        "Item list diindeks dan Anda dapat mengaksesnya dengan mengacu pada nomor indeksnya."
      ]
    },
    {
      "cell_type": "code",
      "execution_count": null,
      "metadata": {
        "id": "XbVe_CVuvRKP",
        "colab": {
          "base_uri": "https://localhost:8080/"
        },
        "outputId": "ef1f5e52-87fb-49c6-832e-50851ac651b9"
      },
      "outputs": [
        {
          "output_type": "stream",
          "name": "stdout",
          "text": [
            "pisang\n"
          ]
        }
      ],
      "source": [
        "# Cetak item kedua dari list:\n",
        "\n",
        "thislist = [\"apel\", \"pisang\", \"mangga\"]\n",
        "print(thislist[1])"
      ]
    },
    {
      "cell_type": "markdown",
      "metadata": {
        "id": "T77WiZAhvVaJ"
      },
      "source": [
        "**Catatan** : Item pertama memiliki indeks 0."
      ]
    },
    {
      "cell_type": "markdown",
      "metadata": {
        "id": "2Fv-_rwxvZVw"
      },
      "source": [
        "### Pengindeksan Negatif\n",
        "\n",
        "Pengindeksan negatif berarti mulai dari akhir. Contohnya -1 mengacu pada item terakhir, -2 mengacu pada item terakhir kedua dll."
      ]
    },
    {
      "cell_type": "code",
      "execution_count": null,
      "metadata": {
        "id": "6YgYfcMKvcCO",
        "colab": {
          "base_uri": "https://localhost:8080/"
        },
        "outputId": "36613383-3dd1-47c2-bffe-e737d41a4576"
      },
      "outputs": [
        {
          "output_type": "stream",
          "name": "stdout",
          "text": [
            "mangga\n"
          ]
        }
      ],
      "source": [
        "# Cetak item terakhir dari list:\n",
        "\n",
        "thislist = [\"apel\", \"pisang\", \"mangga\"]\n",
        "print(thislist[-1])"
      ]
    },
    {
      "cell_type": "markdown",
      "metadata": {
        "id": "Lbb_b2pUvdu9"
      },
      "source": [
        "### Rentang Indeks\n",
        "\n",
        "Anda dapat menentukan rentang indeks dengan menentukan dari mana memulai dan mengakhiri rentang. Saat menentukan rentang, nilai yang dikembalikan akan berupa list baru dengan item yang ditentukan."
      ]
    },
    {
      "cell_type": "code",
      "execution_count": null,
      "metadata": {
        "id": "p_QUUBMjvhqC",
        "colab": {
          "base_uri": "https://localhost:8080/"
        },
        "outputId": "af596182-41ec-4ddf-b343-a0bd2038d35e"
      },
      "outputs": [
        {
          "output_type": "stream",
          "name": "stdout",
          "text": [
            "['mangga', 'jeruk', 'kiwi']\n"
          ]
        }
      ],
      "source": [
        "# Kembalikan item ketiga, keempat, dan kelima:\n",
        "\n",
        "thislist = [\"apel\", \"pisang\", \"mangga\", \"jeruk\", \"kiwi\", \"melon\", \"nanas\"]\n",
        "print(thislist[2:5])"
      ]
    },
    {
      "cell_type": "markdown",
      "metadata": {
        "id": "3DxxENsQvmbT"
      },
      "source": [
        "**Catatan:** Pencarian akan dimulai pada indeks 2 (termasuk) dan berakhir pada indeks 5 (tidak termasuk).\n",
        "\n",
        "Dengan mengabaikan nilai awal, rentang akan dimulai dari item pertama:"
      ]
    },
    {
      "cell_type": "code",
      "execution_count": null,
      "metadata": {
        "id": "Bfp3hEz8vo1R",
        "colab": {
          "base_uri": "https://localhost:8080/"
        },
        "outputId": "f0c52067-f972-41b0-ff23-80cbd7dc9dde"
      },
      "outputs": [
        {
          "output_type": "stream",
          "name": "stdout",
          "text": [
            "['apel', 'pisang', 'mangga', 'jeruk']\n"
          ]
        }
      ],
      "source": [
        "# Contoh ini mengembalikan item dari awal, tetapi TIDAK termasuk, \"kiwi\":\n",
        "\n",
        "thislist = [\"apel\", \"pisang\", \"mangga\", \"jeruk\", \"kiwi\", \"melon\", \"nanas\"]\n",
        "print(thislist[:4])"
      ]
    },
    {
      "cell_type": "markdown",
      "metadata": {
        "id": "10boN9KVvvI9"
      },
      "source": [
        "Dengan mengabaikan nilai akhir, rentang akan berlanjut ke akhir list:"
      ]
    },
    {
      "cell_type": "code",
      "execution_count": null,
      "metadata": {
        "id": "8COyIUvpvw7S",
        "colab": {
          "base_uri": "https://localhost:8080/"
        },
        "outputId": "3fc2f542-c97e-4288-9618-d8854e6b3c07"
      },
      "outputs": [
        {
          "output_type": "stream",
          "name": "stdout",
          "text": [
            "['mangga', 'jeruk', 'kiwi', 'melon', 'nanas']\n"
          ]
        }
      ],
      "source": [
        "# Contoh ini mengembalikan item dari \"mangga\" sampai akhir:\n",
        "\n",
        "thislist = [\"apel\", \"pisang\", \"mangga\", \"jeruk\", \"kiwi\", \"melon\", \"nanas\"]\n",
        "print(thislist[2:])"
      ]
    },
    {
      "cell_type": "markdown",
      "metadata": {
        "id": "5s2TpGYIv3DD"
      },
      "source": [
        "### Rentang Indeks Negatif\n",
        "\n",
        "Tentukan indeks negatif jika Anda ingin memulai pencarian dari akhir list:\n",
        "\n",
        "Contoh ini mengembalikan item dari \"oranye\" (-4) ke, tetapi tidak termasuk \"mangga\" (-1):"
      ]
    },
    {
      "cell_type": "code",
      "execution_count": null,
      "metadata": {
        "id": "IKD85Hghv7zc",
        "colab": {
          "base_uri": "https://localhost:8080/"
        },
        "outputId": "6ab99f19-a9d2-4335-a812-370b1984cfd1"
      },
      "outputs": [
        {
          "output_type": "stream",
          "name": "stdout",
          "text": [
            "['jeruk', 'kiwi', 'melon']\n"
          ]
        }
      ],
      "source": [
        "# Contoh ini mengembalikan item dari \"jeruk\" (-4) ke, tetapi TIDAK termasuk \"nanas\" (-1):\n",
        "\n",
        "thislist = [\"apel\", \"pisang\", \"mangga\", \"jeruk\", \"kiwi\", \"melon\", \"nanas\"]\n",
        "print(thislist[-4:-1])"
      ]
    },
    {
      "cell_type": "markdown",
      "metadata": {
        "id": "HGlljGMCwAUZ"
      },
      "source": [
        "### Periksa apakah suatu item Ada\n",
        "\n",
        "Untuk menentukan apakah item tertentu ada dalam list, gunakan `in`kata kunci:"
      ]
    },
    {
      "cell_type": "code",
      "execution_count": null,
      "metadata": {
        "id": "HUm4MwqrwDYn",
        "colab": {
          "base_uri": "https://localhost:8080/"
        },
        "outputId": "e452f633-5c6f-4c02-bb98-be7204a43696"
      },
      "outputs": [
        {
          "output_type": "stream",
          "name": "stdout",
          "text": [
            "Ya, Apel ada di dalam list buah\n"
          ]
        }
      ],
      "source": [
        "# Periksa apakah \"apel\" ada dalam list:\n",
        "thislist = [\"apel\", \"pisang\", \"mangga\"]\n",
        "if \"apel\" in thislist:\n",
        "\tprint(\"Ya, Apel ada di dalam list buah\")"
      ]
    },
    {
      "cell_type": "code",
      "execution_count": null,
      "metadata": {
        "id": "QTY13iaqwd55",
        "colab": {
          "base_uri": "https://localhost:8080/"
        },
        "outputId": "723747d9-e296-4324-872b-ef2c22aadc8e"
      },
      "outputs": [
        {
          "output_type": "stream",
          "name": "stdout",
          "text": [
            "['apel', 'jeruk', 'mangga']\n"
          ]
        }
      ],
      "source": [
        "# Ubah item kedua:\n",
        "thislist = [\"apel\", \"pisang\", \"mangga\"]\n",
        "thislist[1] = \"jeruk\"\n",
        "print(thislist)"
      ]
    },
    {
      "cell_type": "markdown",
      "metadata": {
        "id": "8IBPdfjbwRfW"
      },
      "source": [
        "# **Operasi List**\n",
        "\n",
        "---\n",
        "\n"
      ]
    },
    {
      "cell_type": "markdown",
      "metadata": {
        "id": "8sw4J3Ggwa_y"
      },
      "source": [
        "## Mengubah Item List\n",
        "\n",
        "*Mengubah Nilai Item*\n",
        "\n",
        "Untuk mengubah nilai item tertentu, lihat nomor indeks:"
      ]
    },
    {
      "cell_type": "markdown",
      "metadata": {
        "id": "cEx0OI5gwjup"
      },
      "source": [
        "### Ubah Rentang Nilai Item\n",
        "\n",
        "Untuk mengubah nilai item dalam rentang tertentu, tentukan list dengan nilai baru, dan rujuk ke rentang nomor indeks tempat Anda ingin menyisipkan nilai baru:"
      ]
    },
    {
      "cell_type": "code",
      "execution_count": null,
      "metadata": {
        "id": "wSLx3FRswnlZ",
        "colab": {
          "base_uri": "https://localhost:8080/"
        },
        "outputId": "7bf406fc-e757-42c9-c4c6-1929030a40dd"
      },
      "outputs": [
        {
          "output_type": "stream",
          "name": "stdout",
          "text": [
            "['apel', 'nanas', 'semangka', 'jeruk', 'kiwi', 'melon']\n"
          ]
        }
      ],
      "source": [
        "# Ubah nilai \"banana\" dan \"mangga\" dengan nilai \"nanas\" dan \"semangka\":\n",
        "thislist = [\"apel\", \"pisang\", \"mangga\", \"jeruk\", \"kiwi\", \"melon\"]\n",
        "thislist[1:3] = [\"nanas\", \"semangka\"]\n",
        "print(thislist)"
      ]
    },
    {
      "cell_type": "markdown",
      "metadata": {
        "id": "4S5oQ89jwsan"
      },
      "source": [
        "Jika Anda memasukkan lebih banyak item daripada yang Anda gantikan, item baru akan disisipkan di tempat yang Anda tentukan, dan item yang tersisa akan dipindahkan sesuai dengan itu."
      ]
    },
    {
      "cell_type": "code",
      "execution_count": null,
      "metadata": {
        "id": "-0PzRRtBwvfB",
        "colab": {
          "base_uri": "https://localhost:8080/"
        },
        "outputId": "5c980b6b-c2ec-42a8-cf0a-c659270be79a"
      },
      "outputs": [
        {
          "output_type": "stream",
          "name": "stdout",
          "text": [
            "['apel', 'nanas', 'semangka', 'mangga']\n"
          ]
        }
      ],
      "source": [
        "# Ubah nilai kedua dengan menggantinya dengan dua nilai baru:\n",
        "thislist = [\"apel\", \"pisang\", \"mangga\"]\n",
        "thislist[1:2] = [\"nanas\", \"semangka\"]\n",
        "print(thislist)"
      ]
    },
    {
      "cell_type": "markdown",
      "metadata": {
        "id": "7-i1-VqkwzX4"
      },
      "source": [
        "**Catatan:** Panjang list akan berubah bila jumlah item yang dimasukkan tidak sesuai dengan jumlah item yang diganti.\n",
        "\n",
        "Jika Anda memasukkan *lebih sedikit* item daripada yang Anda ganti, item baru akan dimasukkan ke tempat yang Anda tentukan, dan item yang tersisa akan dipindahkan sesuai dengan itu:"
      ]
    },
    {
      "cell_type": "code",
      "execution_count": null,
      "metadata": {
        "id": "Q57LQbeMw20t",
        "colab": {
          "base_uri": "https://localhost:8080/"
        },
        "outputId": "a41913c2-4406-4314-9f2b-66b9c5062edc"
      },
      "outputs": [
        {
          "output_type": "stream",
          "name": "stdout",
          "text": [
            "['apel', 'nanas']\n"
          ]
        }
      ],
      "source": [
        "# Ubah nilai kedua dan ketiga dengan menggantinya dengan satu nilai:\n",
        "thislist = [\"apel\", \"pisang\", \"mangga\"]\n",
        "thislist[1:3] = [\"nanas\"]\n",
        "print(thislist)"
      ]
    },
    {
      "cell_type": "markdown",
      "metadata": {
        "id": "q2Zas86_w75q"
      },
      "source": [
        "## Tambahkan Item List\n",
        "\n",
        "Untuk menambahkan item ke akhir list, gunakan metode append() :"
      ]
    },
    {
      "cell_type": "code",
      "execution_count": null,
      "metadata": {
        "id": "7Pk4sGLyw_iv",
        "colab": {
          "base_uri": "https://localhost:8080/"
        },
        "outputId": "86cfc0af-6788-4031-e6a3-1aec46efe3cc"
      },
      "outputs": [
        {
          "output_type": "stream",
          "name": "stdout",
          "text": [
            "['apel', 'pisang', 'mangga', 'jeruk']\n"
          ]
        }
      ],
      "source": [
        "#  Menggunakan append()metode untuk menambahkan item:\n",
        "thislist = [\"apel\", \"pisang\", \"mangga\"]\n",
        "thislist.append(\"jeruk\")\n",
        "print(thislist)"
      ]
    },
    {
      "cell_type": "markdown",
      "metadata": {
        "id": "HlZLoY39xDG3"
      },
      "source": [
        "### Menyisipkan/Menambahkan Item\n",
        "\n",
        "Untuk menyisipkan item list baru, tanpa mengganti salah satu nilai yang ada, kita dapat menggunakan insert() metode ini. Metode insert() menyisipkan item pada indeks yang ditentukan."
      ]
    },
    {
      "cell_type": "code",
      "execution_count": null,
      "metadata": {
        "id": "Pt2juSt7xFQ1",
        "colab": {
          "base_uri": "https://localhost:8080/"
        },
        "outputId": "d2978c60-35a8-4043-d854-af870d7e21f7"
      },
      "outputs": [
        {
          "output_type": "stream",
          "name": "stdout",
          "text": [
            "['apel', 'pisang', 'semangka', 'mangga']\n"
          ]
        }
      ],
      "source": [
        "# Masukkan \"semangka\" sebagai item ketiga:\n",
        "thislist = [\"apel\", \"pisang\", \"mangga\"]\n",
        "thislist.insert(2, \"semangka\")\n",
        "print(thislist)"
      ]
    },
    {
      "cell_type": "code",
      "execution_count": null,
      "metadata": {
        "id": "A0ND0gATxJrk",
        "colab": {
          "base_uri": "https://localhost:8080/"
        },
        "outputId": "5410bbb9-d1e5-4aa3-8f47-6858a9a449ef"
      },
      "outputs": [
        {
          "output_type": "stream",
          "name": "stdout",
          "text": [
            "['apel', 'jeruk', 'pisang', 'mangga']\n"
          ]
        }
      ],
      "source": [
        "# Masukkan item sebagai posisi kedua:\n",
        "thislist = [\"apel\", \"pisang\", \"mangga\"]\n",
        "thislist.insert(1, \"jeruk\")\n",
        "print(thislist)"
      ]
    },
    {
      "cell_type": "markdown",
      "metadata": {
        "id": "aSmT_dsyxNC-"
      },
      "source": [
        "**Catatan**: Sebagai hasil dari contoh di atas, list sekarang akan berisi 4 item."
      ]
    },
    {
      "cell_type": "markdown",
      "metadata": {
        "id": "k6mmxG8pxPoe"
      },
      "source": [
        "### Perpanjang List\n",
        "\n",
        "Untuk menambahkan elemen dari list *lain* ke list saat ini,gunakan extend() metode ini."
      ]
    },
    {
      "cell_type": "code",
      "execution_count": null,
      "metadata": {
        "id": "d3CyhR8_xSFK",
        "colab": {
          "base_uri": "https://localhost:8080/"
        },
        "outputId": "b1b0808a-c3ef-41b6-9e90-6bafa09c32f8"
      },
      "outputs": [
        {
          "output_type": "stream",
          "name": "stdout",
          "text": [
            "['apel', 'pisang', 'mangga', 'nanas', 'melon', 'pepaya']\n"
          ]
        }
      ],
      "source": [
        "# Tambahkan elemen tropical ke thislist:\n",
        "thislist = [\"apel\", \"pisang\", \"mangga\"]\n",
        "tropical = [\"nanas\", \"melon\", \"pepaya\"]\n",
        "thislist.extend(tropical)\n",
        "print(thislist)"
      ]
    },
    {
      "cell_type": "markdown",
      "metadata": {
        "id": "xtLsINKbxWcj"
      },
      "source": [
        "Elemen akan ditambahkan ke akhir list."
      ]
    },
    {
      "cell_type": "markdown",
      "metadata": {
        "id": "Gyv0P_lLxYw9"
      },
      "source": [
        "### Tambahkan Setiap Iterable\n",
        "\n",
        "Metode ini extend() tidak harus menambahkan *list* , Anda dapat menambahkan objek apa pun yang dapat diubah (tuple, set, kamus, dll.)."
      ]
    },
    {
      "cell_type": "code",
      "execution_count": null,
      "metadata": {
        "id": "esBYoxWFxbWn",
        "colab": {
          "base_uri": "https://localhost:8080/"
        },
        "outputId": "612c2308-2d71-4486-b4f0-5ab9a4845d49"
      },
      "outputs": [
        {
          "output_type": "stream",
          "name": "stdout",
          "text": [
            "['apel', 'pisang', 'mangga', 'kiwi', 'jeruk']\n"
          ]
        }
      ],
      "source": [
        "# Tambahkan elemen tuple ke list:\n",
        "thislist = [\"apel\", \"pisang\", \"mangga\"]\n",
        "thistuple = (\"kiwi\", \"jeruk\")\n",
        "thislist.extend(thistuple)\n",
        "print(thislist)"
      ]
    },
    {
      "cell_type": "markdown",
      "metadata": {
        "id": "fAmzLuVxxelK"
      },
      "source": [
        "## Hapus Item di List"
      ]
    },
    {
      "cell_type": "markdown",
      "metadata": {
        "id": "kNAMsF5dxgem"
      },
      "source": [
        "### Hapus item spesifik\n",
        "\n",
        "Metode ini remove() menghapus item yang ditentukan."
      ]
    },
    {
      "cell_type": "code",
      "execution_count": null,
      "metadata": {
        "id": "nQ1dhDR3xlEd",
        "colab": {
          "base_uri": "https://localhost:8080/"
        },
        "outputId": "466fc2f5-8cfd-44f1-f65f-648b3f88029e"
      },
      "outputs": [
        {
          "output_type": "stream",
          "name": "stdout",
          "text": [
            "['apel', 'mangga']\n"
          ]
        }
      ],
      "source": [
        "# Hapus \"pisang\":\n",
        "thislist = [\"apel\", \"pisang\", \"mangga\"]\n",
        "thislist.remove(\"pisang\")\n",
        "print(thislist)"
      ]
    },
    {
      "cell_type": "markdown",
      "metadata": {
        "id": "7YhfN6j3xoPC"
      },
      "source": [
        "### Hapus Indeks Tertentu\n",
        "\n",
        "Metode ini pop() menghapus indeks yang ditentukan dengan cara mengeluarkannya dari list."
      ]
    },
    {
      "cell_type": "code",
      "execution_count": null,
      "metadata": {
        "id": "iBnlLurMxrKr",
        "colab": {
          "base_uri": "https://localhost:8080/"
        },
        "outputId": "1b94aafa-52d3-4a69-f728-533c8c1fb45d"
      },
      "outputs": [
        {
          "output_type": "stream",
          "name": "stdout",
          "text": [
            "['apel', 'mangga']\n",
            "pisang\n"
          ]
        }
      ],
      "source": [
        "# Hapus item kedua:\n",
        "thislist = [\"apel\", \"pisang\", \"mangga\"]\n",
        "pop = thislist.pop(1)\n",
        "print(thislist)\n",
        "print(pop)"
      ]
    },
    {
      "cell_type": "markdown",
      "metadata": {
        "id": "lcm7QVDyxtZn"
      },
      "source": [
        "Jika Anda tidak menentukan indeks, pop() metode akan menghapus item terakhir."
      ]
    },
    {
      "cell_type": "code",
      "execution_count": null,
      "metadata": {
        "id": "0o1uJQkbx1rO",
        "colab": {
          "base_uri": "https://localhost:8080/"
        },
        "outputId": "aa91fd0a-ed11-4c70-bf9e-51b482cde683"
      },
      "outputs": [
        {
          "output_type": "stream",
          "name": "stdout",
          "text": [
            "['apel', 'pisang']\n",
            "mangga\n"
          ]
        }
      ],
      "source": [
        "# Hapus item terakhir:\n",
        "thislist = [\"apel\", \"pisang\", \"mangga\"]\n",
        "pop = thislist.pop()\n",
        "print(thislist)\n",
        "print(pop)"
      ]
    },
    {
      "cell_type": "markdown",
      "metadata": {
        "id": "H1YxnFmAx6wi"
      },
      "source": [
        "Kata del kunci juga menghapus indeks yang ditentukan:"
      ]
    },
    {
      "cell_type": "code",
      "execution_count": null,
      "metadata": {
        "id": "fT2iug-Bx-8X",
        "colab": {
          "base_uri": "https://localhost:8080/"
        },
        "outputId": "8c4f432e-4a34-40f3-dc34-02f7e509a2e8"
      },
      "outputs": [
        {
          "output_type": "stream",
          "name": "stdout",
          "text": [
            "['pisang', 'mangga']\n"
          ]
        }
      ],
      "source": [
        "# Hapus item pertama:\n",
        "thislist = [\"apel\", \"pisang\", \"mangga\"]\n",
        "del thislist[0]\n",
        "print(thislist)"
      ]
    },
    {
      "cell_type": "markdown",
      "metadata": {
        "id": "8O2kvfiByCyg"
      },
      "source": [
        "Kata del kunci juga dapat menghapus list sepenuhnya."
      ]
    },
    {
      "cell_type": "code",
      "execution_count": null,
      "metadata": {
        "id": "fCeL35pkyEPO"
      },
      "outputs": [],
      "source": [
        "# Hapus seluruh list:\n",
        "thislist = [\"apel\", \"pisang\", \"mangga\"]\n",
        "del thislist"
      ]
    },
    {
      "cell_type": "markdown",
      "metadata": {
        "id": "TWxX_bYTyHjk"
      },
      "source": [
        "### Hapus List\n",
        "\n",
        "Metode clear() mengosongkan list.\n",
        "\n",
        "listnya masih ada, tetapi tidak ada isinya."
      ]
    },
    {
      "cell_type": "code",
      "execution_count": null,
      "metadata": {
        "id": "gD3-CbDOyKqP",
        "colab": {
          "base_uri": "https://localhost:8080/"
        },
        "outputId": "b4a92216-4e07-4851-f650-09d8d4e544cc"
      },
      "outputs": [
        {
          "output_type": "stream",
          "name": "stdout",
          "text": [
            "[]\n"
          ]
        }
      ],
      "source": [
        "# Hapus konten list:\n",
        "thislist = [\"apel\", \"pisang\", \"mangga\"]\n",
        "thislist.clear()\n",
        "print(thislist)"
      ]
    },
    {
      "cell_type": "markdown",
      "metadata": {
        "id": "cLel-S7HzKz3"
      },
      "source": [
        "## **Loop List**\n",
        "\n",
        "---\n",
        "\n"
      ]
    },
    {
      "cell_type": "markdown",
      "metadata": {
        "id": "FZOXtGyLydnp"
      },
      "source": [
        "### Looping List\n",
        "\n",
        "Anda dapat mengulang item list dengan menggunakan for loop:"
      ]
    },
    {
      "cell_type": "code",
      "execution_count": null,
      "metadata": {
        "id": "w-a_3D-nyfwD",
        "colab": {
          "base_uri": "https://localhost:8080/"
        },
        "outputId": "cd7f781c-c6a1-41f3-b30d-a30a23556f8e"
      },
      "outputs": [
        {
          "output_type": "stream",
          "name": "stdout",
          "text": [
            "apel\n",
            "pisang\n",
            "mangga\n"
          ]
        }
      ],
      "source": [
        "# Cetak semua item dalam list, satu per satu:\n",
        "thislist = [\"apel\", \"pisang\", \"mangga\"]\n",
        "for x in thislist:\n",
        "\tprint(x)"
      ]
    },
    {
      "cell_type": "markdown",
      "metadata": {
        "id": "NJvI83xZykKH"
      },
      "source": [
        "### Loop Melalui Nomor Indeks\n",
        "\n",
        "Anda juga dapat menelusuri list item dengan mengacu pada nomor indeksnya.\n",
        "\n",
        "Gunakan fungsi `range()` and `len()` untuk membuat iterable yang sesuai."
      ]
    },
    {
      "cell_type": "code",
      "execution_count": null,
      "metadata": {
        "id": "bSX7Go_gylr4",
        "colab": {
          "base_uri": "https://localhost:8080/"
        },
        "outputId": "7bc9e49b-0431-4cb6-8f75-7c566cc84312"
      },
      "outputs": [
        {
          "output_type": "stream",
          "name": "stdout",
          "text": [
            "apel\n",
            "pisang\n",
            "mangga\n"
          ]
        }
      ],
      "source": [
        "# Cetak semua item dengan mengacu pada nomor indeksnya:\n",
        "thislist = [\"apel\", \"pisang\", \"mangga\"]\n",
        "for i in range(len(thislist)):\n",
        "\tprint(thislist[i])"
      ]
    },
    {
      "cell_type": "markdown",
      "metadata": {
        "id": "ho8SIWReyqAp"
      },
      "source": [
        "Iterable yang dibuat pada contoh di atas adalah [0, 1, 2]."
      ]
    },
    {
      "cell_type": "markdown",
      "metadata": {
        "id": "xtvBfI7wyruN"
      },
      "source": [
        "### Menggunakan While Loop\n",
        "\n",
        "Anda dapat mengulang list item dengan menggunakan while loop. Gunakan `len()` fungsi untuk menentukan panjang list, lalu mulai dari 0 dan ulangi item list dengan mengacu pada indeksnya.\n",
        "\n",
        "Ingatlah untuk menambah indeks sebesar 1 setelah setiap iterasi."
      ]
    },
    {
      "cell_type": "code",
      "execution_count": null,
      "metadata": {
        "id": "o5ZpGSvSyvvt",
        "colab": {
          "base_uri": "https://localhost:8080/"
        },
        "outputId": "6386ca48-e398-4997-a3a3-339be2e82a09"
      },
      "outputs": [
        {
          "output_type": "stream",
          "name": "stdout",
          "text": [
            "apel\n",
            "pisang\n",
            "mangga\n"
          ]
        }
      ],
      "source": [
        "# Cetak semua item, gunakan whileloop untuk melewati semua nomor indeks\n",
        "thislist = [\"apel\", \"pisang\", \"mangga\"]\n",
        "i = 0\n",
        "while i < len(thislist):\n",
        "\tprint(thislist[i])\n",
        "\ti += 1"
      ]
    },
    {
      "cell_type": "markdown",
      "metadata": {
        "id": "JvqhH8Lay5Ha"
      },
      "source": [
        "### Perulangan Menggunakan List Comprehension\n",
        "\n",
        "List Comprehension menawarkan sintaks terpendek untuk loop list:"
      ]
    },
    {
      "cell_type": "code",
      "execution_count": null,
      "metadata": {
        "id": "FIIgkdN1y7hc",
        "colab": {
          "base_uri": "https://localhost:8080/"
        },
        "outputId": "d7ca945f-11ef-45a0-d3c0-8736ed98e4e4"
      },
      "outputs": [
        {
          "output_type": "stream",
          "name": "stdout",
          "text": [
            "apel\n",
            "pisang\n",
            "mangga\n"
          ]
        },
        {
          "output_type": "execute_result",
          "data": {
            "text/plain": [
              "[None, None, None]"
            ]
          },
          "metadata": {},
          "execution_count": 44
        }
      ],
      "source": [
        "# Sebuah lingkaran pendek for yang akan mencetak semua item dalam list:\n",
        "thislist = [\"apel\", \"pisang\", \"mangga\"]\n",
        "[print(x) for x in thislist]"
      ]
    },
    {
      "cell_type": "markdown",
      "source": [
        "## **List Comprehension**\n",
        "\n",
        "---\n",
        "\n"
      ],
      "metadata": {
        "id": "hhQ6euT5wi19"
      }
    },
    {
      "cell_type": "markdown",
      "source": [
        "List comprehension menawarkan sintaks yang lebih pendek saat Anda ingin membuat list baru berdasarkan nilai dari list yang sudah ada.\n",
        "\n",
        "Contoh:\n",
        "Berdasarkan list buah-buahan, Anda menginginkan list baru yang hanya berisi buah-buahan dengan huruf \"a\" pada namanya.\n",
        "\n",
        "Tanpa list comprehension, Anda harus menulis `for`pernyataan dengan tes bersyarat di dalamnya:"
      ],
      "metadata": {
        "id": "peTp6h1mxIfL"
      }
    },
    {
      "cell_type": "code",
      "source": [
        "fruits = [\"apel\", \"pisang\", \"mangga\", \"kiwi\", \"nanas\"]\n",
        "newlist = []\n",
        "\n",
        "for x in fruits:\n",
        "\tif \"a\" in x:\n",
        "\t\tnewlist.append(x)\n",
        "\n",
        "print(newlist)"
      ],
      "metadata": {
        "colab": {
          "base_uri": "https://localhost:8080/"
        },
        "id": "WirIsqp5xUpL",
        "outputId": "340fbac0-f78c-4433-8b27-f878d9e2589b"
      },
      "execution_count": null,
      "outputs": [
        {
          "output_type": "stream",
          "name": "stdout",
          "text": [
            "['apel', 'pisang', 'mangga', 'nanas']\n"
          ]
        }
      ]
    },
    {
      "cell_type": "markdown",
      "source": [
        "Dengan list comprehension, Anda dapat melakukan semua itu hanya dengan satu baris kode:"
      ],
      "metadata": {
        "id": "PuRTmnlTxj3R"
      }
    },
    {
      "cell_type": "code",
      "source": [
        "fruits = [\"apel\", \"pisang\", \"mangga\", \"kiwi\", \"nanas\"]\n",
        "newlist = [x for x in fruits if \"a\" in x]\n",
        "print(newlist)"
      ],
      "metadata": {
        "colab": {
          "base_uri": "https://localhost:8080/"
        },
        "id": "7WOTHgIYxmTQ",
        "outputId": "7d74965e-0832-446c-ce52-041ea7d819af"
      },
      "execution_count": null,
      "outputs": [
        {
          "output_type": "stream",
          "name": "stdout",
          "text": [
            "['apel', 'pisang', 'mangga', 'nanas']\n"
          ]
        }
      ]
    },
    {
      "cell_type": "markdown",
      "source": [
        "### Syntax"
      ],
      "metadata": {
        "id": "ls5pj2uc_RJn"
      }
    },
    {
      "cell_type": "code",
      "source": [
        "newlist = [expression for item in iterable if condition == True]"
      ],
      "metadata": {
        "id": "JJWXdZ3V_U_L"
      },
      "execution_count": null,
      "outputs": []
    },
    {
      "cell_type": "markdown",
      "source": [
        "Nilai yang dikembalikan adalah list baru, meninggalkan list lama tidak berubah."
      ],
      "metadata": {
        "id": "cCoVS1W-_qjP"
      }
    },
    {
      "cell_type": "markdown",
      "source": [
        "### Condition/Kondisi"
      ],
      "metadata": {
        "id": "K2_OaQE4_uW-"
      }
    },
    {
      "cell_type": "markdown",
      "source": [
        "Kondisinya seperti filter yang hanya menerima item yang bernilaiTrue ."
      ],
      "metadata": {
        "id": "Pgft7Kql_wUw"
      }
    },
    {
      "cell_type": "code",
      "source": [
        "# Hanya terima item yang bukan \"apel\":\n",
        "fruits = [\"apel\", \"pisang\", \"mangga\", \"kiwi\", \"nanas\"]\n",
        "newlist = [x for x in fruits if x != \"apel\"]\n",
        "print(newlist)"
      ],
      "metadata": {
        "colab": {
          "base_uri": "https://localhost:8080/"
        },
        "id": "Et8v6axM_y9h",
        "outputId": "ed94362e-812c-4e30-c0e3-d55d5b81c95c"
      },
      "execution_count": null,
      "outputs": [
        {
          "output_type": "stream",
          "name": "stdout",
          "text": [
            "['pisang', 'mangga', 'kiwi', 'nanas']\n"
          ]
        }
      ]
    },
    {
      "cell_type": "markdown",
      "source": [
        "Kondisi if x != \"apple\" akan kembali `True`untuk semua elemen selain \"apel\", membuat list baru berisi semua buah kecuali \"apel\".\n",
        "\n",
        "*Kondisi* ini opsional dan dapat dihilangkan:"
      ],
      "metadata": {
        "id": "_DhJicnwAREt"
      }
    },
    {
      "cell_type": "code",
      "source": [
        "# Tanpa if pernyataan:\n",
        "fruits = [\"apel\", \"pisang\", \"mangga\", \"kiwi\", \"nanas\"]\n",
        "newlist = [x for x in fruits]\n",
        "print (newlist)"
      ],
      "metadata": {
        "colab": {
          "base_uri": "https://localhost:8080/"
        },
        "id": "ZsOb0zxWAZkG",
        "outputId": "2a4ecc08-0fb6-435f-9e6f-2860204034e1"
      },
      "execution_count": null,
      "outputs": [
        {
          "output_type": "stream",
          "name": "stdout",
          "text": [
            "['apel', 'pisang', 'mangga', 'kiwi', 'nanas']\n"
          ]
        }
      ]
    },
    {
      "cell_type": "markdown",
      "source": [
        "### Iterable\n",
        "Iterable dapat berupa objek iterable apa saja, seperti list, tuple, set, dll ."
      ],
      "metadata": {
        "id": "biXd3IQcAqXL"
      }
    },
    {
      "cell_type": "code",
      "source": [
        "# Anda dapat menggunakan range()fungsi untuk membuat iterable:\n",
        "newlist = [x for x in range(10)]\n",
        "print(newlist)"
      ],
      "metadata": {
        "colab": {
          "base_uri": "https://localhost:8080/"
        },
        "id": "ZWR5huvmAw8p",
        "outputId": "fc41bfc4-2535-4ca7-b9fd-d2b231afdfa7"
      },
      "execution_count": null,
      "outputs": [
        {
          "output_type": "stream",
          "name": "stdout",
          "text": [
            "[0, 1, 2, 3, 4, 5, 6, 7, 8, 9]\n"
          ]
        }
      ]
    },
    {
      "cell_type": "markdown",
      "source": [
        "Contoh yang sama, tetapi dengan kondisi:"
      ],
      "metadata": {
        "id": "QOyev1N4BMcn"
      }
    },
    {
      "cell_type": "code",
      "source": [
        "# Hanya terima angka yang lebih rendah dari 5:\n",
        "newlist = [x for x in range(10) if x < 5]\n",
        "print(newlist)"
      ],
      "metadata": {
        "colab": {
          "base_uri": "https://localhost:8080/"
        },
        "id": "9Aisp8O3BPJ6",
        "outputId": "f80ca6f3-37b8-4f8f-f09a-e61cebe16f94"
      },
      "execution_count": null,
      "outputs": [
        {
          "output_type": "stream",
          "name": "stdout",
          "text": [
            "[0, 1, 2, 3, 4]\n"
          ]
        }
      ]
    },
    {
      "cell_type": "markdown",
      "source": [
        "### Expression\n",
        "\n"
      ],
      "metadata": {
        "id": "UvAxRZzYBerp"
      }
    },
    {
      "cell_type": "markdown",
      "source": [
        "Ekspresi adalah item saat ini dalam iterasi, tetapi juga merupakan hasil, yang dapat Anda manipulasi sebelum berakhir seperti item list di list baru :"
      ],
      "metadata": {
        "id": "_I7V7xNnB-V9"
      }
    },
    {
      "cell_type": "code",
      "source": [
        "# Tetapkan nilai dalam list baru ke huruf besar:\n",
        "fruits = [\"apel\", \"pisang\", \"mangga\", \"kiwi\", \"nanas\"]\n",
        "newlist = [x.upper() for x in fruits]\n",
        "print(newlist)"
      ],
      "metadata": {
        "colab": {
          "base_uri": "https://localhost:8080/"
        },
        "id": "dhnBM3OUCBY5",
        "outputId": "7b81fb52-225b-4ca5-bba2-3030f4fc43bb"
      },
      "execution_count": null,
      "outputs": [
        {
          "output_type": "stream",
          "name": "stdout",
          "text": [
            "['APEL', 'PISANG', 'MANGGA', 'KIWI', 'NANAS']\n"
          ]
        }
      ]
    },
    {
      "cell_type": "markdown",
      "source": [
        "Anda dapat mengatur hasilnya ke apa pun yang Anda suka:"
      ],
      "metadata": {
        "id": "BhVbGQ61CUYW"
      }
    },
    {
      "cell_type": "code",
      "source": [
        "# Setel semua nilai dalam list baru ke 'hello':\n",
        "fruits = [\"apel\", \"pisang\", \"mangga\", \"kiwi\", \"nanas\"]\n",
        "newlist = ['hello' for x in fruits]\n",
        "print(newlist)"
      ],
      "metadata": {
        "colab": {
          "base_uri": "https://localhost:8080/"
        },
        "id": "4taSklGpCWjS",
        "outputId": "c885362e-e84f-4153-9d7d-33a0f6632aa4"
      },
      "execution_count": null,
      "outputs": [
        {
          "output_type": "stream",
          "name": "stdout",
          "text": [
            "['hello', 'hello', 'hello', 'hello', 'hello']\n"
          ]
        }
      ]
    },
    {
      "cell_type": "markdown",
      "source": [
        "Ekspresi juga bisa berisi kondisi , tidak seperti filter, tetapi sebagai cara untuk memanipulasi hasil:"
      ],
      "metadata": {
        "id": "EFVs8I0SCrgp"
      }
    },
    {
      "cell_type": "code",
      "source": [
        "fruits = [\"apel\", \"pisang\", \"mangga\", \"kiwi\", \"nanas\"]\n",
        "newlist = [x if x != \"pisang\" else \"jeruk\" for x in fruits]\n",
        "print(newlist)"
      ],
      "metadata": {
        "colab": {
          "base_uri": "https://localhost:8080/"
        },
        "id": "CjVvutFwCttQ",
        "outputId": "2377d3e4-2d20-4662-fac9-0b8b7aa66667"
      },
      "execution_count": null,
      "outputs": [
        {
          "output_type": "stream",
          "name": "stdout",
          "text": [
            "['apel', 'jeruk', 'mangga', 'kiwi', 'nanas']\n"
          ]
        }
      ]
    },
    {
      "cell_type": "markdown",
      "source": [
        "Ekspresi dalam *contoh* di atas mengatakan:\n",
        "\n",
        "*\"Kembalikan barang jika bukan pisang, jika pisang kembalikan jeruk\".*"
      ],
      "metadata": {
        "id": "vGZX-Fa7DLkU"
      }
    },
    {
      "cell_type": "markdown",
      "source": [
        "## Sort Lists"
      ],
      "metadata": {
        "id": "Fzp7YKFAF-3v"
      }
    },
    {
      "cell_type": "markdown",
      "source": [
        "### Sort List Berdasarkan Abjad (Alphanumericaly)\n",
        "Objek list memiliki sort() metode yang akan mengurutkan list secara alfanumerik, menaik, secara default:"
      ],
      "metadata": {
        "id": "4Nxq8leBIETI"
      }
    },
    {
      "cell_type": "code",
      "source": [
        "# Urutkan list berdasarkan abjad:\n",
        "thislist = [\"jeruk\", \"nanas\", \"kiwi\", \"semangka\", \"pisang\"]\n",
        "thislist.sort()\n",
        "print(thislist)"
      ],
      "metadata": {
        "colab": {
          "base_uri": "https://localhost:8080/"
        },
        "id": "k80ZMEDdIO5G",
        "outputId": "4439ab24-3aa8-4185-e433-365b4a8255e5"
      },
      "execution_count": null,
      "outputs": [
        {
          "output_type": "stream",
          "name": "stdout",
          "text": [
            "['jeruk', 'kiwi', 'nanas', 'pisang', 'semangka']\n"
          ]
        }
      ]
    },
    {
      "cell_type": "code",
      "source": [
        "# Urutkan list secara numerik:\n",
        "thislist = [100, 50, 65, 82, 23]\n",
        "thislist.sort()\n",
        "print(thislist)"
      ],
      "metadata": {
        "id": "_U2inxPJIvMI",
        "colab": {
          "base_uri": "https://localhost:8080/"
        },
        "outputId": "bd5ef257-a01c-4351-ca32-8f123c4f8de4"
      },
      "execution_count": null,
      "outputs": [
        {
          "output_type": "stream",
          "name": "stdout",
          "text": [
            "[23, 50, 65, 82, 100]\n"
          ]
        }
      ]
    },
    {
      "cell_type": "markdown",
      "source": [
        "### Urutkan Turun\n",
        "Untuk mengurutkan secara menurun, gunakan argumen kata kunci reverse = True:"
      ],
      "metadata": {
        "id": "ZswtWV4h2XfR"
      }
    },
    {
      "cell_type": "code",
      "source": [
        "# Urutkan list menurun:\n",
        "thislist = [\"jeruk\", \"nanas\", \"kiwi\", \"semangka\", \"pisang\"]\n",
        "thislist.sort(reverse = True)\n",
        "print(thislist)\n"
      ],
      "metadata": {
        "colab": {
          "base_uri": "https://localhost:8080/"
        },
        "id": "UhUlqvBT5xKR",
        "outputId": "1dd09f39-ca5a-4865-b186-7a31bfb1dc8d"
      },
      "execution_count": null,
      "outputs": [
        {
          "output_type": "stream",
          "name": "stdout",
          "text": [
            "['semangka', 'pisang', 'nanas', 'kiwi', 'jeruk']\n"
          ]
        }
      ]
    },
    {
      "cell_type": "code",
      "source": [
        "# Urutkan list menurun:\n",
        "thislist = [100, 50, 65, 82, 23]\n",
        "thislist.sort(reverse = True)\n",
        "print(thislist)"
      ],
      "metadata": {
        "colab": {
          "base_uri": "https://localhost:8080/"
        },
        "id": "yEU9UPDC_OFZ",
        "outputId": "4220bb73-58f1-4847-f560-4430b8bee521"
      },
      "execution_count": null,
      "outputs": [
        {
          "output_type": "stream",
          "name": "stdout",
          "text": [
            "[100, 82, 65, 50, 23]\n"
          ]
        }
      ]
    },
    {
      "cell_type": "markdown",
      "source": [
        "### Sesuaikan Fungsi Sortir\n",
        "\n",
        "Anda juga dapat menyesuaikan fungsi Anda sendiri dengan menggunakan argumen kata kunci .`key = *function*`\n",
        "\n",
        "Fungsi akan mengembalikan nomor yang akan digunakan untuk mengurutkan list (nomor terendah terlebih dahulu):"
      ],
      "metadata": {
        "id": "db6KijQr_i5m"
      }
    },
    {
      "cell_type": "code",
      "source": [
        "# Urutkan list berdasarkan seberapa dekat angkanya dengan 50:\n",
        "def myfunc(n):\n",
        "\treturn abs(n - 50)\n",
        "\tthislist = [100, 50, 65, 82, 23]\n",
        "\tthislist.sort(key = myfunc)\n",
        "\tprint(thislist)"
      ],
      "metadata": {
        "id": "ehWlWPVSBSTX"
      },
      "execution_count": null,
      "outputs": []
    },
    {
      "cell_type": "markdown",
      "source": [
        "### Pengurutan Peka Huruf Besar\n",
        "\n",
        "Secara default `sort()`, metode ini peka huruf besar-kecil, sehingga semua huruf kapital diurutkan sebelum huruf kecil:"
      ],
      "metadata": {
        "id": "NFPqUtFUBnQr"
      }
    },
    {
      "cell_type": "code",
      "source": [
        "# Penyortiran peka huruf besar-kecil dapat memberikan hasil yang tidak diharapkan:\n",
        "thislist = [\"Pisang\", \"jeruk\", \"kiwi\", \"Mangga\"]\n",
        "thislist.sort()\n",
        "print(thislist)"
      ],
      "metadata": {
        "colab": {
          "base_uri": "https://localhost:8080/"
        },
        "id": "KYnEYtvmBvUc",
        "outputId": "a88edb02-d6d1-49f2-ac3b-e7f4cf2bd1fa"
      },
      "execution_count": null,
      "outputs": [
        {
          "output_type": "stream",
          "name": "stdout",
          "text": [
            "['Mangga', 'Pisang', 'jeruk', 'kiwi']\n"
          ]
        }
      ]
    },
    {
      "cell_type": "markdown",
      "source": [
        "Untungnya kita bisa menggunakan fungsi bawaan sebagai fungsi utama saat mengurutkan list.\n",
        "\n",
        "Jadi jika Anda menginginkan fungsi pengurutan yang tidak peka huruf besar kecil, gunakan str.lower sebagai fungsi utama:"
      ],
      "metadata": {
        "id": "Pqu8VP0bCcF5"
      }
    },
    {
      "cell_type": "code",
      "source": [
        "# Lakukan pengurutan list yang tidak peka huruf besar-kecil:\n",
        "thislist = [\"Pisang\", \"jeruk\", \"kiwi\", \"Mangga\"]\n",
        "thislist.sort(key = str.lower)\n",
        "print(thislist)"
      ],
      "metadata": {
        "colab": {
          "base_uri": "https://localhost:8080/"
        },
        "id": "DDc_K89dCdNg",
        "outputId": "76017eff-d2c6-47e0-97b0-e5cddf6bdf3f"
      },
      "execution_count": null,
      "outputs": [
        {
          "output_type": "stream",
          "name": "stdout",
          "text": [
            "['jeruk', 'kiwi', 'Mangga', 'Pisang']\n"
          ]
        }
      ]
    },
    {
      "cell_type": "markdown",
      "source": [
        "### Urutan terbalik (Reverse Order)\n",
        "\n",
        "Bagaimana jika Anda ingin membalik urutan list, terlepas dari abjadnya?\n",
        "\n",
        "Metode `reverse()`membalikkan urutan elemen saat ini.\n",
        "\n",
        "Membalik urutan item list:"
      ],
      "metadata": {
        "id": "ohhAJ9fpC8tO"
      }
    },
    {
      "cell_type": "code",
      "source": [
        "# Membalik urutan item list:\n",
        "thislist = [\"Pisang\", \"jeruk\", \"kiwi\", \"Mangga\"]\n",
        "thislist.reverse()\n",
        "print(thislist)"
      ],
      "metadata": {
        "id": "OfjHogjcC1lO",
        "colab": {
          "base_uri": "https://localhost:8080/"
        },
        "outputId": "b87e6f3c-42c7-4b74-8915-fab005513094"
      },
      "execution_count": null,
      "outputs": [
        {
          "output_type": "stream",
          "name": "stdout",
          "text": [
            "['Mangga', 'kiwi', 'jeruk', 'Pisang']\n"
          ]
        }
      ]
    },
    {
      "cell_type": "markdown",
      "source": [],
      "metadata": {
        "id": "Gz1MyvY39BHv"
      }
    },
    {
      "cell_type": "markdown",
      "source": [
        "## Copy List"
      ],
      "metadata": {
        "id": "OjEXh2_YM7Bq"
      }
    },
    {
      "cell_type": "markdown",
      "source": [
        "Anda tidak dapat menyalin list hanya dengan mengetik `list2 = list1`, karena: `list2`hanya akan menjadi *referensi* ke `list1`, dan perubahan yang dilakukan `list1`akan secara otomatis juga dilakukan di `list2`.\n",
        "\n",
        "Ada cara untuk membuat copy, salah satunya adalah dengan menggunakan build in method `copy()`."
      ],
      "metadata": {
        "id": "EFyhbfJtoeHZ"
      }
    },
    {
      "cell_type": "code",
      "source": [
        "# Buat salinan list dengan copy() metode:\n",
        "thislist = [\"apel\", \"pisang\", \"mangga\"]\n",
        "mylist = thislist.copy()\n",
        "print(mylist)"
      ],
      "metadata": {
        "colab": {
          "base_uri": "https://localhost:8080/"
        },
        "id": "dQkE-D6Losl_",
        "outputId": "0b373087-c4c8-4cc6-c4d3-55c23abe7085"
      },
      "execution_count": null,
      "outputs": [
        {
          "output_type": "stream",
          "name": "stdout",
          "text": [
            "['apel', 'pisang', 'mangga']\n"
          ]
        }
      ]
    },
    {
      "cell_type": "markdown",
      "source": [
        "Cara lain untuk membuat salinan adalah dengan menggunakan build in method list()."
      ],
      "metadata": {
        "id": "gjBVTOj8o4NU"
      }
    },
    {
      "cell_type": "code",
      "source": [
        "# Buat salinan list dengan list()metode:\n",
        "thislist = [\"apel\", \"pisang\", \"mangga\"]\n",
        "mylist = list(thislist)\n",
        "print(mylist)"
      ],
      "metadata": {
        "colab": {
          "base_uri": "https://localhost:8080/"
        },
        "id": "jnITZAn7o4kb",
        "outputId": "e744efdc-5d3c-4fa5-b293-d5a2f228fcaf"
      },
      "execution_count": null,
      "outputs": [
        {
          "output_type": "stream",
          "name": "stdout",
          "text": [
            "['apel', 'pisang', 'mangga']\n"
          ]
        }
      ]
    },
    {
      "cell_type": "markdown",
      "source": [
        "## Join List"
      ],
      "metadata": {
        "id": "Pbmcyb4uoFI7"
      }
    },
    {
      "cell_type": "markdown",
      "source": [
        "### Menggabungkan Dua List\n",
        "\n",
        "Ada beberapa cara untuk menggabungkan, atau menggabungkan, dua atau lebih list dengan Python.\n",
        "\n",
        "Salah satu cara termudah adalah dengan menggunakan `+` operator."
      ],
      "metadata": {
        "id": "psuPVPsXoH2o"
      }
    },
    {
      "cell_type": "code",
      "source": [
        "# Bergabunglah dengan dua list:\n",
        "list1 = [\"a\", \"b\", \"c\"]\n",
        "list2 = [1, 2, 3]\n",
        "list3 = list1 + list2\n",
        "print(list3)"
      ],
      "metadata": {
        "colab": {
          "base_uri": "https://localhost:8080/"
        },
        "id": "Ta1P7LNKoPgw",
        "outputId": "88e96cf6-44c3-47bd-ffec-0f1daf9deb7f"
      },
      "execution_count": null,
      "outputs": [
        {
          "output_type": "stream",
          "name": "stdout",
          "text": [
            "['a', 'b', 'c', 1, 2, 3]\n"
          ]
        }
      ]
    },
    {
      "cell_type": "markdown",
      "source": [
        "Cara lain untuk menggabungkan dua list adalah dengan menambahkan semua item dari list2 ke dalam list1, satu per satu:"
      ],
      "metadata": {
        "id": "fYP5RE8DoXKj"
      }
    },
    {
      "cell_type": "code",
      "source": [
        "# Tambahkan list2 ke list1:\n",
        "list1 = [\"a\", \"b\" , \"c\"]\n",
        "list2 = [1, 2, 3]\n",
        "for x in list2:\n",
        "\tlist1.append(x)\n",
        "\tprint(list1)"
      ],
      "metadata": {
        "colab": {
          "base_uri": "https://localhost:8080/"
        },
        "id": "5ajlL9THoY_G",
        "outputId": "064a7e58-a8c5-4c15-e012-b871f697e469"
      },
      "execution_count": null,
      "outputs": [
        {
          "output_type": "stream",
          "name": "stdout",
          "text": [
            "['a', 'b', 'c', 1]\n",
            "['a', 'b', 'c', 1, 2]\n",
            "['a', 'b', 'c', 1, 2, 3]\n"
          ]
        }
      ]
    },
    {
      "cell_type": "markdown",
      "source": [
        "Atau Anda dapat menggunakan extend() metode, yang tujuannya adalah untuk menambahkan elemen dari satu list ke list lainnya:"
      ],
      "metadata": {
        "id": "E79rflL9okyG"
      }
    },
    {
      "cell_type": "code",
      "source": [
        "# Gunakan extend()metode untuk menambahkan list2 di akhir list1:\n",
        "list1 = [\"a\", \"b\" , \"c\"]\n",
        "list2 = [1, 2, 3]\n",
        "list1.extend(list2)\n",
        "print(list1)"
      ],
      "metadata": {
        "id": "4SOFssOUomrF",
        "colab": {
          "base_uri": "https://localhost:8080/"
        },
        "outputId": "f7382bdc-b5d1-4f95-9ab6-a720a78f9cc1"
      },
      "execution_count": null,
      "outputs": [
        {
          "output_type": "stream",
          "name": "stdout",
          "text": [
            "['a', 'b', 'c', 1, 2, 3]\n"
          ]
        }
      ]
    },
    {
      "cell_type": "markdown",
      "source": [
        "# **Tuple**\n",
        "\n",
        "---\n",
        "\n"
      ],
      "metadata": {
        "id": "___U6u2zoH4W"
      }
    },
    {
      "cell_type": "markdown",
      "source": [
        "Tuple digunakan untuk menyimpan banyak item dalam satu variabel. Tuple adalah salah satu dari 4 tipe data bawaan di Python yang digunakan untuk menyimpan kumpulan data. Tuple adalah koleksi yang diurutkan dan tidak dapat diubah. Tuple ditulis dengan tanda kurung bulat."
      ],
      "metadata": {
        "id": "OKTaqrTOoLZK"
      }
    },
    {
      "cell_type": "code",
      "source": [
        "thistuple = (\"apel\", \"pisang\", \"mangga\")\n",
        "print(thistuple)"
      ],
      "metadata": {
        "colab": {
          "base_uri": "https://localhost:8080/"
        },
        "id": "KI2WkGmEoUqG",
        "outputId": "2244d8c6-1783-4a9a-9f78-263dcb7e64cf"
      },
      "execution_count": null,
      "outputs": [
        {
          "output_type": "stream",
          "name": "stdout",
          "text": [
            "('apel', 'pisang', 'mangga')\n"
          ]
        }
      ]
    },
    {
      "cell_type": "markdown",
      "source": [
        "## Item Tuple\n",
        "Item Tuple dipesan, tidak dapat diubah, dan memungkinkan nilai duplikat. Item Tuple diindeks, item pertama memiliki index `[0]`, item kedua memiliki index, `[1]`dll.\n",
        "\n",
        "### **Diurutkan**\n",
        "\n",
        "Ketika kami mengatakan bahwa tupel diurutkan, itu berarti item memiliki urutan yang ditentukan, dan urutan itu tidak akan berubah.\n",
        "\n",
        "### **Tidak dapat diubah**\n",
        "\n",
        "Tuple tidak dapat diubah, artinya kita tidak dapat mengubah, menambah atau menghapus item setelah tupel dibuat.\n",
        "\n",
        "### **Izinkan Duplikat**\n",
        "Karena tupel diindeks, mereka dapat memiliki item dengan nilai yang sama:\n"
      ],
      "metadata": {
        "id": "pNtZ0CU2obtW"
      }
    },
    {
      "cell_type": "code",
      "source": [
        "# Tuple memungkinkan nilai duplikat:\n",
        "thistuple = (\"apel\", \"pisang\", \"mangga\", \"apel\", \"mangga\")\n",
        "print(thistuple)"
      ],
      "metadata": {
        "colab": {
          "base_uri": "https://localhost:8080/"
        },
        "id": "eA7M1c3L-7U2",
        "outputId": "9a0b85a4-2aec-4d89-c9f1-794751d5dba4"
      },
      "execution_count": null,
      "outputs": [
        {
          "output_type": "stream",
          "name": "stdout",
          "text": [
            "('apel', 'pisang', 'mangga', 'apel', 'mangga')\n"
          ]
        }
      ]
    },
    {
      "cell_type": "markdown",
      "source": [
        "## Panjang Tupel\n",
        "\n",
        "Untuk menentukan berapa banyak item yang dimiliki tuple, gunakan `len()`fungsi:"
      ],
      "metadata": {
        "id": "vMtzP0zOAHuG"
      }
    },
    {
      "cell_type": "code",
      "source": [
        "# Cetak jumlah item dalam tuple:\n",
        "thistuple = (\"apel\", \"pisang\", \"mangga\")\n",
        "print(len(thistuple))"
      ],
      "metadata": {
        "colab": {
          "base_uri": "https://localhost:8080/"
        },
        "id": "g5hLzMYIAHh0",
        "outputId": "91aaeb05-4fe5-43b1-d781-05e43e9f037f"
      },
      "execution_count": null,
      "outputs": [
        {
          "output_type": "stream",
          "name": "stdout",
          "text": [
            "3\n"
          ]
        }
      ]
    },
    {
      "cell_type": "markdown",
      "source": [
        "## Buat Tuple Dengan Satu Item\n",
        "\n",
        "Untuk membuat tuple dengan hanya satu item, Anda harus menambahkan koma setelah item tersebut, jika tidak, Python tidak akan mengenalinya sebagai tuple."
      ],
      "metadata": {
        "id": "2uaddNATAl7b"
      }
    },
    {
      "cell_type": "code",
      "source": [
        "# Satu item tuple, ingat koma:\n",
        "thistuple = (\"apel\",)\n",
        "print(type(thistuple))\n",
        "# NOT a tuplethistuple = (\"apel\")\n",
        "# print(type(thistuple))"
      ],
      "metadata": {
        "colab": {
          "base_uri": "https://localhost:8080/"
        },
        "id": "o_Eisy_vAr8U",
        "outputId": "4815d842-0248-4e6b-c719-38a17e1541f3"
      },
      "execution_count": null,
      "outputs": [
        {
          "output_type": "stream",
          "name": "stdout",
          "text": [
            "<class 'tuple'>\n"
          ]
        }
      ]
    },
    {
      "cell_type": "markdown",
      "source": [
        "## Item Tuple - Tipe Data\n",
        "\n",
        "Item Tuple dapat berupa tipe data apa pun:"
      ],
      "metadata": {
        "id": "Qu_SUNCMAz55"
      }
    },
    {
      "cell_type": "code",
      "source": [
        "# Tipe data string, int dan boolean:\n",
        "tuple1 = (\"apel\", \"pisang\", \"mangga\")\n",
        "tuple2 = (1, 5, 7, 9, 3)\n",
        "tuple3 = (True, False, False)\n",
        "print (tuple1)\n",
        "print (tuple2)\n",
        "print (tuple3)"
      ],
      "metadata": {
        "colab": {
          "base_uri": "https://localhost:8080/"
        },
        "id": "F6JzI2dkA92p",
        "outputId": "024160e2-49b9-47cb-85a7-8e428498ae63"
      },
      "execution_count": null,
      "outputs": [
        {
          "output_type": "stream",
          "name": "stdout",
          "text": [
            "('apel', 'pisang', 'mangga')\n",
            "(1, 5, 7, 9, 3)\n",
            "(True, False, False)\n"
          ]
        }
      ]
    },
    {
      "cell_type": "markdown",
      "source": [
        "Tuple dapat berisi tipe data yang berbeda:"
      ],
      "metadata": {
        "id": "DrisEdDoBOUX"
      }
    },
    {
      "cell_type": "code",
      "source": [
        "# Tuple dengan string, bilangan bulat, dan nilai boolean:\n",
        "tuple1 = (\"abc\", 34, True, 40, \"male\")\n",
        "print (tuple1)"
      ],
      "metadata": {
        "colab": {
          "base_uri": "https://localhost:8080/"
        },
        "id": "P4r1YvzyBQnD",
        "outputId": "4daaf08c-4b5c-4bae-aa05-faed6bc96739"
      },
      "execution_count": null,
      "outputs": [
        {
          "output_type": "stream",
          "name": "stdout",
          "text": [
            "('abc', 34, True, 40, 'male')\n"
          ]
        }
      ]
    },
    {
      "cell_type": "markdown",
      "source": [
        "## type()\n",
        "\n",
        "Dari perspektif Python, tuple didefinisikan sebagai objek dengan tipe data 'tuple': `<class 'tuple'>`"
      ],
      "metadata": {
        "id": "Sk1uSwrhBrMB"
      }
    },
    {
      "cell_type": "code",
      "source": [
        "# Apa tipe data tuple?\n",
        "mytuple = (\"apel\", \"pisang\", \"mangga\")\n",
        "print(type(mytuple))"
      ],
      "metadata": {
        "colab": {
          "base_uri": "https://localhost:8080/"
        },
        "id": "c6uUdZM0B2IX",
        "outputId": "615052df-348c-46e0-9e9a-e4097844f954"
      },
      "execution_count": null,
      "outputs": [
        {
          "output_type": "stream",
          "name": "stdout",
          "text": [
            "<class 'tuple'>\n"
          ]
        }
      ]
    },
    {
      "cell_type": "markdown",
      "source": [
        "## Tuple() Konstruktor (Membuat Tuple)\n",
        "\n",
        "Dimungkinkan juga untuk menggunakan konstruktor tuple() untuk membuat tuple. Menggunakan metode tuple() untuk membuat tuple:"
      ],
      "metadata": {
        "id": "yOa-WX8RB7Gd"
      }
    },
    {
      "cell_type": "code",
      "source": [
        "thistuple = tuple((\"apel\", \"pisang\", \"mangga\"))\n",
        "print(thistuple)\n",
        "# note the double round-bracketsprint(thistuple)"
      ],
      "metadata": {
        "colab": {
          "base_uri": "https://localhost:8080/"
        },
        "id": "C3l1DqR1CXzW",
        "outputId": "c3f49e1b-a706-4d80-bdd7-3f8a17982eeb"
      },
      "execution_count": null,
      "outputs": [
        {
          "output_type": "stream",
          "name": "stdout",
          "text": [
            "('apel', 'pisang', 'mangga')\n"
          ]
        }
      ]
    },
    {
      "cell_type": "markdown",
      "source": [
        "# **Operasi pada Tuple**\n",
        "\n",
        "---\n",
        "\n"
      ],
      "metadata": {
        "id": "_wQbJ-r6RCQP"
      }
    },
    {
      "cell_type": "markdown",
      "source": [
        "## Access Tuple Items"
      ],
      "metadata": {
        "id": "2K5vvcCuRV07"
      }
    },
    {
      "cell_type": "markdown",
      "source": [
        "Anda dapat mengakses item tuple dengan mengacu pada nomor indeks, di dalam tanda kurung siku:"
      ],
      "metadata": {
        "id": "s3m2DAYaRZ-0"
      }
    },
    {
      "cell_type": "code",
      "source": [
        "# Cetak item kedua di tuple:\n",
        "thistuple = (\"apel\", \"pisang\", \"mangga\")\n",
        "print(thistuple[1])"
      ],
      "metadata": {
        "colab": {
          "base_uri": "https://localhost:8080/"
        },
        "id": "nPYlkbK6RdLz",
        "outputId": "d98ae059-a6c4-45c5-9672-2662ae4684bc"
      },
      "execution_count": null,
      "outputs": [
        {
          "output_type": "stream",
          "name": "stdout",
          "text": [
            "pisang\n"
          ]
        }
      ]
    },
    {
      "cell_type": "markdown",
      "source": [
        "**Catatan:** Item pertama memiliki indeks 0."
      ],
      "metadata": {
        "id": "hwIuHlPrRjQq"
      }
    },
    {
      "cell_type": "markdown",
      "source": [
        "### Pengindeksan Negatif\n",
        "\n",
        "Pengindeksan negatif berarti mulai dari akhir.\n",
        "\n",
        "-1 mengacu pada item terakhir, -2 mengacu pada item kedua terakhir."
      ],
      "metadata": {
        "id": "oudLf6bZRkS0"
      }
    },
    {
      "cell_type": "code",
      "source": [
        "# Cetak item terakhir tuple:\n",
        "thistuple = (\"apel\", \"pisang\", \"mangga\")\n",
        "print(thistuple[-1])"
      ],
      "metadata": {
        "colab": {
          "base_uri": "https://localhost:8080/"
        },
        "id": "ybEyKCZyRpFt",
        "outputId": "39dce052-acd2-488e-d759-990d97cee4d1"
      },
      "execution_count": null,
      "outputs": [
        {
          "output_type": "stream",
          "name": "stdout",
          "text": [
            "mangga\n"
          ]
        }
      ]
    },
    {
      "cell_type": "markdown",
      "source": [
        "### Rentang Indeks\n",
        "\n",
        "Anda dapat menentukan rentang indeks dengan menentukan dari mana memulai dan mengakhiri rentang. Saat menentukan rentang, nilai yang dikembalikan akan menjadi tuple baru dengan item yang ditentukan."
      ],
      "metadata": {
        "id": "uHnBX03VRs8q"
      }
    },
    {
      "cell_type": "code",
      "source": [
        "# Kembalikan item ketiga, keempat, dan kelima:\n",
        "thistuple = (\"apel\", \"pisang\", \"mangga\", \"jeruk\", \"kiwi\", \"melon\", \"semangka\")\n",
        "print(thistuple[2:5])"
      ],
      "metadata": {
        "colab": {
          "base_uri": "https://localhost:8080/"
        },
        "id": "T31Q1NPXRyiL",
        "outputId": "1fbc561f-2c80-4c61-8a9c-dec7bf56f01b"
      },
      "execution_count": null,
      "outputs": [
        {
          "output_type": "stream",
          "name": "stdout",
          "text": [
            "('mangga', 'jeruk', 'kiwi')\n"
          ]
        }
      ]
    },
    {
      "cell_type": "markdown",
      "source": [
        "**Catatan:** Pencarian akan dimulai pada indeks 2 (termasuk) dan berakhir pada indeks 5 (tidak termasuk).\n",
        "\n",
        "Ingat bahwa item pertama memiliki indeks 0. Dengan mengabaikan nilai awal, rentang akan dimulai dari item pertama:"
      ],
      "metadata": {
        "id": "qM0H9RnyR5BP"
      }
    },
    {
      "cell_type": "code",
      "source": [
        "# Contoh ini mengembalikan item dari awal, tetapi TIDAK termasuk, \"kiwi\":\n",
        "thistuple = (\"apel\", \"pisang\", \"mangga\", \"jeruk\", \"kiwi\", \"melon\", \"semangka\")\n",
        "print(thistuple[:4])"
      ],
      "metadata": {
        "colab": {
          "base_uri": "https://localhost:8080/"
        },
        "id": "8vR9T0rcTY3V",
        "outputId": "46f4d77b-414c-457b-c5a7-55c2dd937d19"
      },
      "execution_count": null,
      "outputs": [
        {
          "output_type": "stream",
          "name": "stdout",
          "text": [
            "('apel', 'pisang', 'mangga', 'jeruk')\n"
          ]
        }
      ]
    },
    {
      "cell_type": "markdown",
      "source": [
        "Dengan mengabaikan nilai akhir, rentang akan berlanjut ke akhir daftar:"
      ],
      "metadata": {
        "id": "AeCQxUXBThOp"
      }
    },
    {
      "cell_type": "code",
      "source": [
        "# Contoh ini mengembalikan item dari \"ceri\" dan sampai akhir:\n",
        "thistuple = (\"apel\", \"pisang\", \"mangga\", \"jeruk\", \"kiwi\", \"melon\", \"semangka\")\n",
        "print(thistuple[2:])"
      ],
      "metadata": {
        "colab": {
          "base_uri": "https://localhost:8080/"
        },
        "id": "k3RCuhgrTlfp",
        "outputId": "96f90065-a6aa-44d3-ec3d-592095b270ab"
      },
      "execution_count": null,
      "outputs": [
        {
          "output_type": "stream",
          "name": "stdout",
          "text": [
            "('mangga', 'jeruk', 'kiwi', 'melon', 'semangka')\n"
          ]
        }
      ]
    },
    {
      "cell_type": "markdown",
      "source": [
        "### Rentang Indeks Negatif\n",
        "\n",
        "Tentukan indeks negatif jika Anda ingin memulai pencarian dari akhir tupel:"
      ],
      "metadata": {
        "id": "oOscL1sPTpTr"
      }
    },
    {
      "cell_type": "code",
      "source": [
        "# Contoh ini mengembalikan item dari indeks -4 (termasuk) ke indeks -1 (dikecualikan)\n",
        "thistuple = (\"apel\", \"pisang\", \"mangga\", \"jeruk\", \"kiwi\", \"melon\", \"semangka\")\n",
        "print(thistuple[-4:-1])"
      ],
      "metadata": {
        "colab": {
          "base_uri": "https://localhost:8080/"
        },
        "id": "rMBrqXFFTssT",
        "outputId": "e105737f-fb0a-4dfa-8357-3eaf00f65079"
      },
      "execution_count": null,
      "outputs": [
        {
          "output_type": "stream",
          "name": "stdout",
          "text": [
            "('jeruk', 'kiwi', 'melon')\n"
          ]
        }
      ]
    },
    {
      "cell_type": "markdown",
      "source": [
        "### Periksa apakah Barang Ada\n",
        "\n",
        "Untuk menentukan apakah item tertentu ada dalam sebuah tuple, gunakan `in`kata kunci:"
      ],
      "metadata": {
        "id": "-TKaqSXLTynL"
      }
    },
    {
      "cell_type": "code",
      "source": [
        "# Periksa apakah \"apel\" ada di tuple:\n",
        "thistuple = (\"apel\", \"pisang\", \"mangga\")\n",
        "if \"apel\" in thistuple:\n",
        "\tprint(\"Ya, 'apel' ada di tuple ini\")"
      ],
      "metadata": {
        "colab": {
          "base_uri": "https://localhost:8080/"
        },
        "id": "RE2D7f_3T1J9",
        "outputId": "e2d8108d-09f7-4b6d-a89e-45b0c4771f53"
      },
      "execution_count": null,
      "outputs": [
        {
          "output_type": "stream",
          "name": "stdout",
          "text": [
            "Ya, 'apel' ada di tuple ini\n"
          ]
        }
      ]
    },
    {
      "cell_type": "markdown",
      "source": [
        "## Update Tuple\n",
        "\n",
        "Tuple tidak dapat diubah, artinya Anda tidak dapat mengubah, menambah, atau menghapus item setelah tupel dibuat. Tetapi ada beberapa solusi."
      ],
      "metadata": {
        "id": "gYVIf1CDM3UE"
      }
    },
    {
      "cell_type": "markdown",
      "source": [
        "### Ubah Nilai Tuple\n",
        "\n",
        "Setelah tuple dibuat, Anda tidak dapat mengubah nilainya. Tuple **tidak dapat diubah** , atau **tidak dapat diubah** seperti yang disebut juga. Tapi ada solusinya. Anda dapat mengonversi tuple menjadi daftar, mengubah daftar, dan mengubah daftar kembali menjadi tupel."
      ],
      "metadata": {
        "id": "I7huBv2JNC_z"
      }
    },
    {
      "cell_type": "code",
      "source": [
        "# Ubah tuple menjadi daftar untuk dapat mengubahnya:\n",
        "x = (\"apel\", \"pisang\", \"mangga\")\n",
        "y = list(x)\n",
        "y[1] = \"kiwi\"\n",
        "x = tuple(y)\n",
        "print(x)"
      ],
      "metadata": {
        "colab": {
          "base_uri": "https://localhost:8080/"
        },
        "id": "cX2a_mT2NCsD",
        "outputId": "49b34411-1650-465a-81b9-0391225854ec"
      },
      "execution_count": null,
      "outputs": [
        {
          "output_type": "stream",
          "name": "stdout",
          "text": [
            "('apel', 'kiwi', 'mangga')\n"
          ]
        }
      ]
    },
    {
      "cell_type": "markdown",
      "source": [
        "### Tambahkan Item\n",
        "\n",
        "Karena tuple tidak dapat diubah, mereka tidak memiliki metode bawaan `append()`, tetapi ada cara lain untuk menambahkan item ke tuple.\n",
        "\n",
        "1. **Ubah menjadi daftar** : Sama seperti solusi untuk *mengubah* tupel, Anda dapat mengubahnya menjadi daftar, menambahkan item Anda, dan mengubahnya kembali menjadi tuple."
      ],
      "metadata": {
        "id": "XGcdMhQnNTGe"
      }
    },
    {
      "cell_type": "code",
      "source": [
        "# Ubah tuple menjadi daftar, tambahkan \"jeruk\", dan ubah kembali menjadi tupel:\n",
        "thistuple = (\"apel\", \"pisang\", \"mangga\")\n",
        "y = list(thistuple)\n",
        "y.append(\"jeruk\")\n",
        "thistuple = tuple(y)\n",
        "print(thistuple)"
      ],
      "metadata": {
        "colab": {
          "base_uri": "https://localhost:8080/"
        },
        "id": "duArbpYMNBuX",
        "outputId": "6131a6f9-793a-4712-8ad4-d857fe4209f0"
      },
      "execution_count": null,
      "outputs": [
        {
          "output_type": "stream",
          "name": "stdout",
          "text": [
            "('apel', 'pisang', 'mangga', 'jeruk')\n"
          ]
        }
      ]
    },
    {
      "cell_type": "markdown",
      "source": [
        "2. **Tambahkan tuple ke tuple** . Anda diperbolehkan menambahkan tuple ke tuple, jadi jika Anda ingin menambahkan satu item, (atau banyak), buat tuple baru dengan item tersebut, dan tambahkan ke tuple yang sudah ada:"
      ],
      "metadata": {
        "id": "s-qnwgmyNniZ"
      }
    },
    {
      "cell_type": "code",
      "source": [
        "# Buat tupel baru dengan nilai \"jeruk\", dan tambahkan tupel itu:\n",
        "thistuple = (\"apel\", \"pisang\", \"mangga\")\n",
        "y = (\"jeruk\",)\n",
        "thistuple += y\n",
        "print(thistuple)"
      ],
      "metadata": {
        "colab": {
          "base_uri": "https://localhost:8080/"
        },
        "id": "VNADts5HNjKf",
        "outputId": "69bb34d0-982a-4fe3-8d4f-2d391fd299bd"
      },
      "execution_count": null,
      "outputs": [
        {
          "output_type": "stream",
          "name": "stdout",
          "text": [
            "('apel', 'pisang', 'mangga', 'jeruk')\n"
          ]
        }
      ]
    },
    {
      "cell_type": "markdown",
      "source": [
        "**Catatan:** Saat membuat tuple dengan hanya satu item, ingatlah untuk menyertakan koma setelah item, jika tidak maka tidak akan teridentifikasi sebagai tuple."
      ],
      "metadata": {
        "id": "ZJ_OlojrNxTO"
      }
    },
    {
      "cell_type": "markdown",
      "source": [
        "### Hapus Item\n",
        "\n",
        "**Catatan:** Anda tidak dapat menghapus item dalam tupel.\n",
        "\n",
        "Tuple **tidak dapat diubah** , jadi Anda tidak dapat menghapus item darinya, tetapi Anda dapat menggunakan solusi yang sama seperti yang kami gunakan untuk mengubah dan menambahkan item tupel:"
      ],
      "metadata": {
        "id": "zqOMbUJ8NtK8"
      }
    },
    {
      "cell_type": "code",
      "source": [
        "# Ubah tuple menjadi daftar, hapus \"apel\", dan ubah kembali menjadi tupel:\n",
        "thistuple = (\"apel\", \"pisang\", \"mangga\")\n",
        "y = list(thistuple)\n",
        "y.remove(\"apel\")\n",
        "thistuple = tuple(y)"
      ],
      "metadata": {
        "id": "WFGolDaXNytk"
      },
      "execution_count": null,
      "outputs": []
    },
    {
      "cell_type": "markdown",
      "source": [
        "Atau Anda dapat menghapus tuple sepenuhnya:"
      ],
      "metadata": {
        "id": "yRtWAZ3MN3a4"
      }
    },
    {
      "cell_type": "code",
      "source": [
        "# Kata delkunci dapat menghapus tuple sepenuhnya:\n",
        "thistuple = (\"apel\", \"pisang\", \"mangga\")\n",
        "del thistuple\n",
        "print(thistuple)\n",
        "#this will raise an error because the tuple no longer exists"
      ],
      "metadata": {
        "colab": {
          "base_uri": "https://localhost:8080/",
          "height": 217
        },
        "id": "mWzbRQJHN5rX",
        "outputId": "4280ac4e-af0c-4890-ffc8-062a9e652543"
      },
      "execution_count": null,
      "outputs": [
        {
          "output_type": "error",
          "ename": "NameError",
          "evalue": "ignored",
          "traceback": [
            "\u001b[0;31m---------------------------------------------------------------------------\u001b[0m",
            "\u001b[0;31mNameError\u001b[0m                                 Traceback (most recent call last)",
            "\u001b[0;32m<ipython-input-8-d2aec6c53e8b>\u001b[0m in \u001b[0;36m<cell line: 4>\u001b[0;34m()\u001b[0m\n\u001b[1;32m      2\u001b[0m \u001b[0mthistuple\u001b[0m \u001b[0;34m=\u001b[0m \u001b[0;34m(\u001b[0m\u001b[0;34m\"apel\"\u001b[0m\u001b[0;34m,\u001b[0m \u001b[0;34m\"pisang\"\u001b[0m\u001b[0;34m,\u001b[0m \u001b[0;34m\"mangga\"\u001b[0m\u001b[0;34m)\u001b[0m\u001b[0;34m\u001b[0m\u001b[0;34m\u001b[0m\u001b[0m\n\u001b[1;32m      3\u001b[0m \u001b[0;32mdel\u001b[0m \u001b[0mthistuple\u001b[0m\u001b[0;34m\u001b[0m\u001b[0;34m\u001b[0m\u001b[0m\n\u001b[0;32m----> 4\u001b[0;31m \u001b[0mprint\u001b[0m\u001b[0;34m(\u001b[0m\u001b[0mthistuple\u001b[0m\u001b[0;34m)\u001b[0m\u001b[0;34m\u001b[0m\u001b[0;34m\u001b[0m\u001b[0m\n\u001b[0m\u001b[1;32m      5\u001b[0m \u001b[0;31m#this will raise an error because the tuple no longer exists\u001b[0m\u001b[0;34m\u001b[0m\u001b[0;34m\u001b[0m\u001b[0m\n",
            "\u001b[0;31mNameError\u001b[0m: name 'thistuple' is not defined"
          ]
        }
      ]
    },
    {
      "cell_type": "markdown",
      "metadata": {
        "id": "Nc-RcmSFn7Ie"
      },
      "source": [
        "# **Functions**\n",
        "\n",
        "---\n",
        "\n",
        "\n",
        "\n",
        "Kita mulai dengan contoh sederhana dari sebuah fungsi. Fungsi \"add_three()\" di bawah menerima angka apa pun, menambahkan tiga ke dalamnya, lalu mengembalikan hasilnya."
      ]
    },
    {
      "cell_type": "code",
      "execution_count": null,
      "metadata": {
        "id": "gv_t7u4goPOh"
      },
      "outputs": [],
      "source": [
        "# Define the function\n",
        "def add_three(input_var):\n",
        "    output_var = input_var + 3\n",
        "    return output_var"
      ]
    },
    {
      "cell_type": "markdown",
      "metadata": {
        "id": "5nck0hEnpOv6"
      },
      "source": [
        "![image.png](data:image/png;base64,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)"
      ]
    },
    {
      "cell_type": "markdown",
      "metadata": {
        "id": "mf_E7zuNpfvh"
      },
      "source": [
        "## **Header**\n",
        "\n",
        "Fungsi **header** menentukan nama fungsi dan argumennya.\n",
        "\n",
        "- Setiap header fungsi diawali dengan `def`, yang memberi tahu Python bahwa kita akan mendefinisikan sebuah fungsi.\n",
        "- Dalam contoh, nama fungsinya adalah `add_three`.\n",
        "- Dalam contoh, argumennya adalah `input_var`.  **argumen** adalah nama variabel yang akan digunakan sebagai input ke fungsi. Itu selalu tertutup dalam tanda kurung yang muncul tepat setelah nama fungsi. (*Perhatikan bahwa sebuah fungsi juga bisa tidak memiliki argumen, atau bisa juga memiliki banyak argumen. Anda akan melihat beberapa contohnya nanti*)\n",
        "- Untuk setiap fungsi, tanda kurung yang mengapit argumen fungsi harus diikuti dengan tanda titik dua `:`."
      ]
    },
    {
      "cell_type": "markdown",
      "metadata": {
        "id": "OP6CVZaKqadO"
      },
      "source": [
        "## **Body**\n",
        "\n",
        "Fungsi **body** menentukan pekerjaan yang dilakukan fungsi tersebut.\n",
        "\n",
        "- Setiap baris kode di badan fungsi harus diberi indentasi tepat empat spasi atau dengan menekan tombol \"Tab\" satu kali pada keyboard.\n",
        "- Fungsi melakukan tugasnya dengan menjalankan semua garis indentasi dari atas ke bawah.\n",
        "     - Dibutuhkan argumen sebagai masukan, yang dalam contoh adalah `input_var`.\n",
        "     - Fungsi membuat variabel baru `output_var` dengan perhitungan `output_var = input_var + 3`.\n",
        "     - Kemudian, baris kode terakhir, yang disebut **return statement**, cukup mengembalikan nilai dalam `output_var` sebagai output fungsi.\n",
        "\n",
        "Sel kode di atas hanya mendefinisikan fungsi, tetapi tidak menjalankannya. Detail badan fungsi akan lebih masuk akal setelah sel kode berikutnya, saat kita benar-benar menjalankan fungsinya."
      ]
    },
    {
      "cell_type": "markdown",
      "metadata": {
        "id": "LfmW_Nlu9-bd"
      },
      "source": [
        "Pemanggilan fungsi harus setelah dibuat\n"
      ]
    },
    {
      "cell_type": "code",
      "source": [
        "x = 1/1\n",
        "print (type(x))"
      ],
      "metadata": {
        "colab": {
          "base_uri": "https://localhost:8080/"
        },
        "id": "RjcgHFp7QmAq",
        "outputId": "a730ce25-5bf9-4919-bde2-84e1bd838424"
      },
      "execution_count": null,
      "outputs": [
        {
          "output_type": "stream",
          "name": "stdout",
          "text": [
            "<class 'float'>\n"
          ]
        }
      ]
    },
    {
      "cell_type": "code",
      "source": [
        "'''Membuat fungsi'''\n",
        "\n",
        "def hello_world():\n",
        "    '''fungsi menampilkan hello world'''\n",
        "    print(\"hello world\")\n",
        "    print(\"Kepada Ucup Surucup\")\n",
        "    print(\"Dan juga kepada Otong Surotong\")\n",
        "\n",
        "hello_world()\n",
        "hello_world()\n",
        "\n",
        "# fungsi()\n",
        "\n",
        "def fungsi():\n",
        "    '''pemanggilan fungsi harus setelah dibuat'''\n",
        "    print(\"Ini adalah fungsi\")\n",
        "\n",
        "fungsi()"
      ],
      "metadata": {
        "id": "4tydiknLQoSo"
      },
      "execution_count": null,
      "outputs": []
    },
    {
      "cell_type": "code",
      "source": [
        "''' Fungsi dengan argument (input)'''\n",
        "\n",
        "# Template\n",
        "# def nama_fungsi(argument):\n",
        "#     Badan fungsi\n",
        "\n",
        "\n",
        "def hello_world(nama):\n",
        "    '''fungsi hello world menerima input dengan variable nama'''\n",
        "    print(f\"Selamat datang dunia wahai {nama}\")\n",
        "\n",
        "\n",
        "hello_world(\"ucup\")\n",
        "hello_world(\"Asyep\")\n",
        "\n",
        "# program tambah\n",
        "\n",
        "def tambah(angka_1,angka_2):\n",
        "    '''fungsi tambah'''\n",
        "    hasil = angka_1 + angka_2\n",
        "    print(f\"{angka_1} + {angka_2} = {hasil}\")\n",
        "\n",
        "tambah(1,5)\n",
        "tambah(100000,1)\n",
        "\n",
        "def say_hi(list_peserta):\n",
        "    '''fungsi say hi'''\n",
        "    data_peserta = list_peserta.copy()\n",
        "    for peserta in data_peserta:\n",
        "        print(f\"Yang terhormat {peserta}\")\n",
        "\n",
        "anggota_boyband = [\"Ucup\",\"Otong\",\"Dudung\"]\n",
        "\n",
        "say_hi(anggota_boyband)"
      ],
      "metadata": {
        "id": "Hcl2WGbfQhiq"
      },
      "execution_count": null,
      "outputs": []
    },
    {
      "cell_type": "code",
      "source": [
        "''' Fungsi dengan kembalian'''\n",
        "\n",
        "# template fungsi dengan kembalian\n",
        "# def nama_fungsi(argument):\n",
        "#       badan fungsi\n",
        "#       return output\n",
        "\n",
        "# fungsi kuadrat\n",
        "\n",
        "def kuadrat(input_angka):\n",
        "    '''Fungsi kuadrat'''\n",
        "    output_kuadrat = input_angka**2\n",
        "    return output_kuadrat\n",
        "\n",
        "y = kuadrat(5)\n",
        "print(y)\n",
        "\n",
        "print(kuadrat(6))\n",
        "\n",
        "z = 10 + kuadrat(7)\n",
        "print(z)\n",
        "\n",
        "# fungsi tambah\n",
        "\n",
        "def fungsi_tambah(angka_1,angka_2):\n",
        "    '''fungsi return dengan multi input'''\n",
        "    return angka_1 + angka_2\n",
        "\n",
        "a = fungsi_tambah(10,8)\n",
        "print(a)\n",
        "\n",
        "# fungsi dengan return banyak\n",
        "\n",
        "def operasi_matematika(angka_1,angka_2):\n",
        "    tambah = angka_1 + angka_2\n",
        "    kurang = angka_1 - angka_2\n",
        "    kali = angka_1 * angka_2\n",
        "    bagi = angka_1 / angka_2\n",
        "\n",
        "    return tambah,kurang,kali,bagi\n",
        "\n",
        "k,l,m,n = operasi_matematika(9,5)\n",
        "\n",
        "print(f\"Hasil tambah = {k}\")\n",
        "print(f\"Hasil kurang = {l}\")\n",
        "print(f\"Hasil kali = {m}\")\n",
        "print(f\"Hasil bagi = {n}\")"
      ],
      "metadata": {
        "id": "VnlBD951QwED"
      },
      "execution_count": null,
      "outputs": []
    },
    {
      "cell_type": "code",
      "source": [
        "'''Default argument'''\n",
        "\n",
        "# def fungsi(argument):\n",
        "# def fungsi(argument = nilai defaultnya):\n",
        "\n",
        "# contoh 1\n",
        "def say_hello(nama = \"Ganteng\"):\n",
        "    '''fungsi dengan default argument'''\n",
        "    print(f\"Hallo {nama}\")\n",
        "\n",
        "\n",
        "say_hello(\"Ucup\")\n",
        "say_hello()\n",
        "\n",
        "#contoh 2\n",
        "def sapa_dia(nama, pesan = \"Apa kabar?\"):\n",
        "    '''fungsi dengan satu input biasa, dan satu default argument'''\n",
        "    print(f\"hai {nama}, {pesan}\")\n",
        "\n",
        "sapa_dia(\"Dudung\",\"Hai Ganteeeng\")\n",
        "sapa_dia(\"Otong\")\n",
        "\n",
        "#contoh 3\n",
        "\n",
        "def hitung_pangkat(angka, pangkat=2):\n",
        "    hasil = angka**pangkat\n",
        "    return hasil\n",
        "\n",
        "print(hitung_pangkat(2,4))\n",
        "\n",
        "hasil = hitung_pangkat(pangkat=3, angka=5)\n",
        "print(hasil)\n",
        "\n",
        "# contoh 4\n",
        "\n",
        "\n",
        "def fungsi(input1=1,input2=2,input3=3,input4=4):\n",
        "    hasil = input1 + input2 + input3 + input4\n",
        "    return hasil\n",
        "\n",
        "print(fungsi())\n",
        "print(fungsi(input3=10))"
      ],
      "metadata": {
        "id": "44ERK16cQ0K6"
      },
      "execution_count": null,
      "outputs": []
    },
    {
      "cell_type": "code",
      "source": [
        "'''Latihan Fungsi'''\n",
        "\n",
        "import os\n",
        "\n",
        "# program menghitung luas dan keliling persegi panjang\n",
        "\n",
        "# # Membuat header program\n",
        "# os.system(\"clear\")\n",
        "# # os.system(\"cls\")\n",
        "# print(f\"{'PROGRAM MENGHITUNG LUAS':^40}\")\n",
        "# print(f\"{'DAN KELILING PERSEGI PANJANG':^40}\")\n",
        "# print(f\"{'-'*40:^40}\")\n",
        "\n",
        "# # Mengambil input user\n",
        "# LEBAR = int(input(\"Masukan nilai lebar: \"))\n",
        "# PANJANG = int(input(\"Masukan nilai panjang: \"))\n",
        "\n",
        "# # Program menghitung luas\n",
        "# LUAS = PANJANG*LEBAR\n",
        "# KELILING = 2*(PANJANG+LEBAR)\n",
        "\n",
        "# # tampilkan hasilnya\n",
        "# print(f\"hasil perhitungan luas = {LUAS}\")\n",
        "# print(f\"hasil perhitungan keliling = {KELILING}\")\n",
        "\n",
        "def header():\n",
        "    '''fungsi Header'''\n",
        "    os.system(\"clear\")\n",
        "    # os.system(\"cls\")\n",
        "    print(f\"{'PROGRAM MENGHITUNG LUAS':^40}\")\n",
        "    print(f\"{'DAN KELILING PERSEGI PANJANG':^40}\")\n",
        "    print(f\"{'-'*40:^40}\")\n",
        "\n",
        "def input_user():\n",
        "    '''fungsi input user'''\n",
        "    # Mengambil input user\n",
        "    lebar = int(input(\"Masukan nilai lebar: \"))\n",
        "    panjang = int(input(\"Masukan nilai panjang: \"))\n",
        "\n",
        "    return lebar,panjang\n",
        "\n",
        "def hitung_luas(lebar,panjang):\n",
        "    '''fungsi luas'''\n",
        "    return lebar*panjang\n",
        "\n",
        "def hitung_keliling(lebar,panjang):\n",
        "    '''fungsi keliling'''\n",
        "    return 2*(lebar+panjang)\n",
        "\n",
        "def display(message,value):\n",
        "    '''fungsi display'''\n",
        "    print(f\"hasil perhitungan {message} = {value}\")\n",
        "\n",
        "\n",
        "# Program utamanya\n",
        "while True:\n",
        "    header()\n",
        "    LEBAR,PANJANG = input_user()\n",
        "    LUAS = hitung_luas(LEBAR,PANJANG)\n",
        "    KELILING = hitung_keliling(LEBAR,PANJANG)\n",
        "\n",
        "    display(\"luas\", LUAS)\n",
        "    display(\"keliling\", KELILING)\n",
        "\n",
        "    isContinue = input(\"apakah lanjut (y/n)? \")\n",
        "    if isContinue == \"n\":\n",
        "        break\n",
        "\n",
        "print(\"Program selesai, terima kasih\")"
      ],
      "metadata": {
        "id": "scXBJlXOQ59_"
      },
      "execution_count": null,
      "outputs": []
    },
    {
      "cell_type": "code",
      "source": [
        "1."
      ],
      "metadata": {
        "id": "lG8RgfPsR5jc"
      },
      "execution_count": null,
      "outputs": []
    }
  ],
  "metadata": {
    "colab": {
      "provenance": []
    },
    "kernelspec": {
      "display_name": "Python 3",
      "name": "python3"
    },
    "language_info": {
      "name": "python"
    }
  },
  "nbformat": 4,
  "nbformat_minor": 0
}